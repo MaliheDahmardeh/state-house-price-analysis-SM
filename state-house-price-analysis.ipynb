{
  "nbformat": 4,
  "nbformat_minor": 0,
  "metadata": {
    "colab": {
      "provenance": [],
      "authorship_tag": "ABX9TyN6WCV8xzIisAQEbIrkoKn1",
      "include_colab_link": true
    },
    "kernelspec": {
      "name": "python3",
      "display_name": "Python 3"
    },
    "language_info": {
      "name": "python"
    }
  },
  "cells": [
    {
      "cell_type": "markdown",
      "metadata": {
        "id": "view-in-github",
        "colab_type": "text"
      },
      "source": [
        "<a href=\"https://colab.research.google.com/github/MaliheDahmardeh/state-house-price-analysis-SM/blob/main/state-house-price-analysis.ipynb\" target=\"_parent\"><img src=\"https://colab.research.google.com/assets/colab-badge.svg\" alt=\"Open In Colab\"/></a>"
      ]
    },
    {
      "cell_type": "code",
      "execution_count": 1,
      "metadata": {
        "id": "00P-XpYj8MVb"
      },
      "outputs": [],
      "source": [
        "import numpy as np\n",
        "import pandas as pd\n",
        "from datetime import datetime\n",
        "from dateutil import parser\n",
        "import math\n",
        "import statistics\n",
        "import matplotlib.pyplot as plt\n",
        "import seaborn as sns\n",
        "import plotly.express as px\n",
        "from sklearn.ensemble import RandomForestClassifier\n",
        "from sklearn.model_selection import train_test_split\n",
        "from sklearn import metrics \n",
        "from sklearn.metrics import classification_report\n",
        "from sklearn.metrics import confusion_matrix\n",
        "from sklearn.metrics import accuracy_score\n",
        "from sklearn.preprocessing import StandardScaler"
      ]
    },
    {
      "cell_type": "code",
      "source": [
        "!ls"
      ],
      "metadata": {
        "colab": {
          "base_uri": "https://localhost:8080/"
        },
        "id": "HUidVy8r2Lz_",
        "outputId": "fad94022-e5f1-4d7c-ea79-2c11744bb33e"
      },
      "execution_count": 2,
      "outputs": [
        {
          "output_type": "stream",
          "name": "stdout",
          "text": [
            "sample_data  State_house_prices_ts.csv\n"
          ]
        }
      ]
    },
    {
      "cell_type": "code",
      "source": [
        "df = pd.read_csv('State_house_prices_ts.csv', sep =',',parse_dates=['Date'])"
      ],
      "metadata": {
        "id": "fTMZGi2u2ig7"
      },
      "execution_count": 3,
      "outputs": []
    },
    {
      "cell_type": "code",
      "source": [
        "display(df)\n",
        "display(type(df))\n",
        "display(df.dtypes)"
      ],
      "metadata": {
        "colab": {
          "base_uri": "https://localhost:8080/",
          "height": 840
        },
        "id": "YpiCMfOVa0J3",
        "outputId": "5b34bed0-6894-48c8-b801-d988b20912b4"
      },
      "execution_count": 4,
      "outputs": [
        {
          "output_type": "display_data",
          "data": {
            "text/plain": [
              "            Date    RegionName  Price_1bedroom  Price_2bedroom  \\\n",
              "0     2001-02-28       Alabama         70100.0         58700.0   \n",
              "1     2001-02-28        Alaska         97300.0        126400.0   \n",
              "2     2001-02-28       Arizona         75800.0        110200.0   \n",
              "3     2001-02-28      Arkansas         65100.0         64500.0   \n",
              "4     2001-02-28    California        146900.0        182700.0   \n",
              "...          ...           ...             ...             ...   \n",
              "13207 1999-12-31      Virginia         80800.0         84400.0   \n",
              "13208 1999-12-31    Washington        115300.0        131300.0   \n",
              "13209 1999-12-31  WestVirginia             NaN             NaN   \n",
              "13210 1999-12-31     Wisconsin         80800.0         89800.0   \n",
              "13211 1999-12-31       Wyoming             NaN             NaN   \n",
              "\n",
              "       Price_3bedroom  Price_4bedroom  Price_5BedroomOrMore  \\\n",
              "0             95900.0        178700.0              248100.0   \n",
              "1            177300.0        219800.0              282500.0   \n",
              "2            126600.0        168100.0              250500.0   \n",
              "3             90300.0        156700.0              245300.0   \n",
              "4            218400.0        293700.0              405100.0   \n",
              "...               ...             ...                   ...   \n",
              "13207        114300.0        191000.0              266500.0   \n",
              "13208        164400.0        218700.0              254000.0   \n",
              "13209         60900.0         80200.0               90000.0   \n",
              "13210        114400.0        143400.0              165400.0   \n",
              "13211             NaN        116600.0                   NaN   \n",
              "\n",
              "       Price_SingleFamilyResidence  \n",
              "0                          92500.0  \n",
              "1                         183300.0  \n",
              "2                         136900.0  \n",
              "3                          74400.0  \n",
              "4                         239900.0  \n",
              "...                            ...  \n",
              "13207                     125100.0  \n",
              "13208                     165600.0  \n",
              "13209                      48100.0  \n",
              "13210                     113700.0  \n",
              "13211                     104100.0  \n",
              "\n",
              "[13212 rows x 8 columns]"
            ],
            "text/html": [
              "\n",
              "  <div id=\"df-40eaed7b-eb56-4b64-b60e-a3b2ea7f23f0\">\n",
              "    <div class=\"colab-df-container\">\n",
              "      <div>\n",
              "<style scoped>\n",
              "    .dataframe tbody tr th:only-of-type {\n",
              "        vertical-align: middle;\n",
              "    }\n",
              "\n",
              "    .dataframe tbody tr th {\n",
              "        vertical-align: top;\n",
              "    }\n",
              "\n",
              "    .dataframe thead th {\n",
              "        text-align: right;\n",
              "    }\n",
              "</style>\n",
              "<table border=\"1\" class=\"dataframe\">\n",
              "  <thead>\n",
              "    <tr style=\"text-align: right;\">\n",
              "      <th></th>\n",
              "      <th>Date</th>\n",
              "      <th>RegionName</th>\n",
              "      <th>Price_1bedroom</th>\n",
              "      <th>Price_2bedroom</th>\n",
              "      <th>Price_3bedroom</th>\n",
              "      <th>Price_4bedroom</th>\n",
              "      <th>Price_5BedroomOrMore</th>\n",
              "      <th>Price_SingleFamilyResidence</th>\n",
              "    </tr>\n",
              "  </thead>\n",
              "  <tbody>\n",
              "    <tr>\n",
              "      <th>0</th>\n",
              "      <td>2001-02-28</td>\n",
              "      <td>Alabama</td>\n",
              "      <td>70100.0</td>\n",
              "      <td>58700.0</td>\n",
              "      <td>95900.0</td>\n",
              "      <td>178700.0</td>\n",
              "      <td>248100.0</td>\n",
              "      <td>92500.0</td>\n",
              "    </tr>\n",
              "    <tr>\n",
              "      <th>1</th>\n",
              "      <td>2001-02-28</td>\n",
              "      <td>Alaska</td>\n",
              "      <td>97300.0</td>\n",
              "      <td>126400.0</td>\n",
              "      <td>177300.0</td>\n",
              "      <td>219800.0</td>\n",
              "      <td>282500.0</td>\n",
              "      <td>183300.0</td>\n",
              "    </tr>\n",
              "    <tr>\n",
              "      <th>2</th>\n",
              "      <td>2001-02-28</td>\n",
              "      <td>Arizona</td>\n",
              "      <td>75800.0</td>\n",
              "      <td>110200.0</td>\n",
              "      <td>126600.0</td>\n",
              "      <td>168100.0</td>\n",
              "      <td>250500.0</td>\n",
              "      <td>136900.0</td>\n",
              "    </tr>\n",
              "    <tr>\n",
              "      <th>3</th>\n",
              "      <td>2001-02-28</td>\n",
              "      <td>Arkansas</td>\n",
              "      <td>65100.0</td>\n",
              "      <td>64500.0</td>\n",
              "      <td>90300.0</td>\n",
              "      <td>156700.0</td>\n",
              "      <td>245300.0</td>\n",
              "      <td>74400.0</td>\n",
              "    </tr>\n",
              "    <tr>\n",
              "      <th>4</th>\n",
              "      <td>2001-02-28</td>\n",
              "      <td>California</td>\n",
              "      <td>146900.0</td>\n",
              "      <td>182700.0</td>\n",
              "      <td>218400.0</td>\n",
              "      <td>293700.0</td>\n",
              "      <td>405100.0</td>\n",
              "      <td>239900.0</td>\n",
              "    </tr>\n",
              "    <tr>\n",
              "      <th>...</th>\n",
              "      <td>...</td>\n",
              "      <td>...</td>\n",
              "      <td>...</td>\n",
              "      <td>...</td>\n",
              "      <td>...</td>\n",
              "      <td>...</td>\n",
              "      <td>...</td>\n",
              "      <td>...</td>\n",
              "    </tr>\n",
              "    <tr>\n",
              "      <th>13207</th>\n",
              "      <td>1999-12-31</td>\n",
              "      <td>Virginia</td>\n",
              "      <td>80800.0</td>\n",
              "      <td>84400.0</td>\n",
              "      <td>114300.0</td>\n",
              "      <td>191000.0</td>\n",
              "      <td>266500.0</td>\n",
              "      <td>125100.0</td>\n",
              "    </tr>\n",
              "    <tr>\n",
              "      <th>13208</th>\n",
              "      <td>1999-12-31</td>\n",
              "      <td>Washington</td>\n",
              "      <td>115300.0</td>\n",
              "      <td>131300.0</td>\n",
              "      <td>164400.0</td>\n",
              "      <td>218700.0</td>\n",
              "      <td>254000.0</td>\n",
              "      <td>165600.0</td>\n",
              "    </tr>\n",
              "    <tr>\n",
              "      <th>13209</th>\n",
              "      <td>1999-12-31</td>\n",
              "      <td>WestVirginia</td>\n",
              "      <td>NaN</td>\n",
              "      <td>NaN</td>\n",
              "      <td>60900.0</td>\n",
              "      <td>80200.0</td>\n",
              "      <td>90000.0</td>\n",
              "      <td>48100.0</td>\n",
              "    </tr>\n",
              "    <tr>\n",
              "      <th>13210</th>\n",
              "      <td>1999-12-31</td>\n",
              "      <td>Wisconsin</td>\n",
              "      <td>80800.0</td>\n",
              "      <td>89800.0</td>\n",
              "      <td>114400.0</td>\n",
              "      <td>143400.0</td>\n",
              "      <td>165400.0</td>\n",
              "      <td>113700.0</td>\n",
              "    </tr>\n",
              "    <tr>\n",
              "      <th>13211</th>\n",
              "      <td>1999-12-31</td>\n",
              "      <td>Wyoming</td>\n",
              "      <td>NaN</td>\n",
              "      <td>NaN</td>\n",
              "      <td>NaN</td>\n",
              "      <td>116600.0</td>\n",
              "      <td>NaN</td>\n",
              "      <td>104100.0</td>\n",
              "    </tr>\n",
              "  </tbody>\n",
              "</table>\n",
              "<p>13212 rows × 8 columns</p>\n",
              "</div>\n",
              "      <button class=\"colab-df-convert\" onclick=\"convertToInteractive('df-40eaed7b-eb56-4b64-b60e-a3b2ea7f23f0')\"\n",
              "              title=\"Convert this dataframe to an interactive table.\"\n",
              "              style=\"display:none;\">\n",
              "        \n",
              "  <svg xmlns=\"http://www.w3.org/2000/svg\" height=\"24px\"viewBox=\"0 0 24 24\"\n",
              "       width=\"24px\">\n",
              "    <path d=\"M0 0h24v24H0V0z\" fill=\"none\"/>\n",
              "    <path d=\"M18.56 5.44l.94 2.06.94-2.06 2.06-.94-2.06-.94-.94-2.06-.94 2.06-2.06.94zm-11 1L8.5 8.5l.94-2.06 2.06-.94-2.06-.94L8.5 2.5l-.94 2.06-2.06.94zm10 10l.94 2.06.94-2.06 2.06-.94-2.06-.94-.94-2.06-.94 2.06-2.06.94z\"/><path d=\"M17.41 7.96l-1.37-1.37c-.4-.4-.92-.59-1.43-.59-.52 0-1.04.2-1.43.59L10.3 9.45l-7.72 7.72c-.78.78-.78 2.05 0 2.83L4 21.41c.39.39.9.59 1.41.59.51 0 1.02-.2 1.41-.59l7.78-7.78 2.81-2.81c.8-.78.8-2.07 0-2.86zM5.41 20L4 18.59l7.72-7.72 1.47 1.35L5.41 20z\"/>\n",
              "  </svg>\n",
              "      </button>\n",
              "      \n",
              "  <style>\n",
              "    .colab-df-container {\n",
              "      display:flex;\n",
              "      flex-wrap:wrap;\n",
              "      gap: 12px;\n",
              "    }\n",
              "\n",
              "    .colab-df-convert {\n",
              "      background-color: #E8F0FE;\n",
              "      border: none;\n",
              "      border-radius: 50%;\n",
              "      cursor: pointer;\n",
              "      display: none;\n",
              "      fill: #1967D2;\n",
              "      height: 32px;\n",
              "      padding: 0 0 0 0;\n",
              "      width: 32px;\n",
              "    }\n",
              "\n",
              "    .colab-df-convert:hover {\n",
              "      background-color: #E2EBFA;\n",
              "      box-shadow: 0px 1px 2px rgba(60, 64, 67, 0.3), 0px 1px 3px 1px rgba(60, 64, 67, 0.15);\n",
              "      fill: #174EA6;\n",
              "    }\n",
              "\n",
              "    [theme=dark] .colab-df-convert {\n",
              "      background-color: #3B4455;\n",
              "      fill: #D2E3FC;\n",
              "    }\n",
              "\n",
              "    [theme=dark] .colab-df-convert:hover {\n",
              "      background-color: #434B5C;\n",
              "      box-shadow: 0px 1px 3px 1px rgba(0, 0, 0, 0.15);\n",
              "      filter: drop-shadow(0px 1px 2px rgba(0, 0, 0, 0.3));\n",
              "      fill: #FFFFFF;\n",
              "    }\n",
              "  </style>\n",
              "\n",
              "      <script>\n",
              "        const buttonEl =\n",
              "          document.querySelector('#df-40eaed7b-eb56-4b64-b60e-a3b2ea7f23f0 button.colab-df-convert');\n",
              "        buttonEl.style.display =\n",
              "          google.colab.kernel.accessAllowed ? 'block' : 'none';\n",
              "\n",
              "        async function convertToInteractive(key) {\n",
              "          const element = document.querySelector('#df-40eaed7b-eb56-4b64-b60e-a3b2ea7f23f0');\n",
              "          const dataTable =\n",
              "            await google.colab.kernel.invokeFunction('convertToInteractive',\n",
              "                                                     [key], {});\n",
              "          if (!dataTable) return;\n",
              "\n",
              "          const docLinkHtml = 'Like what you see? Visit the ' +\n",
              "            '<a target=\"_blank\" href=https://colab.research.google.com/notebooks/data_table.ipynb>data table notebook</a>'\n",
              "            + ' to learn more about interactive tables.';\n",
              "          element.innerHTML = '';\n",
              "          dataTable['output_type'] = 'display_data';\n",
              "          await google.colab.output.renderOutput(dataTable, element);\n",
              "          const docLink = document.createElement('div');\n",
              "          docLink.innerHTML = docLinkHtml;\n",
              "          element.appendChild(docLink);\n",
              "        }\n",
              "      </script>\n",
              "    </div>\n",
              "  </div>\n",
              "  "
            ]
          },
          "metadata": {}
        },
        {
          "output_type": "display_data",
          "data": {
            "text/plain": [
              "pandas.core.frame.DataFrame"
            ]
          },
          "metadata": {}
        },
        {
          "output_type": "display_data",
          "data": {
            "text/plain": [
              "Date                           datetime64[ns]\n",
              "RegionName                             object\n",
              "Price_1bedroom                        float64\n",
              "Price_2bedroom                        float64\n",
              "Price_3bedroom                        float64\n",
              "Price_4bedroom                        float64\n",
              "Price_5BedroomOrMore                  float64\n",
              "Price_SingleFamilyResidence           float64\n",
              "dtype: object"
            ]
          },
          "metadata": {}
        }
      ]
    },
    {
      "cell_type": "code",
      "source": [
        "df.info()"
      ],
      "metadata": {
        "colab": {
          "base_uri": "https://localhost:8080/"
        },
        "id": "Xkvxq9GRBC1f",
        "outputId": "5fb0d042-02c3-4b38-a7b7-ef329177dff3"
      },
      "execution_count": 5,
      "outputs": [
        {
          "output_type": "stream",
          "name": "stdout",
          "text": [
            "<class 'pandas.core.frame.DataFrame'>\n",
            "RangeIndex: 13212 entries, 0 to 13211\n",
            "Data columns (total 8 columns):\n",
            " #   Column                       Non-Null Count  Dtype         \n",
            "---  ------                       --------------  -----         \n",
            " 0   Date                         13212 non-null  datetime64[ns]\n",
            " 1   RegionName                   13212 non-null  object        \n",
            " 2   Price_1bedroom               10605 non-null  float64       \n",
            " 3   Price_2bedroom               11745 non-null  float64       \n",
            " 4   Price_3bedroom               12787 non-null  float64       \n",
            " 5   Price_4bedroom               12359 non-null  float64       \n",
            " 6   Price_5BedroomOrMore         11814 non-null  float64       \n",
            " 7   Price_SingleFamilyResidence  12438 non-null  float64       \n",
            "dtypes: datetime64[ns](1), float64(6), object(1)\n",
            "memory usage: 825.9+ KB\n"
          ]
        }
      ]
    },
    {
      "cell_type": "code",
      "source": [
        "df.duplicated().sum()  "
      ],
      "metadata": {
        "colab": {
          "base_uri": "https://localhost:8080/"
        },
        "id": "ocE2gwyAKabb",
        "outputId": "1cfe1869-7bd0-4369-e015-be97510406fe"
      },
      "execution_count": 6,
      "outputs": [
        {
          "output_type": "execute_result",
          "data": {
            "text/plain": [
              "0"
            ]
          },
          "metadata": {},
          "execution_count": 6
        }
      ]
    },
    {
      "cell_type": "code",
      "source": [
        "df.isnull().sum()"
      ],
      "metadata": {
        "id": "6SPfvvKqKsmC",
        "colab": {
          "base_uri": "https://localhost:8080/"
        },
        "outputId": "7b1d8145-c2bf-481d-9076-01705dc423f1"
      },
      "execution_count": 7,
      "outputs": [
        {
          "output_type": "execute_result",
          "data": {
            "text/plain": [
              "Date                              0\n",
              "RegionName                        0\n",
              "Price_1bedroom                 2607\n",
              "Price_2bedroom                 1467\n",
              "Price_3bedroom                  425\n",
              "Price_4bedroom                  853\n",
              "Price_5BedroomOrMore           1398\n",
              "Price_SingleFamilyResidence     774\n",
              "dtype: int64"
            ]
          },
          "metadata": {},
          "execution_count": 7
        }
      ]
    },
    {
      "cell_type": "code",
      "source": [
        "print(df.groupby('RegionName').median())     "
      ],
      "metadata": {
        "id": "lggO_LOolT1C",
        "outputId": "ca38ef6c-a9d6-4a1e-b791-d09364ea4cce",
        "colab": {
          "base_uri": "https://localhost:8080/"
        }
      },
      "execution_count": 53,
      "outputs": [
        {
          "output_type": "stream",
          "name": "stdout",
          "text": [
            "                    Price_1bedroom  Price_2bedroom  Price_3bedroom  \\\n",
            "RegionName                                                           \n",
            "Alabama                    88100.0         69700.0        116800.0   \n",
            "Alaska                    124550.0        175550.0        251100.0   \n",
            "Arizona                    87100.0        133100.0        150800.0   \n",
            "Arkansas                   80200.0         81500.0        122500.0   \n",
            "California                219500.0        273000.0        316100.0   \n",
            "Colorado                  134300.0        163600.0        210600.0   \n",
            "Connecticut               118800.0        167600.0        231400.0   \n",
            "Delaware                  122400.0        144400.0        182600.0   \n",
            "DistrictofColumbia        323200.0        386500.0        353500.0   \n",
            "Florida                    72500.0        103800.0        147800.0   \n",
            "Georgia                   120600.0         92800.0        123800.0   \n",
            "Hawaii                    275800.0        339700.0        446600.0   \n",
            "Idaho                     105300.0        109300.0        134500.0   \n",
            "Illinois                  119200.0        120800.0        151500.0   \n",
            "Indiana                    61100.0         71200.0        113800.0   \n",
            "Iowa                       76100.0         87800.0        116600.0   \n",
            "Kansas                     51600.0         66300.0        115500.0   \n",
            "Kentucky                   75600.0         94200.0        121700.0   \n",
            "Louisiana                  63000.0             NaN        127200.0   \n",
            "Maine                     156000.0        170900.0        198900.0   \n",
            "Maryland                  147500.0        168300.0        217800.0   \n",
            "Massachusetts             200200.0        232400.0        289500.0   \n",
            "Michigan                   81700.0         96200.0        132000.0   \n",
            "Minnesota                 111500.0        147300.0        179100.0   \n",
            "Mississippi                    NaN             NaN        100900.0   \n",
            "Missouri                   71800.0         87000.0        133400.0   \n",
            "Montana                   114900.0        138700.0        177100.0   \n",
            "Nebraska                   71800.0         88200.0        125100.0   \n",
            "Nevada                         NaN        116800.0        159000.0   \n",
            "NewHampshire              106600.0        162700.0        221000.0   \n",
            "NewJersey                 175300.0        209100.0        259900.0   \n",
            "NewMexico                      NaN        113400.0        144200.0   \n",
            "NewYork                   150400.0        119300.0        136900.0   \n",
            "NorthCarolina              93000.0         90500.0        134600.0   \n",
            "NorthDakota                    NaN        147300.0        206700.0   \n",
            "Ohio                       63600.0         78800.0        111900.0   \n",
            "Oklahoma                   39500.0         46800.0         89300.0   \n",
            "Oregon                    148800.0        162500.0        196800.0   \n",
            "Pennsylvania              101900.0        113900.0        143300.0   \n",
            "RhodeIsland               149400.0        179200.0        218900.0   \n",
            "SouthCarolina              81000.0         88200.0        132100.0   \n",
            "SouthDakota                81050.0        117350.0        137000.0   \n",
            "Tennessee                  92700.0         81600.0        121100.0   \n",
            "Texas                          NaN             NaN        113800.0   \n",
            "UnitedStates                   NaN             NaN             NaN   \n",
            "Utah                           NaN        135200.0        170900.0   \n",
            "Vermont                   154450.0        174450.0        213950.0   \n",
            "Virginia                  185300.0        148900.0        189800.0   \n",
            "Washington                160400.0        181600.0        227500.0   \n",
            "WestVirginia                   NaN             NaN         81300.0   \n",
            "Wisconsin                  95300.0        108600.0        144500.0   \n",
            "Wyoming                        NaN        154400.0        200300.0   \n",
            "\n",
            "                    Price_4bedroom  Price_5BedroomOrMore  \\\n",
            "RegionName                                                 \n",
            "Alabama                   218900.0              316200.0   \n",
            "Alaska                    319600.0              416800.0   \n",
            "Arizona                   203900.0              315600.0   \n",
            "Arkansas                  212100.0              323900.0   \n",
            "California                415200.0              565900.0   \n",
            "Colorado                  293000.0              361200.0   \n",
            "Connecticut               356200.0              570300.0   \n",
            "Delaware                  284200.0              343600.0   \n",
            "DistrictofColumbia        567300.0             1123400.0   \n",
            "Florida                   227600.0              363000.0   \n",
            "Georgia                   210200.0              315100.0   \n",
            "Hawaii                    596500.0              712900.0   \n",
            "Idaho                     169900.0              213200.0   \n",
            "Illinois                  252300.0              340900.0   \n",
            "Indiana                   168000.0              195200.0   \n",
            "Iowa                      137900.0              218200.0   \n",
            "Kansas                         NaN                   NaN   \n",
            "Kentucky                  195800.0              229200.0   \n",
            "Louisiana                      NaN              329000.0   \n",
            "Maine                     244900.0              318300.0   \n",
            "Maryland                  336200.0              464700.0   \n",
            "Massachusetts             410800.0              563700.0   \n",
            "Michigan                  231300.0              231800.0   \n",
            "Minnesota                 231300.0              297600.0   \n",
            "Mississippi               174100.0              180800.0   \n",
            "Missouri                  232000.0              277900.0   \n",
            "Montana                   201100.0              238750.0   \n",
            "Nebraska                  188200.0              162600.0   \n",
            "Nevada                    208600.0              289600.0   \n",
            "NewHampshire              290300.0              328800.0   \n",
            "NewJersey                 368400.0              487800.0   \n",
            "NewMexico                 211600.0              281700.0   \n",
            "NewYork                   224700.0              320600.0   \n",
            "NorthCarolina             234100.0              301200.0   \n",
            "NorthDakota               196000.0              298800.0   \n",
            "Ohio                      180500.0              205600.0   \n",
            "Oklahoma                  162700.0              191000.0   \n",
            "Oregon                    272500.0              318400.0   \n",
            "Pennsylvania              257800.0              265100.0   \n",
            "RhodeIsland               318500.0              426200.0   \n",
            "SouthCarolina             217900.0                   NaN   \n",
            "SouthDakota               160200.0              212000.0   \n",
            "Tennessee                 210300.0              317600.0   \n",
            "Texas                     187400.0                   NaN   \n",
            "UnitedStates                   NaN                   NaN   \n",
            "Utah                      199200.0              254400.0   \n",
            "Vermont                   272850.0              313350.0   \n",
            "Virginia                  325500.0              471800.0   \n",
            "Washington                309200.0              374600.0   \n",
            "WestVirginia              117600.0              123900.0   \n",
            "Wisconsin                 186000.0              219400.0   \n",
            "Wyoming                   213600.0              271200.0   \n",
            "\n",
            "                    Price_SingleFamilyResidence  \n",
            "RegionName                                       \n",
            "Alabama                                115600.0  \n",
            "Alaska                                 254300.0  \n",
            "Arizona                                165300.0  \n",
            "Arkansas                               102400.0  \n",
            "California                             344000.0  \n",
            "Colorado                               222300.0  \n",
            "Connecticut                            253800.0  \n",
            "Delaware                               190800.0  \n",
            "DistrictofColumbia                     372900.0  \n",
            "Florida                                154300.0  \n",
            "Georgia                                132300.0  \n",
            "Hawaii                                 535100.0  \n",
            "Idaho                                  144600.0  \n",
            "Illinois                               153100.0  \n",
            "Indiana                                110700.0  \n",
            "Iowa                                    90400.0  \n",
            "Kansas                                 115000.0  \n",
            "Kentucky                               115700.0  \n",
            "Louisiana                                   NaN  \n",
            "Maine                                  180100.0  \n",
            "Maryland                               245000.0  \n",
            "Massachusetts                          308500.0  \n",
            "Michigan                               113800.0  \n",
            "Minnesota                              174400.0  \n",
            "Mississippi                             94900.0  \n",
            "Missouri                               129100.0  \n",
            "Montana                                171800.0  \n",
            "Nebraska                               120900.0  \n",
            "Nevada                                 179400.0  \n",
            "NewHampshire                           221500.0  \n",
            "NewJersey                              281300.0  \n",
            "NewMexico                              159700.0  \n",
            "NewYork                                238300.0  \n",
            "NorthCarolina                          137900.0  \n",
            "NorthDakota                            164900.0  \n",
            "Ohio                                   113800.0  \n",
            "Oklahoma                                84900.0  \n",
            "Oregon                                 204700.0  \n",
            "Pennsylvania                           149400.0  \n",
            "RhodeIsland                            222200.0  \n",
            "SouthCarolina                          122200.0  \n",
            "SouthDakota                            136650.0  \n",
            "Tennessee                              113000.0  \n",
            "Texas                                  124000.0  \n",
            "UnitedStates                                NaN  \n",
            "Utah                                   186900.0  \n",
            "Vermont                                208300.0  \n",
            "Virginia                               206500.0  \n",
            "Washington                             234200.0  \n",
            "WestVirginia                            64300.0  \n",
            "Wisconsin                              146000.0  \n",
            "Wyoming                                178800.0  \n"
          ]
        }
      ]
    },
    {
      "cell_type": "code",
      "source": [
        "#number=df.groupby('RegionName').count()[['Price_1bedroom','Price_2bedroom','Price_3bedroom','Price_3bedroom','Price_5BedroomOrMore','Price_SingleFamilyResidence']].reset_index()\n",
        "#display(type(number))\n",
        "#number"
      ],
      "metadata": {
        "id": "HcEAyPObPb8J"
      },
      "execution_count": null,
      "outputs": []
    },
    {
      "cell_type": "code",
      "source": [
        "Region = df['RegionName'].unique().tolist()\n",
        "Region"
      ],
      "metadata": {
        "id": "JRebrmSzeC_4"
      },
      "execution_count": null,
      "outputs": []
    },
    {
      "cell_type": "code",
      "source": [
        "def calc_count(variable,value):\n",
        "  for variable in Region :\n",
        "    a = df.groupby('RegionName').count()[value].reset_index()\n",
        "    b = a.loc[(a[\"RegionName\"]== variable)]\n",
        "    c = a[value]\n",
        "    return c\n",
        "m= calc_count(\"Alabama\",'Price_1bedroom')\n",
        "m"
      ],
      "metadata": {
        "id": "K5eKehPtU8QG"
      },
      "execution_count": null,
      "outputs": []
    },
    {
      "cell_type": "code",
      "source": [
        "house_type = ['Price_1bedroom','Price_2bedroom','Price_3bedroom','Price_3bedroom','Price_5BedroomOrMore','Price_SingleFamilyResidence']\n",
        "#display(house_type)\n",
        "#display(type(house_type))"
      ],
      "metadata": {
        "id": "YudfWTi730Gs"
      },
      "execution_count": 28,
      "outputs": []
    },
    {
      "cell_type": "code",
      "source": [
        "# Median --> Returns the middle data point in a data set \n",
        "def calc_median(variable,value):\n",
        "  n = calc_count(variable,value)\n",
        "  if   n%2 == 1: # n is odd \n",
        "        df = np.sort(variable)\n",
        "        df_var = df[(n)//2]\n",
        "  elif n%2 == 0: # n is even \n",
        "        df = np.sort(variable)\n",
        "        df_var = (df[n//2-1] + df[(n//2)])/2 # be careful with Python indexes, starting from 0 \n",
        "  return df_var\n",
        "\n",
        "T5 = calc_median(\"RegionName\",'Price_1bedroom')\n",
        "T5"
      ],
      "metadata": {
        "id": "QIppD9y4rQDP",
        "colab": {
          "base_uri": "https://localhost:8080/",
          "height": 372
        },
        "outputId": "d0b246bc-49e6-49ca-bb35-0026c854f4ea"
      },
      "execution_count": 48,
      "outputs": [
        {
          "output_type": "error",
          "ename": "ValueError",
          "evalue": "ignored",
          "traceback": [
            "\u001b[0;31m---------------------------------------------------------------------------\u001b[0m",
            "\u001b[0;31mValueError\u001b[0m                                Traceback (most recent call last)",
            "\u001b[0;32m<ipython-input-48-144564977a7f>\u001b[0m in \u001b[0;36m<module>\u001b[0;34m\u001b[0m\n\u001b[1;32m     10\u001b[0m   \u001b[0;32mreturn\u001b[0m \u001b[0mdf_var\u001b[0m\u001b[0;34m\u001b[0m\u001b[0;34m\u001b[0m\u001b[0m\n\u001b[1;32m     11\u001b[0m \u001b[0;34m\u001b[0m\u001b[0m\n\u001b[0;32m---> 12\u001b[0;31m \u001b[0mT5\u001b[0m \u001b[0;34m=\u001b[0m \u001b[0mcalc_median\u001b[0m\u001b[0;34m(\u001b[0m\u001b[0;34m\"RegionName\"\u001b[0m\u001b[0;34m,\u001b[0m\u001b[0;34m'Price_1bedroom'\u001b[0m\u001b[0;34m)\u001b[0m\u001b[0;34m\u001b[0m\u001b[0;34m\u001b[0m\u001b[0m\n\u001b[0m\u001b[1;32m     13\u001b[0m \u001b[0mT5\u001b[0m\u001b[0;34m\u001b[0m\u001b[0;34m\u001b[0m\u001b[0m\n",
            "\u001b[0;32m<ipython-input-48-144564977a7f>\u001b[0m in \u001b[0;36mcalc_median\u001b[0;34m(variable, value)\u001b[0m\n\u001b[1;32m      2\u001b[0m \u001b[0;32mdef\u001b[0m \u001b[0mcalc_median\u001b[0m\u001b[0;34m(\u001b[0m\u001b[0mvariable\u001b[0m\u001b[0;34m,\u001b[0m\u001b[0mvalue\u001b[0m\u001b[0;34m)\u001b[0m\u001b[0;34m:\u001b[0m\u001b[0;34m\u001b[0m\u001b[0;34m\u001b[0m\u001b[0m\n\u001b[1;32m      3\u001b[0m   \u001b[0mn\u001b[0m \u001b[0;34m=\u001b[0m \u001b[0mcalc_count\u001b[0m\u001b[0;34m(\u001b[0m\u001b[0mvariable\u001b[0m\u001b[0;34m,\u001b[0m\u001b[0mvalue\u001b[0m\u001b[0;34m)\u001b[0m\u001b[0;34m\u001b[0m\u001b[0;34m\u001b[0m\u001b[0m\n\u001b[0;32m----> 4\u001b[0;31m   \u001b[0;32mif\u001b[0m   \u001b[0mn\u001b[0m\u001b[0;34m%\u001b[0m\u001b[0;36m2\u001b[0m \u001b[0;34m==\u001b[0m \u001b[0;36m1\u001b[0m\u001b[0;34m:\u001b[0m \u001b[0;31m# n is odd\u001b[0m\u001b[0;34m\u001b[0m\u001b[0;34m\u001b[0m\u001b[0m\n\u001b[0m\u001b[1;32m      5\u001b[0m         \u001b[0mdf\u001b[0m \u001b[0;34m=\u001b[0m \u001b[0mnp\u001b[0m\u001b[0;34m.\u001b[0m\u001b[0msort\u001b[0m\u001b[0;34m(\u001b[0m\u001b[0mvariable\u001b[0m\u001b[0;34m)\u001b[0m\u001b[0;34m\u001b[0m\u001b[0;34m\u001b[0m\u001b[0m\n\u001b[1;32m      6\u001b[0m         \u001b[0mdf_var\u001b[0m \u001b[0;34m=\u001b[0m \u001b[0mdf\u001b[0m\u001b[0;34m[\u001b[0m\u001b[0;34m(\u001b[0m\u001b[0mn\u001b[0m\u001b[0;34m)\u001b[0m\u001b[0;34m//\u001b[0m\u001b[0;36m2\u001b[0m\u001b[0;34m]\u001b[0m\u001b[0;34m\u001b[0m\u001b[0;34m\u001b[0m\u001b[0m\n",
            "\u001b[0;32m/usr/local/lib/python3.8/dist-packages/pandas/core/generic.py\u001b[0m in \u001b[0;36m__nonzero__\u001b[0;34m(self)\u001b[0m\n\u001b[1;32m   1535\u001b[0m     \u001b[0;34m@\u001b[0m\u001b[0mfinal\u001b[0m\u001b[0;34m\u001b[0m\u001b[0;34m\u001b[0m\u001b[0m\n\u001b[1;32m   1536\u001b[0m     \u001b[0;32mdef\u001b[0m \u001b[0m__nonzero__\u001b[0m\u001b[0;34m(\u001b[0m\u001b[0mself\u001b[0m\u001b[0;34m)\u001b[0m\u001b[0;34m:\u001b[0m\u001b[0;34m\u001b[0m\u001b[0;34m\u001b[0m\u001b[0m\n\u001b[0;32m-> 1537\u001b[0;31m         raise ValueError(\n\u001b[0m\u001b[1;32m   1538\u001b[0m             \u001b[0;34mf\"The truth value of a {type(self).__name__} is ambiguous. \"\u001b[0m\u001b[0;34m\u001b[0m\u001b[0;34m\u001b[0m\u001b[0m\n\u001b[1;32m   1539\u001b[0m             \u001b[0;34m\"Use a.empty, a.bool(), a.item(), a.any() or a.all().\"\u001b[0m\u001b[0;34m\u001b[0m\u001b[0;34m\u001b[0m\u001b[0m\n",
            "\u001b[0;31mValueError\u001b[0m: The truth value of a Series is ambiguous. Use a.empty, a.bool(), a.item(), a.any() or a.all()."
          ]
        }
      ]
    },
    {
      "cell_type": "code",
      "source": [],
      "metadata": {
        "id": "I-81j2I6-_7o"
      },
      "execution_count": null,
      "outputs": []
    },
    {
      "cell_type": "code",
      "source": [
        "df.describe()"
      ],
      "metadata": {
        "colab": {
          "base_uri": "https://localhost:8080/",
          "height": 364
        },
        "id": "hEgNGuM8FGEx",
        "outputId": "ba344d9c-4e55-4d33-bfed-6003ce83ac99"
      },
      "execution_count": null,
      "outputs": [
        {
          "output_type": "execute_result",
          "data": {
            "text/plain": [
              "       Price_1bedroom  Price_2bedroom  Price_3bedroom  Price_4bedroom  \\\n",
              "count    10605.000000    11745.000000    12787.000000    12359.000000   \n",
              "mean    117060.424328   135168.803746   167062.798154   243829.670685   \n",
              "std      61056.036728    72267.645405    80212.505902   106216.755129   \n",
              "min      30900.000000    32800.000000    49600.000000    64700.000000   \n",
              "25%      74600.000000    86700.000000   116400.000000   174900.000000   \n",
              "50%     100400.000000   115400.000000   141200.000000   218000.000000   \n",
              "75%     142300.000000   166800.000000   204400.000000   281000.000000   \n",
              "max     390200.000000   542400.000000   639700.000000   850400.000000   \n",
              "\n",
              "       Price_5BedroomOrMore  Price_SingleFamilyResidence  \n",
              "count          1.181400e+04                 12438.000000  \n",
              "mean           3.237335e+05                174154.381733  \n",
              "std            1.702917e+05                 92243.367198  \n",
              "min            6.860000e+04                 37900.000000  \n",
              "25%            2.179000e+05                115000.000000  \n",
              "50%            2.880000e+05                147300.000000  \n",
              "75%            3.653000e+05                211775.000000  \n",
              "max            1.497000e+06                737500.000000  "
            ],
            "text/html": [
              "\n",
              "  <div id=\"df-2869a96e-e52c-48ca-99f5-64e3e645e2a7\">\n",
              "    <div class=\"colab-df-container\">\n",
              "      <div>\n",
              "<style scoped>\n",
              "    .dataframe tbody tr th:only-of-type {\n",
              "        vertical-align: middle;\n",
              "    }\n",
              "\n",
              "    .dataframe tbody tr th {\n",
              "        vertical-align: top;\n",
              "    }\n",
              "\n",
              "    .dataframe thead th {\n",
              "        text-align: right;\n",
              "    }\n",
              "</style>\n",
              "<table border=\"1\" class=\"dataframe\">\n",
              "  <thead>\n",
              "    <tr style=\"text-align: right;\">\n",
              "      <th></th>\n",
              "      <th>Price_1bedroom</th>\n",
              "      <th>Price_2bedroom</th>\n",
              "      <th>Price_3bedroom</th>\n",
              "      <th>Price_4bedroom</th>\n",
              "      <th>Price_5BedroomOrMore</th>\n",
              "      <th>Price_SingleFamilyResidence</th>\n",
              "    </tr>\n",
              "  </thead>\n",
              "  <tbody>\n",
              "    <tr>\n",
              "      <th>count</th>\n",
              "      <td>10605.000000</td>\n",
              "      <td>11745.000000</td>\n",
              "      <td>12787.000000</td>\n",
              "      <td>12359.000000</td>\n",
              "      <td>1.181400e+04</td>\n",
              "      <td>12438.000000</td>\n",
              "    </tr>\n",
              "    <tr>\n",
              "      <th>mean</th>\n",
              "      <td>117060.424328</td>\n",
              "      <td>135168.803746</td>\n",
              "      <td>167062.798154</td>\n",
              "      <td>243829.670685</td>\n",
              "      <td>3.237335e+05</td>\n",
              "      <td>174154.381733</td>\n",
              "    </tr>\n",
              "    <tr>\n",
              "      <th>std</th>\n",
              "      <td>61056.036728</td>\n",
              "      <td>72267.645405</td>\n",
              "      <td>80212.505902</td>\n",
              "      <td>106216.755129</td>\n",
              "      <td>1.702917e+05</td>\n",
              "      <td>92243.367198</td>\n",
              "    </tr>\n",
              "    <tr>\n",
              "      <th>min</th>\n",
              "      <td>30900.000000</td>\n",
              "      <td>32800.000000</td>\n",
              "      <td>49600.000000</td>\n",
              "      <td>64700.000000</td>\n",
              "      <td>6.860000e+04</td>\n",
              "      <td>37900.000000</td>\n",
              "    </tr>\n",
              "    <tr>\n",
              "      <th>25%</th>\n",
              "      <td>74600.000000</td>\n",
              "      <td>86700.000000</td>\n",
              "      <td>116400.000000</td>\n",
              "      <td>174900.000000</td>\n",
              "      <td>2.179000e+05</td>\n",
              "      <td>115000.000000</td>\n",
              "    </tr>\n",
              "    <tr>\n",
              "      <th>50%</th>\n",
              "      <td>100400.000000</td>\n",
              "      <td>115400.000000</td>\n",
              "      <td>141200.000000</td>\n",
              "      <td>218000.000000</td>\n",
              "      <td>2.880000e+05</td>\n",
              "      <td>147300.000000</td>\n",
              "    </tr>\n",
              "    <tr>\n",
              "      <th>75%</th>\n",
              "      <td>142300.000000</td>\n",
              "      <td>166800.000000</td>\n",
              "      <td>204400.000000</td>\n",
              "      <td>281000.000000</td>\n",
              "      <td>3.653000e+05</td>\n",
              "      <td>211775.000000</td>\n",
              "    </tr>\n",
              "    <tr>\n",
              "      <th>max</th>\n",
              "      <td>390200.000000</td>\n",
              "      <td>542400.000000</td>\n",
              "      <td>639700.000000</td>\n",
              "      <td>850400.000000</td>\n",
              "      <td>1.497000e+06</td>\n",
              "      <td>737500.000000</td>\n",
              "    </tr>\n",
              "  </tbody>\n",
              "</table>\n",
              "</div>\n",
              "      <button class=\"colab-df-convert\" onclick=\"convertToInteractive('df-2869a96e-e52c-48ca-99f5-64e3e645e2a7')\"\n",
              "              title=\"Convert this dataframe to an interactive table.\"\n",
              "              style=\"display:none;\">\n",
              "        \n",
              "  <svg xmlns=\"http://www.w3.org/2000/svg\" height=\"24px\"viewBox=\"0 0 24 24\"\n",
              "       width=\"24px\">\n",
              "    <path d=\"M0 0h24v24H0V0z\" fill=\"none\"/>\n",
              "    <path d=\"M18.56 5.44l.94 2.06.94-2.06 2.06-.94-2.06-.94-.94-2.06-.94 2.06-2.06.94zm-11 1L8.5 8.5l.94-2.06 2.06-.94-2.06-.94L8.5 2.5l-.94 2.06-2.06.94zm10 10l.94 2.06.94-2.06 2.06-.94-2.06-.94-.94-2.06-.94 2.06-2.06.94z\"/><path d=\"M17.41 7.96l-1.37-1.37c-.4-.4-.92-.59-1.43-.59-.52 0-1.04.2-1.43.59L10.3 9.45l-7.72 7.72c-.78.78-.78 2.05 0 2.83L4 21.41c.39.39.9.59 1.41.59.51 0 1.02-.2 1.41-.59l7.78-7.78 2.81-2.81c.8-.78.8-2.07 0-2.86zM5.41 20L4 18.59l7.72-7.72 1.47 1.35L5.41 20z\"/>\n",
              "  </svg>\n",
              "      </button>\n",
              "      \n",
              "  <style>\n",
              "    .colab-df-container {\n",
              "      display:flex;\n",
              "      flex-wrap:wrap;\n",
              "      gap: 12px;\n",
              "    }\n",
              "\n",
              "    .colab-df-convert {\n",
              "      background-color: #E8F0FE;\n",
              "      border: none;\n",
              "      border-radius: 50%;\n",
              "      cursor: pointer;\n",
              "      display: none;\n",
              "      fill: #1967D2;\n",
              "      height: 32px;\n",
              "      padding: 0 0 0 0;\n",
              "      width: 32px;\n",
              "    }\n",
              "\n",
              "    .colab-df-convert:hover {\n",
              "      background-color: #E2EBFA;\n",
              "      box-shadow: 0px 1px 2px rgba(60, 64, 67, 0.3), 0px 1px 3px 1px rgba(60, 64, 67, 0.15);\n",
              "      fill: #174EA6;\n",
              "    }\n",
              "\n",
              "    [theme=dark] .colab-df-convert {\n",
              "      background-color: #3B4455;\n",
              "      fill: #D2E3FC;\n",
              "    }\n",
              "\n",
              "    [theme=dark] .colab-df-convert:hover {\n",
              "      background-color: #434B5C;\n",
              "      box-shadow: 0px 1px 3px 1px rgba(0, 0, 0, 0.15);\n",
              "      filter: drop-shadow(0px 1px 2px rgba(0, 0, 0, 0.3));\n",
              "      fill: #FFFFFF;\n",
              "    }\n",
              "  </style>\n",
              "\n",
              "      <script>\n",
              "        const buttonEl =\n",
              "          document.querySelector('#df-2869a96e-e52c-48ca-99f5-64e3e645e2a7 button.colab-df-convert');\n",
              "        buttonEl.style.display =\n",
              "          google.colab.kernel.accessAllowed ? 'block' : 'none';\n",
              "\n",
              "        async function convertToInteractive(key) {\n",
              "          const element = document.querySelector('#df-2869a96e-e52c-48ca-99f5-64e3e645e2a7');\n",
              "          const dataTable =\n",
              "            await google.colab.kernel.invokeFunction('convertToInteractive',\n",
              "                                                     [key], {});\n",
              "          if (!dataTable) return;\n",
              "\n",
              "          const docLinkHtml = 'Like what you see? Visit the ' +\n",
              "            '<a target=\"_blank\" href=https://colab.research.google.com/notebooks/data_table.ipynb>data table notebook</a>'\n",
              "            + ' to learn more about interactive tables.';\n",
              "          element.innerHTML = '';\n",
              "          dataTable['output_type'] = 'display_data';\n",
              "          await google.colab.output.renderOutput(dataTable, element);\n",
              "          const docLink = document.createElement('div');\n",
              "          docLink.innerHTML = docLinkHtml;\n",
              "          element.appendChild(docLink);\n",
              "        }\n",
              "      </script>\n",
              "    </div>\n",
              "  </div>\n",
              "  "
            ]
          },
          "metadata": {},
          "execution_count": 174
        }
      ]
    },
    {
      "cell_type": "code",
      "source": [
        "print('columns:', df.columns)\n",
        "print('')\n",
        "print('indexes:', df.index)\n",
        "print('')\n",
        "print('values:', df.values)"
      ],
      "metadata": {
        "colab": {
          "base_uri": "https://localhost:8080/"
        },
        "id": "p_DTcXpVTZvi",
        "outputId": "9529ce0e-7980-4fea-e0a2-3d2e7be4704e"
      },
      "execution_count": null,
      "outputs": [
        {
          "output_type": "stream",
          "name": "stdout",
          "text": [
            "columns: Index(['Date', 'RegionName', 'Price_1bedroom', 'Price_2bedroom',\n",
            "       'Price_3bedroom', 'Price_4bedroom', 'Price_5BedroomOrMore',\n",
            "       'Price_SingleFamilyResidence'],\n",
            "      dtype='object')\n",
            "\n",
            "indexes: RangeIndex(start=0, stop=13212, step=1)\n",
            "\n",
            "values: [[Timestamp('2001-02-28 00:00:00') 'Alabama' 70100.0 ... 178700.0\n",
            "  248100.0 92500.0]\n",
            " [Timestamp('2001-02-28 00:00:00') 'Alaska' 97300.0 ... 219800.0 282500.0\n",
            "  183300.0]\n",
            " [Timestamp('2001-02-28 00:00:00') 'Arizona' 75800.0 ... 168100.0\n",
            "  250500.0 136900.0]\n",
            " ...\n",
            " [Timestamp('1999-12-31 00:00:00') 'WestVirginia' nan ... 80200.0 90000.0\n",
            "  48100.0]\n",
            " [Timestamp('1999-12-31 00:00:00') 'Wisconsin' 80800.0 ... 143400.0\n",
            "  165400.0 113700.0]\n",
            " [Timestamp('1999-12-31 00:00:00') 'Wyoming' nan ... 116600.0 nan\n",
            "  104100.0]]\n"
          ]
        }
      ]
    },
    {
      "cell_type": "markdown",
      "source": [
        "#Data manipulation"
      ],
      "metadata": {
        "id": "seyF0Tf1jK0P"
      }
    },
    {
      "cell_type": "code",
      "source": [],
      "metadata": {
        "id": "vLYiBIRZjJ89"
      },
      "execution_count": null,
      "outputs": []
    },
    {
      "cell_type": "code",
      "source": [],
      "metadata": {
        "id": "OGMnuZhXtweQ"
      },
      "execution_count": null,
      "outputs": []
    }
  ]
}