{
  "nbformat": 4,
  "nbformat_minor": 0,
  "metadata": {
    "colab": {
      "provenance": [],
      "authorship_tag": "ABX9TyN8ajPdK2PejMbeuEb8TPXl",
      "include_colab_link": true
    },
    "kernelspec": {
      "name": "python3",
      "display_name": "Python 3"
    },
    "language_info": {
      "name": "python"
    }
  },
  "cells": [
    {
      "cell_type": "markdown",
      "metadata": {
        "id": "view-in-github",
        "colab_type": "text"
      },
      "source": [
        "<a href=\"https://colab.research.google.com/github/MaliheDahmardeh/state-house-price-analysis-SM/blob/main/state-house-price-analysis.ipynb\" target=\"_parent\"><img src=\"https://colab.research.google.com/assets/colab-badge.svg\" alt=\"Open In Colab\"/></a>"
      ]
    },
    {
      "cell_type": "code",
      "execution_count": 141,
      "metadata": {
        "id": "00P-XpYj8MVb"
      },
      "outputs": [],
      "source": [
        "import numpy as np\n",
        "import pandas as pd\n",
        "from datetime import datetime\n",
        "from dateutil import parser\n",
        "import math\n",
        "import statistics\n",
        "import matplotlib.pyplot as plt\n",
        "import seaborn as sns\n",
        "import plotly.express as px\n",
        "from sklearn.ensemble import RandomForestClassifier\n",
        "from sklearn.model_selection import train_test_split\n",
        "from sklearn import metrics \n",
        "from sklearn.metrics import classification_report\n",
        "from sklearn.metrics import confusion_matrix\n",
        "from sklearn.metrics import accuracy_score\n",
        "from sklearn.preprocessing import StandardScaler"
      ]
    },
    {
      "cell_type": "code",
      "source": [
        "!ls"
      ],
      "metadata": {
        "colab": {
          "base_uri": "https://localhost:8080/"
        },
        "id": "HUidVy8r2Lz_",
        "outputId": "5ece1d0f-d21a-48d0-ff00-516671044c04"
      },
      "execution_count": 142,
      "outputs": [
        {
          "output_type": "stream",
          "name": "stdout",
          "text": [
            "sample_data  State_house_prices_ts.csv\n"
          ]
        }
      ]
    },
    {
      "cell_type": "code",
      "source": [
        "df = pd.read_csv('State_house_prices_ts.csv', sep =',',parse_dates=['Date'])"
      ],
      "metadata": {
        "id": "fTMZGi2u2ig7"
      },
      "execution_count": 143,
      "outputs": []
    },
    {
      "cell_type": "code",
      "source": [
        "display(df)\n",
        "display(type(df))\n",
        "display(df.dtypes)"
      ],
      "metadata": {
        "colab": {
          "base_uri": "https://localhost:8080/",
          "height": 840
        },
        "id": "YpiCMfOVa0J3",
        "outputId": "be1f4a06-dac4-43d0-db56-df9c230ecab0"
      },
      "execution_count": 144,
      "outputs": [
        {
          "output_type": "display_data",
          "data": {
            "text/plain": [
              "            Date    RegionName  Price_1bedroom  Price_2bedroom  \\\n",
              "0     2001-02-28       Alabama         70100.0         58700.0   \n",
              "1     2001-02-28        Alaska         97300.0        126400.0   \n",
              "2     2001-02-28       Arizona         75800.0        110200.0   \n",
              "3     2001-02-28      Arkansas         65100.0         64500.0   \n",
              "4     2001-02-28    California        146900.0        182700.0   \n",
              "...          ...           ...             ...             ...   \n",
              "13207 1999-12-31      Virginia         80800.0         84400.0   \n",
              "13208 1999-12-31    Washington        115300.0        131300.0   \n",
              "13209 1999-12-31  WestVirginia             NaN             NaN   \n",
              "13210 1999-12-31     Wisconsin         80800.0         89800.0   \n",
              "13211 1999-12-31       Wyoming             NaN             NaN   \n",
              "\n",
              "       Price_3bedroom  Price_4bedroom  Price_5BedroomOrMore  \\\n",
              "0             95900.0        178700.0              248100.0   \n",
              "1            177300.0        219800.0              282500.0   \n",
              "2            126600.0        168100.0              250500.0   \n",
              "3             90300.0        156700.0              245300.0   \n",
              "4            218400.0        293700.0              405100.0   \n",
              "...               ...             ...                   ...   \n",
              "13207        114300.0        191000.0              266500.0   \n",
              "13208        164400.0        218700.0              254000.0   \n",
              "13209         60900.0         80200.0               90000.0   \n",
              "13210        114400.0        143400.0              165400.0   \n",
              "13211             NaN        116600.0                   NaN   \n",
              "\n",
              "       Price_SingleFamilyResidence  \n",
              "0                          92500.0  \n",
              "1                         183300.0  \n",
              "2                         136900.0  \n",
              "3                          74400.0  \n",
              "4                         239900.0  \n",
              "...                            ...  \n",
              "13207                     125100.0  \n",
              "13208                     165600.0  \n",
              "13209                      48100.0  \n",
              "13210                     113700.0  \n",
              "13211                     104100.0  \n",
              "\n",
              "[13212 rows x 8 columns]"
            ],
            "text/html": [
              "\n",
              "  <div id=\"df-c3e1388a-0bd8-4359-8a47-10fa9a8b6801\">\n",
              "    <div class=\"colab-df-container\">\n",
              "      <div>\n",
              "<style scoped>\n",
              "    .dataframe tbody tr th:only-of-type {\n",
              "        vertical-align: middle;\n",
              "    }\n",
              "\n",
              "    .dataframe tbody tr th {\n",
              "        vertical-align: top;\n",
              "    }\n",
              "\n",
              "    .dataframe thead th {\n",
              "        text-align: right;\n",
              "    }\n",
              "</style>\n",
              "<table border=\"1\" class=\"dataframe\">\n",
              "  <thead>\n",
              "    <tr style=\"text-align: right;\">\n",
              "      <th></th>\n",
              "      <th>Date</th>\n",
              "      <th>RegionName</th>\n",
              "      <th>Price_1bedroom</th>\n",
              "      <th>Price_2bedroom</th>\n",
              "      <th>Price_3bedroom</th>\n",
              "      <th>Price_4bedroom</th>\n",
              "      <th>Price_5BedroomOrMore</th>\n",
              "      <th>Price_SingleFamilyResidence</th>\n",
              "    </tr>\n",
              "  </thead>\n",
              "  <tbody>\n",
              "    <tr>\n",
              "      <th>0</th>\n",
              "      <td>2001-02-28</td>\n",
              "      <td>Alabama</td>\n",
              "      <td>70100.0</td>\n",
              "      <td>58700.0</td>\n",
              "      <td>95900.0</td>\n",
              "      <td>178700.0</td>\n",
              "      <td>248100.0</td>\n",
              "      <td>92500.0</td>\n",
              "    </tr>\n",
              "    <tr>\n",
              "      <th>1</th>\n",
              "      <td>2001-02-28</td>\n",
              "      <td>Alaska</td>\n",
              "      <td>97300.0</td>\n",
              "      <td>126400.0</td>\n",
              "      <td>177300.0</td>\n",
              "      <td>219800.0</td>\n",
              "      <td>282500.0</td>\n",
              "      <td>183300.0</td>\n",
              "    </tr>\n",
              "    <tr>\n",
              "      <th>2</th>\n",
              "      <td>2001-02-28</td>\n",
              "      <td>Arizona</td>\n",
              "      <td>75800.0</td>\n",
              "      <td>110200.0</td>\n",
              "      <td>126600.0</td>\n",
              "      <td>168100.0</td>\n",
              "      <td>250500.0</td>\n",
              "      <td>136900.0</td>\n",
              "    </tr>\n",
              "    <tr>\n",
              "      <th>3</th>\n",
              "      <td>2001-02-28</td>\n",
              "      <td>Arkansas</td>\n",
              "      <td>65100.0</td>\n",
              "      <td>64500.0</td>\n",
              "      <td>90300.0</td>\n",
              "      <td>156700.0</td>\n",
              "      <td>245300.0</td>\n",
              "      <td>74400.0</td>\n",
              "    </tr>\n",
              "    <tr>\n",
              "      <th>4</th>\n",
              "      <td>2001-02-28</td>\n",
              "      <td>California</td>\n",
              "      <td>146900.0</td>\n",
              "      <td>182700.0</td>\n",
              "      <td>218400.0</td>\n",
              "      <td>293700.0</td>\n",
              "      <td>405100.0</td>\n",
              "      <td>239900.0</td>\n",
              "    </tr>\n",
              "    <tr>\n",
              "      <th>...</th>\n",
              "      <td>...</td>\n",
              "      <td>...</td>\n",
              "      <td>...</td>\n",
              "      <td>...</td>\n",
              "      <td>...</td>\n",
              "      <td>...</td>\n",
              "      <td>...</td>\n",
              "      <td>...</td>\n",
              "    </tr>\n",
              "    <tr>\n",
              "      <th>13207</th>\n",
              "      <td>1999-12-31</td>\n",
              "      <td>Virginia</td>\n",
              "      <td>80800.0</td>\n",
              "      <td>84400.0</td>\n",
              "      <td>114300.0</td>\n",
              "      <td>191000.0</td>\n",
              "      <td>266500.0</td>\n",
              "      <td>125100.0</td>\n",
              "    </tr>\n",
              "    <tr>\n",
              "      <th>13208</th>\n",
              "      <td>1999-12-31</td>\n",
              "      <td>Washington</td>\n",
              "      <td>115300.0</td>\n",
              "      <td>131300.0</td>\n",
              "      <td>164400.0</td>\n",
              "      <td>218700.0</td>\n",
              "      <td>254000.0</td>\n",
              "      <td>165600.0</td>\n",
              "    </tr>\n",
              "    <tr>\n",
              "      <th>13209</th>\n",
              "      <td>1999-12-31</td>\n",
              "      <td>WestVirginia</td>\n",
              "      <td>NaN</td>\n",
              "      <td>NaN</td>\n",
              "      <td>60900.0</td>\n",
              "      <td>80200.0</td>\n",
              "      <td>90000.0</td>\n",
              "      <td>48100.0</td>\n",
              "    </tr>\n",
              "    <tr>\n",
              "      <th>13210</th>\n",
              "      <td>1999-12-31</td>\n",
              "      <td>Wisconsin</td>\n",
              "      <td>80800.0</td>\n",
              "      <td>89800.0</td>\n",
              "      <td>114400.0</td>\n",
              "      <td>143400.0</td>\n",
              "      <td>165400.0</td>\n",
              "      <td>113700.0</td>\n",
              "    </tr>\n",
              "    <tr>\n",
              "      <th>13211</th>\n",
              "      <td>1999-12-31</td>\n",
              "      <td>Wyoming</td>\n",
              "      <td>NaN</td>\n",
              "      <td>NaN</td>\n",
              "      <td>NaN</td>\n",
              "      <td>116600.0</td>\n",
              "      <td>NaN</td>\n",
              "      <td>104100.0</td>\n",
              "    </tr>\n",
              "  </tbody>\n",
              "</table>\n",
              "<p>13212 rows × 8 columns</p>\n",
              "</div>\n",
              "      <button class=\"colab-df-convert\" onclick=\"convertToInteractive('df-c3e1388a-0bd8-4359-8a47-10fa9a8b6801')\"\n",
              "              title=\"Convert this dataframe to an interactive table.\"\n",
              "              style=\"display:none;\">\n",
              "        \n",
              "  <svg xmlns=\"http://www.w3.org/2000/svg\" height=\"24px\"viewBox=\"0 0 24 24\"\n",
              "       width=\"24px\">\n",
              "    <path d=\"M0 0h24v24H0V0z\" fill=\"none\"/>\n",
              "    <path d=\"M18.56 5.44l.94 2.06.94-2.06 2.06-.94-2.06-.94-.94-2.06-.94 2.06-2.06.94zm-11 1L8.5 8.5l.94-2.06 2.06-.94-2.06-.94L8.5 2.5l-.94 2.06-2.06.94zm10 10l.94 2.06.94-2.06 2.06-.94-2.06-.94-.94-2.06-.94 2.06-2.06.94z\"/><path d=\"M17.41 7.96l-1.37-1.37c-.4-.4-.92-.59-1.43-.59-.52 0-1.04.2-1.43.59L10.3 9.45l-7.72 7.72c-.78.78-.78 2.05 0 2.83L4 21.41c.39.39.9.59 1.41.59.51 0 1.02-.2 1.41-.59l7.78-7.78 2.81-2.81c.8-.78.8-2.07 0-2.86zM5.41 20L4 18.59l7.72-7.72 1.47 1.35L5.41 20z\"/>\n",
              "  </svg>\n",
              "      </button>\n",
              "      \n",
              "  <style>\n",
              "    .colab-df-container {\n",
              "      display:flex;\n",
              "      flex-wrap:wrap;\n",
              "      gap: 12px;\n",
              "    }\n",
              "\n",
              "    .colab-df-convert {\n",
              "      background-color: #E8F0FE;\n",
              "      border: none;\n",
              "      border-radius: 50%;\n",
              "      cursor: pointer;\n",
              "      display: none;\n",
              "      fill: #1967D2;\n",
              "      height: 32px;\n",
              "      padding: 0 0 0 0;\n",
              "      width: 32px;\n",
              "    }\n",
              "\n",
              "    .colab-df-convert:hover {\n",
              "      background-color: #E2EBFA;\n",
              "      box-shadow: 0px 1px 2px rgba(60, 64, 67, 0.3), 0px 1px 3px 1px rgba(60, 64, 67, 0.15);\n",
              "      fill: #174EA6;\n",
              "    }\n",
              "\n",
              "    [theme=dark] .colab-df-convert {\n",
              "      background-color: #3B4455;\n",
              "      fill: #D2E3FC;\n",
              "    }\n",
              "\n",
              "    [theme=dark] .colab-df-convert:hover {\n",
              "      background-color: #434B5C;\n",
              "      box-shadow: 0px 1px 3px 1px rgba(0, 0, 0, 0.15);\n",
              "      filter: drop-shadow(0px 1px 2px rgba(0, 0, 0, 0.3));\n",
              "      fill: #FFFFFF;\n",
              "    }\n",
              "  </style>\n",
              "\n",
              "      <script>\n",
              "        const buttonEl =\n",
              "          document.querySelector('#df-c3e1388a-0bd8-4359-8a47-10fa9a8b6801 button.colab-df-convert');\n",
              "        buttonEl.style.display =\n",
              "          google.colab.kernel.accessAllowed ? 'block' : 'none';\n",
              "\n",
              "        async function convertToInteractive(key) {\n",
              "          const element = document.querySelector('#df-c3e1388a-0bd8-4359-8a47-10fa9a8b6801');\n",
              "          const dataTable =\n",
              "            await google.colab.kernel.invokeFunction('convertToInteractive',\n",
              "                                                     [key], {});\n",
              "          if (!dataTable) return;\n",
              "\n",
              "          const docLinkHtml = 'Like what you see? Visit the ' +\n",
              "            '<a target=\"_blank\" href=https://colab.research.google.com/notebooks/data_table.ipynb>data table notebook</a>'\n",
              "            + ' to learn more about interactive tables.';\n",
              "          element.innerHTML = '';\n",
              "          dataTable['output_type'] = 'display_data';\n",
              "          await google.colab.output.renderOutput(dataTable, element);\n",
              "          const docLink = document.createElement('div');\n",
              "          docLink.innerHTML = docLinkHtml;\n",
              "          element.appendChild(docLink);\n",
              "        }\n",
              "      </script>\n",
              "    </div>\n",
              "  </div>\n",
              "  "
            ]
          },
          "metadata": {}
        },
        {
          "output_type": "display_data",
          "data": {
            "text/plain": [
              "pandas.core.frame.DataFrame"
            ]
          },
          "metadata": {}
        },
        {
          "output_type": "display_data",
          "data": {
            "text/plain": [
              "Date                           datetime64[ns]\n",
              "RegionName                             object\n",
              "Price_1bedroom                        float64\n",
              "Price_2bedroom                        float64\n",
              "Price_3bedroom                        float64\n",
              "Price_4bedroom                        float64\n",
              "Price_5BedroomOrMore                  float64\n",
              "Price_SingleFamilyResidence           float64\n",
              "dtype: object"
            ]
          },
          "metadata": {}
        }
      ]
    },
    {
      "cell_type": "code",
      "source": [
        "df.info()"
      ],
      "metadata": {
        "colab": {
          "base_uri": "https://localhost:8080/"
        },
        "id": "Xkvxq9GRBC1f",
        "outputId": "1977254b-c49d-4b1c-9181-2496c38a6699"
      },
      "execution_count": 145,
      "outputs": [
        {
          "output_type": "stream",
          "name": "stdout",
          "text": [
            "<class 'pandas.core.frame.DataFrame'>\n",
            "RangeIndex: 13212 entries, 0 to 13211\n",
            "Data columns (total 8 columns):\n",
            " #   Column                       Non-Null Count  Dtype         \n",
            "---  ------                       --------------  -----         \n",
            " 0   Date                         13212 non-null  datetime64[ns]\n",
            " 1   RegionName                   13212 non-null  object        \n",
            " 2   Price_1bedroom               10605 non-null  float64       \n",
            " 3   Price_2bedroom               11745 non-null  float64       \n",
            " 4   Price_3bedroom               12787 non-null  float64       \n",
            " 5   Price_4bedroom               12359 non-null  float64       \n",
            " 6   Price_5BedroomOrMore         11814 non-null  float64       \n",
            " 7   Price_SingleFamilyResidence  12438 non-null  float64       \n",
            "dtypes: datetime64[ns](1), float64(6), object(1)\n",
            "memory usage: 825.9+ KB\n"
          ]
        }
      ]
    },
    {
      "cell_type": "code",
      "source": [
        "df.duplicated().sum()  "
      ],
      "metadata": {
        "colab": {
          "base_uri": "https://localhost:8080/"
        },
        "id": "ocE2gwyAKabb",
        "outputId": "6762a28d-1456-4952-ea61-59109e5e3d09"
      },
      "execution_count": 146,
      "outputs": [
        {
          "output_type": "execute_result",
          "data": {
            "text/plain": [
              "0"
            ]
          },
          "metadata": {},
          "execution_count": 146
        }
      ]
    },
    {
      "cell_type": "code",
      "source": [
        "df.isnull().sum()"
      ],
      "metadata": {
        "id": "6SPfvvKqKsmC",
        "colab": {
          "base_uri": "https://localhost:8080/"
        },
        "outputId": "03f418ac-4357-427f-e2f3-711f86710c3c"
      },
      "execution_count": 147,
      "outputs": [
        {
          "output_type": "execute_result",
          "data": {
            "text/plain": [
              "Date                              0\n",
              "RegionName                        0\n",
              "Price_1bedroom                 2607\n",
              "Price_2bedroom                 1467\n",
              "Price_3bedroom                  425\n",
              "Price_4bedroom                  853\n",
              "Price_5BedroomOrMore           1398\n",
              "Price_SingleFamilyResidence     774\n",
              "dtype: int64"
            ]
          },
          "metadata": {},
          "execution_count": 147
        }
      ]
    },
    {
      "cell_type": "code",
      "source": [
        "number=df.groupby('RegionName').count()[['Price_1bedroom','Price_2bedroom','Price_3bedroom','Price_3bedroom','Price_5BedroomOrMore','Price_SingleFamilyResidence']].reset_index()\n",
        "#display(type(number))\n",
        "number"
      ],
      "metadata": {
        "id": "HcEAyPObPb8J"
      },
      "execution_count": null,
      "outputs": []
    },
    {
      "cell_type": "code",
      "source": [
        "Region = df['RegionName'].unique().tolist()\n",
        "Region.sort()"
      ],
      "metadata": {
        "id": "6OIw0daPtm98"
      },
      "execution_count": 149,
      "outputs": []
    },
    {
      "cell_type": "code",
      "source": [
        "house_type = ['Price_1bedroom','Price_2bedroom','Price_3bedroom','Price_3bedroom','Price_5BedroomOrMore','Price_SingleFamilyResidence']\n",
        "#display(house_type)\n",
        "#display(type(house_type))"
      ],
      "metadata": {
        "id": "YudfWTi730Gs"
      },
      "execution_count": 150,
      "outputs": []
    },
    {
      "cell_type": "code",
      "source": [
        "def calc_count(variables):\n",
        "  a = df.groupby('RegionName').count()[variables]\n",
        "  return a\n",
        "    \n",
        "\n",
        "t=calc_count('Price_1bedroom')\n",
        "print(t)"
      ],
      "metadata": {
        "id": "KgmHIfLuw2Mn"
      },
      "execution_count": null,
      "outputs": []
    },
    {
      "cell_type": "code",
      "source": [
        "def calc_count2(number, Region, house_type):\n",
        "  number = [number['RegionName'] == Region]\n",
        "  b = df.groupby('RegionName').count()[house_type]\n",
        "  return b\n",
        "\n",
        "s=calc_count2(number, 'Alaska', 'Price_1bedroom')\n",
        "s"
      ],
      "metadata": {
        "id": "qOAP66_5EOfh"
      },
      "execution_count": null,
      "outputs": []
    },
    {
      "cell_type": "code",
      "source": [
        "# Median --> Returns the middle data point in a data set \n",
        "def calc_median(variable):\n",
        "  n = calc_count(variable)\n",
        "  if n%2 == 1: # n is odd \n",
        "        temp = np.sort(variable)\n",
        "        temp_var = temp[(n)//2]\n",
        "  elif n%2 == 0: # n is even \n",
        "        temp = np.sort(variable)\n",
        "        temp_var = (temp[n//2-1] + temp[(n//2)])/2 # be careful with Python indexes, starting from 0 \n",
        "  return temp_var\n",
        "\n",
        "T5 = calc_median(number)\n",
        "T5"
      ],
      "metadata": {
        "id": "QIppD9y4rQDP"
      },
      "execution_count": null,
      "outputs": []
    },
    {
      "cell_type": "code",
      "source": [],
      "metadata": {
        "id": "I-81j2I6-_7o"
      },
      "execution_count": null,
      "outputs": []
    },
    {
      "cell_type": "code",
      "source": [
        "df.describe()"
      ],
      "metadata": {
        "id": "hEgNGuM8FGEx"
      },
      "execution_count": null,
      "outputs": []
    },
    {
      "cell_type": "code",
      "source": [
        "print('columns:', df.columns)\n",
        "print('')\n",
        "print('indexes:', df.index)\n",
        "print('')\n",
        "print('values:', df.values)"
      ],
      "metadata": {
        "id": "p_DTcXpVTZvi"
      },
      "execution_count": null,
      "outputs": []
    },
    {
      "cell_type": "markdown",
      "source": [
        "#Data manipulation"
      ],
      "metadata": {
        "id": "seyF0Tf1jK0P"
      }
    },
    {
      "cell_type": "code",
      "source": [],
      "metadata": {
        "id": "vLYiBIRZjJ89"
      },
      "execution_count": null,
      "outputs": []
    },
    {
      "cell_type": "code",
      "source": [],
      "metadata": {
        "id": "OGMnuZhXtweQ"
      },
      "execution_count": null,
      "outputs": []
    }
  ]
}