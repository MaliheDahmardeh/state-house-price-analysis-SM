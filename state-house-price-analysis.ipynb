{
  "nbformat": 4,
  "nbformat_minor": 0,
  "metadata": {
    "colab": {
      "provenance": [],
      "toc_visible": true,
      "authorship_tag": "ABX9TyPrkRrT2TW5mvZluDBbvvV8",
      "include_colab_link": true
    },
    "kernelspec": {
      "name": "python3",
      "display_name": "Python 3"
    },
    "language_info": {
      "name": "python"
    }
  },
  "cells": [
    {
      "cell_type": "markdown",
      "metadata": {
        "id": "view-in-github",
        "colab_type": "text"
      },
      "source": [
        "<a href=\"https://colab.research.google.com/github/MaliheDahmardeh/state-house-price-analysis-SM/blob/main/state-house-price-analysis.ipynb\" target=\"_parent\"><img src=\"https://colab.research.google.com/assets/colab-badge.svg\" alt=\"Open In Colab\"/></a>"
      ]
    },
    {
      "cell_type": "markdown",
      "source": [
        "#Brief description of the dataset\n",
        "This dataset provides information about the mean home prices across a number of US states and housing types\n",
        "collected in the period from 30th April 1996 to 31st December 2017 (monthly data). The data are available for 44\n",
        "states and different house types, in particular 1/2/3/4/5+ bedrooms and single family residence.\n",
        "#Project steps\n",
        "The main aim of this project is to perform house price forecasting for the last two years (2016/2017), whose data\n",
        "should be used as testing set.\n",
        "Following what we have seen in the laboratory classes, a comprehensive pipeline should be devised, including in\n",
        "particular:\n",
        "1. Loading, converting and cleaning of the data;\n",
        "2. Exploring the dataset with descriptive statistics and (possibly) frequency analysis. Use appropriate graphs to\n",
        "visualise the data at hand;\n",
        "3. Focusing on few US states and housing types, describing the time series patterns (visually and numerically);\n",
        "4. Choosing the appropriate model/models to forecast the data for the specified period for each selected\n",
        "state/house type. Evaluate the model performance using different metrics. Visualise the results with\n",
        "appropriate graphs.\n"
      ],
      "metadata": {
        "id": "LmvR-qRXCdpY"
      }
    },
    {
      "cell_type": "markdown",
      "source": [
        "#Import"
      ],
      "metadata": {
        "id": "bLN0K50YBpRx"
      }
    },
    {
      "cell_type": "code",
      "execution_count": 24,
      "metadata": {
        "id": "00P-XpYj8MVb"
      },
      "outputs": [],
      "source": [
        "import numpy as np\n",
        "import pandas as pd\n",
        "from datetime import datetime\n",
        "from dateutil import parser\n",
        "import math\n",
        "import statistics\n",
        "from statistics import median\n",
        "from fractions import Fraction as fr\n",
        "import matplotlib.pyplot as plt\n",
        "from statsmodels.graphics.tsaplots import plot_acf, plot_pacf\n",
        "import seaborn as sns\n",
        "import plotly.express as px\n",
        "from scipy import stats,signal\n",
        "from scipy.stats import chi2, chi2_contingency\n",
        "from sklearn.metrics import mean_squared_error, mean_absolute_error, mean_absolute_percentage_error\n",
        "import statsmodels.api as sm\n",
        "from sklearn.ensemble import RandomForestClassifier\n",
        "from sklearn.model_selection import train_test_split\n",
        "from sklearn import metrics \n",
        "from sklearn.metrics import classification_report\n",
        "from sklearn.metrics import confusion_matrix\n",
        "from sklearn.metrics import accuracy_score\n",
        "from sklearn.preprocessing import StandardScaler"
      ]
    },
    {
      "cell_type": "code",
      "source": [
        "#Developed on Jupyter Notebook Data Science Stack (Docker)\n",
        "#!pip install pmdarima\n",
        "#!pip install tbats\n",
        "#!conda install gcc\n",
        "#!conda install -c conda-forge prophet"
      ],
      "metadata": {
        "id": "WVhKcAAB1-ff"
      },
      "execution_count": 25,
      "outputs": []
    },
    {
      "cell_type": "markdown",
      "source": [
        "#Dataset Loading ..."
      ],
      "metadata": {
        "id": "y0qe8hYLDnjm"
      }
    },
    {
      "cell_type": "code",
      "source": [
        "!ls"
      ],
      "metadata": {
        "colab": {
          "base_uri": "https://localhost:8080/"
        },
        "id": "HUidVy8r2Lz_",
        "outputId": "be5583b7-c09f-44f5-ac61-c15c17850530"
      },
      "execution_count": 26,
      "outputs": [
        {
          "output_type": "stream",
          "name": "stdout",
          "text": [
            "sample_data  State_house_prices_ts.csv\n"
          ]
        }
      ]
    },
    {
      "cell_type": "code",
      "source": [
        "df = pd.read_csv('State_house_prices_ts.csv', sep =',',parse_dates=['Date'])#.sort_values(by='Date', ascending=True , inplace=False)"
      ],
      "metadata": {
        "id": "fTMZGi2u2ig7"
      },
      "execution_count": 27,
      "outputs": []
    },
    {
      "cell_type": "code",
      "source": [
        "display(df)\n",
        "display(type(df))\n",
        "display(df.dtypes)"
      ],
      "metadata": {
        "colab": {
          "base_uri": "https://localhost:8080/",
          "height": 834
        },
        "id": "YpiCMfOVa0J3",
        "outputId": "4a1a12ed-ab68-46ee-ead9-43d8ef856b0d"
      },
      "execution_count": 28,
      "outputs": [
        {
          "output_type": "display_data",
          "data": {
            "text/plain": [
              "            Date    RegionName  Price_1bedroom  Price_2bedroom  \\\n",
              "0     2001-02-28       Alabama         70100.0         58700.0   \n",
              "1     2001-02-28        Alaska         97300.0        126400.0   \n",
              "2     2001-02-28       Arizona         75800.0        110200.0   \n",
              "3     2001-02-28      Arkansas         65100.0         64500.0   \n",
              "4     2001-02-28    California        146900.0        182700.0   \n",
              "...          ...           ...             ...             ...   \n",
              "13207 1999-12-31      Virginia         80800.0         84400.0   \n",
              "13208 1999-12-31    Washington        115300.0        131300.0   \n",
              "13209 1999-12-31  WestVirginia             NaN             NaN   \n",
              "13210 1999-12-31     Wisconsin         80800.0         89800.0   \n",
              "13211 1999-12-31       Wyoming             NaN             NaN   \n",
              "\n",
              "       Price_3bedroom  Price_4bedroom  Price_5BedroomOrMore  \\\n",
              "0             95900.0        178700.0              248100.0   \n",
              "1            177300.0        219800.0              282500.0   \n",
              "2            126600.0        168100.0              250500.0   \n",
              "3             90300.0        156700.0              245300.0   \n",
              "4            218400.0        293700.0              405100.0   \n",
              "...               ...             ...                   ...   \n",
              "13207        114300.0        191000.0              266500.0   \n",
              "13208        164400.0        218700.0              254000.0   \n",
              "13209         60900.0         80200.0               90000.0   \n",
              "13210        114400.0        143400.0              165400.0   \n",
              "13211             NaN        116600.0                   NaN   \n",
              "\n",
              "       Price_SingleFamilyResidence  \n",
              "0                          92500.0  \n",
              "1                         183300.0  \n",
              "2                         136900.0  \n",
              "3                          74400.0  \n",
              "4                         239900.0  \n",
              "...                            ...  \n",
              "13207                     125100.0  \n",
              "13208                     165600.0  \n",
              "13209                      48100.0  \n",
              "13210                     113700.0  \n",
              "13211                     104100.0  \n",
              "\n",
              "[13212 rows x 8 columns]"
            ],
            "text/html": [
              "\n",
              "  <div id=\"df-0006a6c5-981e-4702-8173-6fad411f09e4\">\n",
              "    <div class=\"colab-df-container\">\n",
              "      <div>\n",
              "<style scoped>\n",
              "    .dataframe tbody tr th:only-of-type {\n",
              "        vertical-align: middle;\n",
              "    }\n",
              "\n",
              "    .dataframe tbody tr th {\n",
              "        vertical-align: top;\n",
              "    }\n",
              "\n",
              "    .dataframe thead th {\n",
              "        text-align: right;\n",
              "    }\n",
              "</style>\n",
              "<table border=\"1\" class=\"dataframe\">\n",
              "  <thead>\n",
              "    <tr style=\"text-align: right;\">\n",
              "      <th></th>\n",
              "      <th>Date</th>\n",
              "      <th>RegionName</th>\n",
              "      <th>Price_1bedroom</th>\n",
              "      <th>Price_2bedroom</th>\n",
              "      <th>Price_3bedroom</th>\n",
              "      <th>Price_4bedroom</th>\n",
              "      <th>Price_5BedroomOrMore</th>\n",
              "      <th>Price_SingleFamilyResidence</th>\n",
              "    </tr>\n",
              "  </thead>\n",
              "  <tbody>\n",
              "    <tr>\n",
              "      <th>0</th>\n",
              "      <td>2001-02-28</td>\n",
              "      <td>Alabama</td>\n",
              "      <td>70100.0</td>\n",
              "      <td>58700.0</td>\n",
              "      <td>95900.0</td>\n",
              "      <td>178700.0</td>\n",
              "      <td>248100.0</td>\n",
              "      <td>92500.0</td>\n",
              "    </tr>\n",
              "    <tr>\n",
              "      <th>1</th>\n",
              "      <td>2001-02-28</td>\n",
              "      <td>Alaska</td>\n",
              "      <td>97300.0</td>\n",
              "      <td>126400.0</td>\n",
              "      <td>177300.0</td>\n",
              "      <td>219800.0</td>\n",
              "      <td>282500.0</td>\n",
              "      <td>183300.0</td>\n",
              "    </tr>\n",
              "    <tr>\n",
              "      <th>2</th>\n",
              "      <td>2001-02-28</td>\n",
              "      <td>Arizona</td>\n",
              "      <td>75800.0</td>\n",
              "      <td>110200.0</td>\n",
              "      <td>126600.0</td>\n",
              "      <td>168100.0</td>\n",
              "      <td>250500.0</td>\n",
              "      <td>136900.0</td>\n",
              "    </tr>\n",
              "    <tr>\n",
              "      <th>3</th>\n",
              "      <td>2001-02-28</td>\n",
              "      <td>Arkansas</td>\n",
              "      <td>65100.0</td>\n",
              "      <td>64500.0</td>\n",
              "      <td>90300.0</td>\n",
              "      <td>156700.0</td>\n",
              "      <td>245300.0</td>\n",
              "      <td>74400.0</td>\n",
              "    </tr>\n",
              "    <tr>\n",
              "      <th>4</th>\n",
              "      <td>2001-02-28</td>\n",
              "      <td>California</td>\n",
              "      <td>146900.0</td>\n",
              "      <td>182700.0</td>\n",
              "      <td>218400.0</td>\n",
              "      <td>293700.0</td>\n",
              "      <td>405100.0</td>\n",
              "      <td>239900.0</td>\n",
              "    </tr>\n",
              "    <tr>\n",
              "      <th>...</th>\n",
              "      <td>...</td>\n",
              "      <td>...</td>\n",
              "      <td>...</td>\n",
              "      <td>...</td>\n",
              "      <td>...</td>\n",
              "      <td>...</td>\n",
              "      <td>...</td>\n",
              "      <td>...</td>\n",
              "    </tr>\n",
              "    <tr>\n",
              "      <th>13207</th>\n",
              "      <td>1999-12-31</td>\n",
              "      <td>Virginia</td>\n",
              "      <td>80800.0</td>\n",
              "      <td>84400.0</td>\n",
              "      <td>114300.0</td>\n",
              "      <td>191000.0</td>\n",
              "      <td>266500.0</td>\n",
              "      <td>125100.0</td>\n",
              "    </tr>\n",
              "    <tr>\n",
              "      <th>13208</th>\n",
              "      <td>1999-12-31</td>\n",
              "      <td>Washington</td>\n",
              "      <td>115300.0</td>\n",
              "      <td>131300.0</td>\n",
              "      <td>164400.0</td>\n",
              "      <td>218700.0</td>\n",
              "      <td>254000.0</td>\n",
              "      <td>165600.0</td>\n",
              "    </tr>\n",
              "    <tr>\n",
              "      <th>13209</th>\n",
              "      <td>1999-12-31</td>\n",
              "      <td>WestVirginia</td>\n",
              "      <td>NaN</td>\n",
              "      <td>NaN</td>\n",
              "      <td>60900.0</td>\n",
              "      <td>80200.0</td>\n",
              "      <td>90000.0</td>\n",
              "      <td>48100.0</td>\n",
              "    </tr>\n",
              "    <tr>\n",
              "      <th>13210</th>\n",
              "      <td>1999-12-31</td>\n",
              "      <td>Wisconsin</td>\n",
              "      <td>80800.0</td>\n",
              "      <td>89800.0</td>\n",
              "      <td>114400.0</td>\n",
              "      <td>143400.0</td>\n",
              "      <td>165400.0</td>\n",
              "      <td>113700.0</td>\n",
              "    </tr>\n",
              "    <tr>\n",
              "      <th>13211</th>\n",
              "      <td>1999-12-31</td>\n",
              "      <td>Wyoming</td>\n",
              "      <td>NaN</td>\n",
              "      <td>NaN</td>\n",
              "      <td>NaN</td>\n",
              "      <td>116600.0</td>\n",
              "      <td>NaN</td>\n",
              "      <td>104100.0</td>\n",
              "    </tr>\n",
              "  </tbody>\n",
              "</table>\n",
              "<p>13212 rows × 8 columns</p>\n",
              "</div>\n",
              "      <button class=\"colab-df-convert\" onclick=\"convertToInteractive('df-0006a6c5-981e-4702-8173-6fad411f09e4')\"\n",
              "              title=\"Convert this dataframe to an interactive table.\"\n",
              "              style=\"display:none;\">\n",
              "        \n",
              "  <svg xmlns=\"http://www.w3.org/2000/svg\" height=\"24px\"viewBox=\"0 0 24 24\"\n",
              "       width=\"24px\">\n",
              "    <path d=\"M0 0h24v24H0V0z\" fill=\"none\"/>\n",
              "    <path d=\"M18.56 5.44l.94 2.06.94-2.06 2.06-.94-2.06-.94-.94-2.06-.94 2.06-2.06.94zm-11 1L8.5 8.5l.94-2.06 2.06-.94-2.06-.94L8.5 2.5l-.94 2.06-2.06.94zm10 10l.94 2.06.94-2.06 2.06-.94-2.06-.94-.94-2.06-.94 2.06-2.06.94z\"/><path d=\"M17.41 7.96l-1.37-1.37c-.4-.4-.92-.59-1.43-.59-.52 0-1.04.2-1.43.59L10.3 9.45l-7.72 7.72c-.78.78-.78 2.05 0 2.83L4 21.41c.39.39.9.59 1.41.59.51 0 1.02-.2 1.41-.59l7.78-7.78 2.81-2.81c.8-.78.8-2.07 0-2.86zM5.41 20L4 18.59l7.72-7.72 1.47 1.35L5.41 20z\"/>\n",
              "  </svg>\n",
              "      </button>\n",
              "      \n",
              "  <style>\n",
              "    .colab-df-container {\n",
              "      display:flex;\n",
              "      flex-wrap:wrap;\n",
              "      gap: 12px;\n",
              "    }\n",
              "\n",
              "    .colab-df-convert {\n",
              "      background-color: #E8F0FE;\n",
              "      border: none;\n",
              "      border-radius: 50%;\n",
              "      cursor: pointer;\n",
              "      display: none;\n",
              "      fill: #1967D2;\n",
              "      height: 32px;\n",
              "      padding: 0 0 0 0;\n",
              "      width: 32px;\n",
              "    }\n",
              "\n",
              "    .colab-df-convert:hover {\n",
              "      background-color: #E2EBFA;\n",
              "      box-shadow: 0px 1px 2px rgba(60, 64, 67, 0.3), 0px 1px 3px 1px rgba(60, 64, 67, 0.15);\n",
              "      fill: #174EA6;\n",
              "    }\n",
              "\n",
              "    [theme=dark] .colab-df-convert {\n",
              "      background-color: #3B4455;\n",
              "      fill: #D2E3FC;\n",
              "    }\n",
              "\n",
              "    [theme=dark] .colab-df-convert:hover {\n",
              "      background-color: #434B5C;\n",
              "      box-shadow: 0px 1px 3px 1px rgba(0, 0, 0, 0.15);\n",
              "      filter: drop-shadow(0px 1px 2px rgba(0, 0, 0, 0.3));\n",
              "      fill: #FFFFFF;\n",
              "    }\n",
              "  </style>\n",
              "\n",
              "      <script>\n",
              "        const buttonEl =\n",
              "          document.querySelector('#df-0006a6c5-981e-4702-8173-6fad411f09e4 button.colab-df-convert');\n",
              "        buttonEl.style.display =\n",
              "          google.colab.kernel.accessAllowed ? 'block' : 'none';\n",
              "\n",
              "        async function convertToInteractive(key) {\n",
              "          const element = document.querySelector('#df-0006a6c5-981e-4702-8173-6fad411f09e4');\n",
              "          const dataTable =\n",
              "            await google.colab.kernel.invokeFunction('convertToInteractive',\n",
              "                                                     [key], {});\n",
              "          if (!dataTable) return;\n",
              "\n",
              "          const docLinkHtml = 'Like what you see? Visit the ' +\n",
              "            '<a target=\"_blank\" href=https://colab.research.google.com/notebooks/data_table.ipynb>data table notebook</a>'\n",
              "            + ' to learn more about interactive tables.';\n",
              "          element.innerHTML = '';\n",
              "          dataTable['output_type'] = 'display_data';\n",
              "          await google.colab.output.renderOutput(dataTable, element);\n",
              "          const docLink = document.createElement('div');\n",
              "          docLink.innerHTML = docLinkHtml;\n",
              "          element.appendChild(docLink);\n",
              "        }\n",
              "      </script>\n",
              "    </div>\n",
              "  </div>\n",
              "  "
            ]
          },
          "metadata": {}
        },
        {
          "output_type": "display_data",
          "data": {
            "text/plain": [
              "pandas.core.frame.DataFrame"
            ]
          },
          "metadata": {}
        },
        {
          "output_type": "display_data",
          "data": {
            "text/plain": [
              "Date                           datetime64[ns]\n",
              "RegionName                             object\n",
              "Price_1bedroom                        float64\n",
              "Price_2bedroom                        float64\n",
              "Price_3bedroom                        float64\n",
              "Price_4bedroom                        float64\n",
              "Price_5BedroomOrMore                  float64\n",
              "Price_SingleFamilyResidence           float64\n",
              "dtype: object"
            ]
          },
          "metadata": {}
        }
      ]
    },
    {
      "cell_type": "code",
      "source": [
        "print('columns:', df.columns)\n",
        "print('')\n",
        "print('indexes:', df.index)\n",
        "print('')\n",
        "print('values:', df.values)"
      ],
      "metadata": {
        "colab": {
          "base_uri": "https://localhost:8080/"
        },
        "id": "RdTtTTmch0EB",
        "outputId": "32a9cd5c-b87b-4b93-e1de-da1bee33d2ec"
      },
      "execution_count": 29,
      "outputs": [
        {
          "output_type": "stream",
          "name": "stdout",
          "text": [
            "columns: Index(['Date', 'RegionName', 'Price_1bedroom', 'Price_2bedroom',\n",
            "       'Price_3bedroom', 'Price_4bedroom', 'Price_5BedroomOrMore',\n",
            "       'Price_SingleFamilyResidence'],\n",
            "      dtype='object')\n",
            "\n",
            "indexes: RangeIndex(start=0, stop=13212, step=1)\n",
            "\n",
            "values: [[Timestamp('2001-02-28 00:00:00') 'Alabama' 70100.0 ... 178700.0\n",
            "  248100.0 92500.0]\n",
            " [Timestamp('2001-02-28 00:00:00') 'Alaska' 97300.0 ... 219800.0 282500.0\n",
            "  183300.0]\n",
            " [Timestamp('2001-02-28 00:00:00') 'Arizona' 75800.0 ... 168100.0\n",
            "  250500.0 136900.0]\n",
            " ...\n",
            " [Timestamp('1999-12-31 00:00:00') 'WestVirginia' nan ... 80200.0 90000.0\n",
            "  48100.0]\n",
            " [Timestamp('1999-12-31 00:00:00') 'Wisconsin' 80800.0 ... 143400.0\n",
            "  165400.0 113700.0]\n",
            " [Timestamp('1999-12-31 00:00:00') 'Wyoming' nan ... 116600.0 nan\n",
            "  104100.0]]\n"
          ]
        }
      ]
    },
    {
      "cell_type": "code",
      "source": [
        "df.info()"
      ],
      "metadata": {
        "colab": {
          "base_uri": "https://localhost:8080/"
        },
        "id": "Xkvxq9GRBC1f",
        "outputId": "af96995a-5a8d-4e8e-fac8-cdc13ecb807f"
      },
      "execution_count": 30,
      "outputs": [
        {
          "output_type": "stream",
          "name": "stdout",
          "text": [
            "<class 'pandas.core.frame.DataFrame'>\n",
            "RangeIndex: 13212 entries, 0 to 13211\n",
            "Data columns (total 8 columns):\n",
            " #   Column                       Non-Null Count  Dtype         \n",
            "---  ------                       --------------  -----         \n",
            " 0   Date                         13212 non-null  datetime64[ns]\n",
            " 1   RegionName                   13212 non-null  object        \n",
            " 2   Price_1bedroom               10605 non-null  float64       \n",
            " 3   Price_2bedroom               11745 non-null  float64       \n",
            " 4   Price_3bedroom               12787 non-null  float64       \n",
            " 5   Price_4bedroom               12359 non-null  float64       \n",
            " 6   Price_5BedroomOrMore         11814 non-null  float64       \n",
            " 7   Price_SingleFamilyResidence  12438 non-null  float64       \n",
            "dtypes: datetime64[ns](1), float64(6), object(1)\n",
            "memory usage: 825.9+ KB\n"
          ]
        }
      ]
    },
    {
      "cell_type": "markdown",
      "source": [
        "#Data Cleaning"
      ],
      "metadata": {
        "id": "7Gi93AMPEPG-"
      }
    },
    {
      "cell_type": "code",
      "source": [
        "df.duplicated().sum()  "
      ],
      "metadata": {
        "colab": {
          "base_uri": "https://localhost:8080/"
        },
        "id": "ocE2gwyAKabb",
        "outputId": "4bf6eb23-482e-48db-a602-4ced6a35610b"
      },
      "execution_count": 31,
      "outputs": [
        {
          "output_type": "execute_result",
          "data": {
            "text/plain": [
              "0"
            ]
          },
          "metadata": {},
          "execution_count": 31
        }
      ]
    },
    {
      "cell_type": "code",
      "source": [
        "df.isnull().sum()"
      ],
      "metadata": {
        "id": "6SPfvvKqKsmC",
        "colab": {
          "base_uri": "https://localhost:8080/"
        },
        "outputId": "3c39ad5e-bf67-4488-aa96-ac49369238f6"
      },
      "execution_count": 32,
      "outputs": [
        {
          "output_type": "execute_result",
          "data": {
            "text/plain": [
              "Date                              0\n",
              "RegionName                        0\n",
              "Price_1bedroom                 2607\n",
              "Price_2bedroom                 1467\n",
              "Price_3bedroom                  425\n",
              "Price_4bedroom                  853\n",
              "Price_5BedroomOrMore           1398\n",
              "Price_SingleFamilyResidence     774\n",
              "dtype: int64"
            ]
          },
          "metadata": {},
          "execution_count": 32
        }
      ]
    },
    {
      "cell_type": "code",
      "source": [
        "#check the states that have empty/null row \n",
        "a=df.loc[df.isnull().sum(axis=1) > 5]\n",
        "a.groupby('RegionName').nunique()"
      ],
      "metadata": {
        "colab": {
          "base_uri": "https://localhost:8080/",
          "height": 270
        },
        "id": "MBP7zYcnsUC2",
        "outputId": "771e51d3-edd1-41ea-802b-7a6fba154222"
      },
      "execution_count": 33,
      "outputs": [
        {
          "output_type": "execute_result",
          "data": {
            "text/plain": [
              "                    Date  Price_1bedroom  Price_2bedroom  Price_3bedroom  \\\n",
              "RegionName                                                                 \n",
              "Alaska                10               0               0               0   \n",
              "DistrictofColumbia    10               0               0               0   \n",
              "Kansas                64               0               0               0   \n",
              "UnitedStates          95               0               0               0   \n",
              "\n",
              "                    Price_4bedroom  Price_5BedroomOrMore  \\\n",
              "RegionName                                                 \n",
              "Alaska                           0                     0   \n",
              "DistrictofColumbia               0                     0   \n",
              "Kansas                           0                     0   \n",
              "UnitedStates                     0                     0   \n",
              "\n",
              "                    Price_SingleFamilyResidence  \n",
              "RegionName                                       \n",
              "Alaska                                        0  \n",
              "DistrictofColumbia                            0  \n",
              "Kansas                                        0  \n",
              "UnitedStates                                  0  "
            ],
            "text/html": [
              "\n",
              "  <div id=\"df-95371af0-7edc-4d02-9ea8-6dfc12ebc146\">\n",
              "    <div class=\"colab-df-container\">\n",
              "      <div>\n",
              "<style scoped>\n",
              "    .dataframe tbody tr th:only-of-type {\n",
              "        vertical-align: middle;\n",
              "    }\n",
              "\n",
              "    .dataframe tbody tr th {\n",
              "        vertical-align: top;\n",
              "    }\n",
              "\n",
              "    .dataframe thead th {\n",
              "        text-align: right;\n",
              "    }\n",
              "</style>\n",
              "<table border=\"1\" class=\"dataframe\">\n",
              "  <thead>\n",
              "    <tr style=\"text-align: right;\">\n",
              "      <th></th>\n",
              "      <th>Date</th>\n",
              "      <th>Price_1bedroom</th>\n",
              "      <th>Price_2bedroom</th>\n",
              "      <th>Price_3bedroom</th>\n",
              "      <th>Price_4bedroom</th>\n",
              "      <th>Price_5BedroomOrMore</th>\n",
              "      <th>Price_SingleFamilyResidence</th>\n",
              "    </tr>\n",
              "    <tr>\n",
              "      <th>RegionName</th>\n",
              "      <th></th>\n",
              "      <th></th>\n",
              "      <th></th>\n",
              "      <th></th>\n",
              "      <th></th>\n",
              "      <th></th>\n",
              "      <th></th>\n",
              "    </tr>\n",
              "  </thead>\n",
              "  <tbody>\n",
              "    <tr>\n",
              "      <th>Alaska</th>\n",
              "      <td>10</td>\n",
              "      <td>0</td>\n",
              "      <td>0</td>\n",
              "      <td>0</td>\n",
              "      <td>0</td>\n",
              "      <td>0</td>\n",
              "      <td>0</td>\n",
              "    </tr>\n",
              "    <tr>\n",
              "      <th>DistrictofColumbia</th>\n",
              "      <td>10</td>\n",
              "      <td>0</td>\n",
              "      <td>0</td>\n",
              "      <td>0</td>\n",
              "      <td>0</td>\n",
              "      <td>0</td>\n",
              "      <td>0</td>\n",
              "    </tr>\n",
              "    <tr>\n",
              "      <th>Kansas</th>\n",
              "      <td>64</td>\n",
              "      <td>0</td>\n",
              "      <td>0</td>\n",
              "      <td>0</td>\n",
              "      <td>0</td>\n",
              "      <td>0</td>\n",
              "      <td>0</td>\n",
              "    </tr>\n",
              "    <tr>\n",
              "      <th>UnitedStates</th>\n",
              "      <td>95</td>\n",
              "      <td>0</td>\n",
              "      <td>0</td>\n",
              "      <td>0</td>\n",
              "      <td>0</td>\n",
              "      <td>0</td>\n",
              "      <td>0</td>\n",
              "    </tr>\n",
              "  </tbody>\n",
              "</table>\n",
              "</div>\n",
              "      <button class=\"colab-df-convert\" onclick=\"convertToInteractive('df-95371af0-7edc-4d02-9ea8-6dfc12ebc146')\"\n",
              "              title=\"Convert this dataframe to an interactive table.\"\n",
              "              style=\"display:none;\">\n",
              "        \n",
              "  <svg xmlns=\"http://www.w3.org/2000/svg\" height=\"24px\"viewBox=\"0 0 24 24\"\n",
              "       width=\"24px\">\n",
              "    <path d=\"M0 0h24v24H0V0z\" fill=\"none\"/>\n",
              "    <path d=\"M18.56 5.44l.94 2.06.94-2.06 2.06-.94-2.06-.94-.94-2.06-.94 2.06-2.06.94zm-11 1L8.5 8.5l.94-2.06 2.06-.94-2.06-.94L8.5 2.5l-.94 2.06-2.06.94zm10 10l.94 2.06.94-2.06 2.06-.94-2.06-.94-.94-2.06-.94 2.06-2.06.94z\"/><path d=\"M17.41 7.96l-1.37-1.37c-.4-.4-.92-.59-1.43-.59-.52 0-1.04.2-1.43.59L10.3 9.45l-7.72 7.72c-.78.78-.78 2.05 0 2.83L4 21.41c.39.39.9.59 1.41.59.51 0 1.02-.2 1.41-.59l7.78-7.78 2.81-2.81c.8-.78.8-2.07 0-2.86zM5.41 20L4 18.59l7.72-7.72 1.47 1.35L5.41 20z\"/>\n",
              "  </svg>\n",
              "      </button>\n",
              "      \n",
              "  <style>\n",
              "    .colab-df-container {\n",
              "      display:flex;\n",
              "      flex-wrap:wrap;\n",
              "      gap: 12px;\n",
              "    }\n",
              "\n",
              "    .colab-df-convert {\n",
              "      background-color: #E8F0FE;\n",
              "      border: none;\n",
              "      border-radius: 50%;\n",
              "      cursor: pointer;\n",
              "      display: none;\n",
              "      fill: #1967D2;\n",
              "      height: 32px;\n",
              "      padding: 0 0 0 0;\n",
              "      width: 32px;\n",
              "    }\n",
              "\n",
              "    .colab-df-convert:hover {\n",
              "      background-color: #E2EBFA;\n",
              "      box-shadow: 0px 1px 2px rgba(60, 64, 67, 0.3), 0px 1px 3px 1px rgba(60, 64, 67, 0.15);\n",
              "      fill: #174EA6;\n",
              "    }\n",
              "\n",
              "    [theme=dark] .colab-df-convert {\n",
              "      background-color: #3B4455;\n",
              "      fill: #D2E3FC;\n",
              "    }\n",
              "\n",
              "    [theme=dark] .colab-df-convert:hover {\n",
              "      background-color: #434B5C;\n",
              "      box-shadow: 0px 1px 3px 1px rgba(0, 0, 0, 0.15);\n",
              "      filter: drop-shadow(0px 1px 2px rgba(0, 0, 0, 0.3));\n",
              "      fill: #FFFFFF;\n",
              "    }\n",
              "  </style>\n",
              "\n",
              "      <script>\n",
              "        const buttonEl =\n",
              "          document.querySelector('#df-95371af0-7edc-4d02-9ea8-6dfc12ebc146 button.colab-df-convert');\n",
              "        buttonEl.style.display =\n",
              "          google.colab.kernel.accessAllowed ? 'block' : 'none';\n",
              "\n",
              "        async function convertToInteractive(key) {\n",
              "          const element = document.querySelector('#df-95371af0-7edc-4d02-9ea8-6dfc12ebc146');\n",
              "          const dataTable =\n",
              "            await google.colab.kernel.invokeFunction('convertToInteractive',\n",
              "                                                     [key], {});\n",
              "          if (!dataTable) return;\n",
              "\n",
              "          const docLinkHtml = 'Like what you see? Visit the ' +\n",
              "            '<a target=\"_blank\" href=https://colab.research.google.com/notebooks/data_table.ipynb>data table notebook</a>'\n",
              "            + ' to learn more about interactive tables.';\n",
              "          element.innerHTML = '';\n",
              "          dataTable['output_type'] = 'display_data';\n",
              "          await google.colab.output.renderOutput(dataTable, element);\n",
              "          const docLink = document.createElement('div');\n",
              "          docLink.innerHTML = docLinkHtml;\n",
              "          element.appendChild(docLink);\n",
              "        }\n",
              "      </script>\n",
              "    </div>\n",
              "  </div>\n",
              "  "
            ]
          },
          "metadata": {},
          "execution_count": 33
        }
      ]
    },
    {
      "cell_type": "code",
      "source": [
        "# drop the states that have lots of null value cause i don't want to change the final result as much as possible\n",
        "df=df[(df.RegionName != 'UnitedStates')]\n",
        "df=df[(df.RegionName != 'Kansas')]\n",
        "df=df[(df.RegionName != 'DistrictofColumbia')]\n",
        "df=df[(df.RegionName != 'Alaska')]\n",
        "df=df[(df.RegionName != 'Wyoming')]\n",
        "df=df[(df.RegionName != 'NorthDakota')]\n",
        "df=df[(df.RegionName != 'Texas')]\n",
        "df=df[(df.RegionName != 'Louisiana')]\n",
        "df=df[(df.RegionName != 'Montana')]"
      ],
      "metadata": {
        "id": "6io7w5zH4Cvh"
      },
      "execution_count": 34,
      "outputs": []
    },
    {
      "cell_type": "code",
      "source": [
        "df.isnull().sum()"
      ],
      "metadata": {
        "colab": {
          "base_uri": "https://localhost:8080/"
        },
        "id": "QULLlRkrUbZ0",
        "outputId": "8c5534cf-5abe-4427-f41b-8a3a70059e25"
      },
      "execution_count": 35,
      "outputs": [
        {
          "output_type": "execute_result",
          "data": {
            "text/plain": [
              "Date                              0\n",
              "RegionName                        0\n",
              "Price_1bedroom                 1485\n",
              "Price_2bedroom                  522\n",
              "Price_3bedroom                   16\n",
              "Price_4bedroom                  216\n",
              "Price_5BedroomOrMore            449\n",
              "Price_SingleFamilyResidence     240\n",
              "dtype: int64"
            ]
          },
          "metadata": {},
          "execution_count": 35
        }
      ]
    },
    {
      "cell_type": "code",
      "source": [
        "#use median for other null values\n",
        "df = df.fillna(df.median())\n",
        "display(df)\n",
        "display(type(df))\n",
        "display(df.dtypes)"
      ],
      "metadata": {
        "colab": {
          "base_uri": "https://localhost:8080/",
          "height": 904
        },
        "id": "fjWZWB_t59Ae",
        "outputId": "f02b11f7-7cbb-42d5-b22a-ecbbc45c4320"
      },
      "execution_count": 36,
      "outputs": [
        {
          "output_type": "stream",
          "name": "stderr",
          "text": [
            "<ipython-input-36-a0f89c22c55f>:2: FutureWarning: DataFrame.mean and DataFrame.median with numeric_only=None will include datetime64 and datetime64tz columns in a future version.\n",
            "  df = df.fillna(df.median())\n",
            "<ipython-input-36-a0f89c22c55f>:2: FutureWarning: Dropping of nuisance columns in DataFrame reductions (with 'numeric_only=None') is deprecated; in a future version this will raise TypeError.  Select only valid columns before calling the reduction.\n",
            "  df = df.fillna(df.median())\n"
          ]
        },
        {
          "output_type": "display_data",
          "data": {
            "text/plain": [
              "            Date    RegionName  Price_1bedroom  Price_2bedroom  \\\n",
              "0     2001-02-28       Alabama         70100.0         58700.0   \n",
              "2     2001-02-28       Arizona         75800.0        110200.0   \n",
              "3     2001-02-28      Arkansas         65100.0         64500.0   \n",
              "4     2001-02-28    California        146900.0        182700.0   \n",
              "5     2001-02-28      Colorado        118400.0        150600.0   \n",
              "...          ...           ...             ...             ...   \n",
              "13206 1999-12-31       Vermont         86000.0         97600.0   \n",
              "13207 1999-12-31      Virginia         80800.0         84400.0   \n",
              "13208 1999-12-31    Washington        115300.0        131300.0   \n",
              "13209 1999-12-31  WestVirginia         98400.0        112300.0   \n",
              "13210 1999-12-31     Wisconsin         80800.0         89800.0   \n",
              "\n",
              "       Price_3bedroom  Price_4bedroom  Price_5BedroomOrMore  \\\n",
              "0             95900.0        178700.0              248100.0   \n",
              "2            126600.0        168100.0              250500.0   \n",
              "3             90300.0        156700.0              245300.0   \n",
              "4            218400.0        293700.0              405100.0   \n",
              "5            186500.0        256200.0              302900.0   \n",
              "...               ...             ...                   ...   \n",
              "13206        120000.0        144100.0              160800.0   \n",
              "13207        114300.0        191000.0              266500.0   \n",
              "13208        164400.0        218700.0              254000.0   \n",
              "13209         60900.0         80200.0               90000.0   \n",
              "13210        114400.0        143400.0              165400.0   \n",
              "\n",
              "       Price_SingleFamilyResidence  \n",
              "0                          92500.0  \n",
              "2                         136900.0  \n",
              "3                          74400.0  \n",
              "4                         239900.0  \n",
              "5                         193900.0  \n",
              "...                            ...  \n",
              "13206                     145100.0  \n",
              "13207                     125100.0  \n",
              "13208                     165600.0  \n",
              "13209                      48100.0  \n",
              "13210                     113700.0  \n",
              "\n",
              "[11221 rows x 8 columns]"
            ],
            "text/html": [
              "\n",
              "  <div id=\"df-1af4fab2-9911-46c5-98b7-d43eec2c743a\">\n",
              "    <div class=\"colab-df-container\">\n",
              "      <div>\n",
              "<style scoped>\n",
              "    .dataframe tbody tr th:only-of-type {\n",
              "        vertical-align: middle;\n",
              "    }\n",
              "\n",
              "    .dataframe tbody tr th {\n",
              "        vertical-align: top;\n",
              "    }\n",
              "\n",
              "    .dataframe thead th {\n",
              "        text-align: right;\n",
              "    }\n",
              "</style>\n",
              "<table border=\"1\" class=\"dataframe\">\n",
              "  <thead>\n",
              "    <tr style=\"text-align: right;\">\n",
              "      <th></th>\n",
              "      <th>Date</th>\n",
              "      <th>RegionName</th>\n",
              "      <th>Price_1bedroom</th>\n",
              "      <th>Price_2bedroom</th>\n",
              "      <th>Price_3bedroom</th>\n",
              "      <th>Price_4bedroom</th>\n",
              "      <th>Price_5BedroomOrMore</th>\n",
              "      <th>Price_SingleFamilyResidence</th>\n",
              "    </tr>\n",
              "  </thead>\n",
              "  <tbody>\n",
              "    <tr>\n",
              "      <th>0</th>\n",
              "      <td>2001-02-28</td>\n",
              "      <td>Alabama</td>\n",
              "      <td>70100.0</td>\n",
              "      <td>58700.0</td>\n",
              "      <td>95900.0</td>\n",
              "      <td>178700.0</td>\n",
              "      <td>248100.0</td>\n",
              "      <td>92500.0</td>\n",
              "    </tr>\n",
              "    <tr>\n",
              "      <th>2</th>\n",
              "      <td>2001-02-28</td>\n",
              "      <td>Arizona</td>\n",
              "      <td>75800.0</td>\n",
              "      <td>110200.0</td>\n",
              "      <td>126600.0</td>\n",
              "      <td>168100.0</td>\n",
              "      <td>250500.0</td>\n",
              "      <td>136900.0</td>\n",
              "    </tr>\n",
              "    <tr>\n",
              "      <th>3</th>\n",
              "      <td>2001-02-28</td>\n",
              "      <td>Arkansas</td>\n",
              "      <td>65100.0</td>\n",
              "      <td>64500.0</td>\n",
              "      <td>90300.0</td>\n",
              "      <td>156700.0</td>\n",
              "      <td>245300.0</td>\n",
              "      <td>74400.0</td>\n",
              "    </tr>\n",
              "    <tr>\n",
              "      <th>4</th>\n",
              "      <td>2001-02-28</td>\n",
              "      <td>California</td>\n",
              "      <td>146900.0</td>\n",
              "      <td>182700.0</td>\n",
              "      <td>218400.0</td>\n",
              "      <td>293700.0</td>\n",
              "      <td>405100.0</td>\n",
              "      <td>239900.0</td>\n",
              "    </tr>\n",
              "    <tr>\n",
              "      <th>5</th>\n",
              "      <td>2001-02-28</td>\n",
              "      <td>Colorado</td>\n",
              "      <td>118400.0</td>\n",
              "      <td>150600.0</td>\n",
              "      <td>186500.0</td>\n",
              "      <td>256200.0</td>\n",
              "      <td>302900.0</td>\n",
              "      <td>193900.0</td>\n",
              "    </tr>\n",
              "    <tr>\n",
              "      <th>...</th>\n",
              "      <td>...</td>\n",
              "      <td>...</td>\n",
              "      <td>...</td>\n",
              "      <td>...</td>\n",
              "      <td>...</td>\n",
              "      <td>...</td>\n",
              "      <td>...</td>\n",
              "      <td>...</td>\n",
              "    </tr>\n",
              "    <tr>\n",
              "      <th>13206</th>\n",
              "      <td>1999-12-31</td>\n",
              "      <td>Vermont</td>\n",
              "      <td>86000.0</td>\n",
              "      <td>97600.0</td>\n",
              "      <td>120000.0</td>\n",
              "      <td>144100.0</td>\n",
              "      <td>160800.0</td>\n",
              "      <td>145100.0</td>\n",
              "    </tr>\n",
              "    <tr>\n",
              "      <th>13207</th>\n",
              "      <td>1999-12-31</td>\n",
              "      <td>Virginia</td>\n",
              "      <td>80800.0</td>\n",
              "      <td>84400.0</td>\n",
              "      <td>114300.0</td>\n",
              "      <td>191000.0</td>\n",
              "      <td>266500.0</td>\n",
              "      <td>125100.0</td>\n",
              "    </tr>\n",
              "    <tr>\n",
              "      <th>13208</th>\n",
              "      <td>1999-12-31</td>\n",
              "      <td>Washington</td>\n",
              "      <td>115300.0</td>\n",
              "      <td>131300.0</td>\n",
              "      <td>164400.0</td>\n",
              "      <td>218700.0</td>\n",
              "      <td>254000.0</td>\n",
              "      <td>165600.0</td>\n",
              "    </tr>\n",
              "    <tr>\n",
              "      <th>13209</th>\n",
              "      <td>1999-12-31</td>\n",
              "      <td>WestVirginia</td>\n",
              "      <td>98400.0</td>\n",
              "      <td>112300.0</td>\n",
              "      <td>60900.0</td>\n",
              "      <td>80200.0</td>\n",
              "      <td>90000.0</td>\n",
              "      <td>48100.0</td>\n",
              "    </tr>\n",
              "    <tr>\n",
              "      <th>13210</th>\n",
              "      <td>1999-12-31</td>\n",
              "      <td>Wisconsin</td>\n",
              "      <td>80800.0</td>\n",
              "      <td>89800.0</td>\n",
              "      <td>114400.0</td>\n",
              "      <td>143400.0</td>\n",
              "      <td>165400.0</td>\n",
              "      <td>113700.0</td>\n",
              "    </tr>\n",
              "  </tbody>\n",
              "</table>\n",
              "<p>11221 rows × 8 columns</p>\n",
              "</div>\n",
              "      <button class=\"colab-df-convert\" onclick=\"convertToInteractive('df-1af4fab2-9911-46c5-98b7-d43eec2c743a')\"\n",
              "              title=\"Convert this dataframe to an interactive table.\"\n",
              "              style=\"display:none;\">\n",
              "        \n",
              "  <svg xmlns=\"http://www.w3.org/2000/svg\" height=\"24px\"viewBox=\"0 0 24 24\"\n",
              "       width=\"24px\">\n",
              "    <path d=\"M0 0h24v24H0V0z\" fill=\"none\"/>\n",
              "    <path d=\"M18.56 5.44l.94 2.06.94-2.06 2.06-.94-2.06-.94-.94-2.06-.94 2.06-2.06.94zm-11 1L8.5 8.5l.94-2.06 2.06-.94-2.06-.94L8.5 2.5l-.94 2.06-2.06.94zm10 10l.94 2.06.94-2.06 2.06-.94-2.06-.94-.94-2.06-.94 2.06-2.06.94z\"/><path d=\"M17.41 7.96l-1.37-1.37c-.4-.4-.92-.59-1.43-.59-.52 0-1.04.2-1.43.59L10.3 9.45l-7.72 7.72c-.78.78-.78 2.05 0 2.83L4 21.41c.39.39.9.59 1.41.59.51 0 1.02-.2 1.41-.59l7.78-7.78 2.81-2.81c.8-.78.8-2.07 0-2.86zM5.41 20L4 18.59l7.72-7.72 1.47 1.35L5.41 20z\"/>\n",
              "  </svg>\n",
              "      </button>\n",
              "      \n",
              "  <style>\n",
              "    .colab-df-container {\n",
              "      display:flex;\n",
              "      flex-wrap:wrap;\n",
              "      gap: 12px;\n",
              "    }\n",
              "\n",
              "    .colab-df-convert {\n",
              "      background-color: #E8F0FE;\n",
              "      border: none;\n",
              "      border-radius: 50%;\n",
              "      cursor: pointer;\n",
              "      display: none;\n",
              "      fill: #1967D2;\n",
              "      height: 32px;\n",
              "      padding: 0 0 0 0;\n",
              "      width: 32px;\n",
              "    }\n",
              "\n",
              "    .colab-df-convert:hover {\n",
              "      background-color: #E2EBFA;\n",
              "      box-shadow: 0px 1px 2px rgba(60, 64, 67, 0.3), 0px 1px 3px 1px rgba(60, 64, 67, 0.15);\n",
              "      fill: #174EA6;\n",
              "    }\n",
              "\n",
              "    [theme=dark] .colab-df-convert {\n",
              "      background-color: #3B4455;\n",
              "      fill: #D2E3FC;\n",
              "    }\n",
              "\n",
              "    [theme=dark] .colab-df-convert:hover {\n",
              "      background-color: #434B5C;\n",
              "      box-shadow: 0px 1px 3px 1px rgba(0, 0, 0, 0.15);\n",
              "      filter: drop-shadow(0px 1px 2px rgba(0, 0, 0, 0.3));\n",
              "      fill: #FFFFFF;\n",
              "    }\n",
              "  </style>\n",
              "\n",
              "      <script>\n",
              "        const buttonEl =\n",
              "          document.querySelector('#df-1af4fab2-9911-46c5-98b7-d43eec2c743a button.colab-df-convert');\n",
              "        buttonEl.style.display =\n",
              "          google.colab.kernel.accessAllowed ? 'block' : 'none';\n",
              "\n",
              "        async function convertToInteractive(key) {\n",
              "          const element = document.querySelector('#df-1af4fab2-9911-46c5-98b7-d43eec2c743a');\n",
              "          const dataTable =\n",
              "            await google.colab.kernel.invokeFunction('convertToInteractive',\n",
              "                                                     [key], {});\n",
              "          if (!dataTable) return;\n",
              "\n",
              "          const docLinkHtml = 'Like what you see? Visit the ' +\n",
              "            '<a target=\"_blank\" href=https://colab.research.google.com/notebooks/data_table.ipynb>data table notebook</a>'\n",
              "            + ' to learn more about interactive tables.';\n",
              "          element.innerHTML = '';\n",
              "          dataTable['output_type'] = 'display_data';\n",
              "          await google.colab.output.renderOutput(dataTable, element);\n",
              "          const docLink = document.createElement('div');\n",
              "          docLink.innerHTML = docLinkHtml;\n",
              "          element.appendChild(docLink);\n",
              "        }\n",
              "      </script>\n",
              "    </div>\n",
              "  </div>\n",
              "  "
            ]
          },
          "metadata": {}
        },
        {
          "output_type": "display_data",
          "data": {
            "text/plain": [
              "pandas.core.frame.DataFrame"
            ]
          },
          "metadata": {}
        },
        {
          "output_type": "display_data",
          "data": {
            "text/plain": [
              "Date                           datetime64[ns]\n",
              "RegionName                             object\n",
              "Price_1bedroom                        float64\n",
              "Price_2bedroom                        float64\n",
              "Price_3bedroom                        float64\n",
              "Price_4bedroom                        float64\n",
              "Price_5BedroomOrMore                  float64\n",
              "Price_SingleFamilyResidence           float64\n",
              "dtype: object"
            ]
          },
          "metadata": {}
        }
      ]
    },
    {
      "cell_type": "code",
      "source": [
        "df.isnull().sum()"
      ],
      "metadata": {
        "colab": {
          "base_uri": "https://localhost:8080/"
        },
        "id": "TllJIC4ZIs5d",
        "outputId": "30de6801-5235-4dc8-e5bc-4f4a97b385d7"
      },
      "execution_count": 37,
      "outputs": [
        {
          "output_type": "execute_result",
          "data": {
            "text/plain": [
              "Date                           0\n",
              "RegionName                     0\n",
              "Price_1bedroom                 0\n",
              "Price_2bedroom                 0\n",
              "Price_3bedroom                 0\n",
              "Price_4bedroom                 0\n",
              "Price_5BedroomOrMore           0\n",
              "Price_SingleFamilyResidence    0\n",
              "dtype: int64"
            ]
          },
          "metadata": {},
          "execution_count": 37
        }
      ]
    },
    {
      "cell_type": "markdown",
      "source": [
        "#Data manipulation"
      ],
      "metadata": {
        "id": "5dMVVF4GIodg"
      }
    },
    {
      "cell_type": "code",
      "source": [
        "#name and number of states in the data set \n",
        "print('Total number of States :',df['RegionName'].nunique())\n",
        "print('-------------')\n",
        "print('Name of the States :',df['RegionName'].unique(),sep='\\n')"
      ],
      "metadata": {
        "colab": {
          "base_uri": "https://localhost:8080/"
        },
        "id": "wc6vPGlgCpFO",
        "outputId": "b1299ef5-9fe5-4d45-f233-417ece441c47"
      },
      "execution_count": 38,
      "outputs": [
        {
          "output_type": "stream",
          "name": "stdout",
          "text": [
            "Total number of States : 43\n",
            "-------------\n",
            "Name of the States :\n",
            "['Alabama' 'Arizona' 'Arkansas' 'California' 'Colorado' 'Connecticut'\n",
            " 'Delaware' 'Florida' 'Georgia' 'Hawaii' 'Idaho' 'Illinois' 'Indiana'\n",
            " 'Iowa' 'Kentucky' 'Maine' 'Maryland' 'Massachusetts' 'Michigan'\n",
            " 'Minnesota' 'Mississippi' 'Missouri' 'Nebraska' 'Nevada' 'NewHampshire'\n",
            " 'NewJersey' 'NewMexico' 'NewYork' 'NorthCarolina' 'Ohio' 'Oklahoma'\n",
            " 'Oregon' 'Pennsylvania' 'RhodeIsland' 'SouthCarolina' 'SouthDakota'\n",
            " 'Tennessee' 'Utah' 'Vermont' 'Virginia' 'Washington' 'WestVirginia'\n",
            " 'Wisconsin']\n"
          ]
        }
      ]
    },
    {
      "cell_type": "code",
      "source": [
        "df.describe()"
      ],
      "metadata": {
        "colab": {
          "base_uri": "https://localhost:8080/",
          "height": 344
        },
        "id": "hEgNGuM8FGEx",
        "outputId": "c518bd2e-88d4-4c81-a47f-d3a8bb50bcf9"
      },
      "execution_count": 39,
      "outputs": [
        {
          "output_type": "execute_result",
          "data": {
            "text/plain": [
              "       Price_1bedroom  Price_2bedroom  Price_3bedroom  Price_4bedroom  \\\n",
              "count    11221.000000    11221.000000    11221.000000    11221.000000   \n",
              "mean    112072.239551   129490.794047   164903.110240   240475.073523   \n",
              "std      52040.042620    63570.714790    77210.229494    97358.963352   \n",
              "min      30900.000000    32800.000000    49600.000000    64700.000000   \n",
              "25%      77400.000000    86900.000000   116500.000000   175500.000000   \n",
              "50%      98400.000000   112300.000000   141000.000000   218200.000000   \n",
              "75%     135200.000000   160700.000000   202200.000000   278900.000000   \n",
              "max     374500.000000   463000.000000   639700.000000   804900.000000   \n",
              "\n",
              "       Price_5BedroomOrMore  Price_SingleFamilyResidence  \n",
              "count          11221.000000                 11221.000000  \n",
              "mean          308957.583994                170679.734427  \n",
              "std           133201.736586                 89694.974051  \n",
              "min            68600.000000                 37900.000000  \n",
              "25%           217000.000000                114300.000000  \n",
              "50%           283750.000000                145100.000000  \n",
              "75%           356300.000000                210200.000000  \n",
              "max           933900.000000                737500.000000  "
            ],
            "text/html": [
              "\n",
              "  <div id=\"df-ab6d6440-9063-4705-83a8-4b365232c7f0\">\n",
              "    <div class=\"colab-df-container\">\n",
              "      <div>\n",
              "<style scoped>\n",
              "    .dataframe tbody tr th:only-of-type {\n",
              "        vertical-align: middle;\n",
              "    }\n",
              "\n",
              "    .dataframe tbody tr th {\n",
              "        vertical-align: top;\n",
              "    }\n",
              "\n",
              "    .dataframe thead th {\n",
              "        text-align: right;\n",
              "    }\n",
              "</style>\n",
              "<table border=\"1\" class=\"dataframe\">\n",
              "  <thead>\n",
              "    <tr style=\"text-align: right;\">\n",
              "      <th></th>\n",
              "      <th>Price_1bedroom</th>\n",
              "      <th>Price_2bedroom</th>\n",
              "      <th>Price_3bedroom</th>\n",
              "      <th>Price_4bedroom</th>\n",
              "      <th>Price_5BedroomOrMore</th>\n",
              "      <th>Price_SingleFamilyResidence</th>\n",
              "    </tr>\n",
              "  </thead>\n",
              "  <tbody>\n",
              "    <tr>\n",
              "      <th>count</th>\n",
              "      <td>11221.000000</td>\n",
              "      <td>11221.000000</td>\n",
              "      <td>11221.000000</td>\n",
              "      <td>11221.000000</td>\n",
              "      <td>11221.000000</td>\n",
              "      <td>11221.000000</td>\n",
              "    </tr>\n",
              "    <tr>\n",
              "      <th>mean</th>\n",
              "      <td>112072.239551</td>\n",
              "      <td>129490.794047</td>\n",
              "      <td>164903.110240</td>\n",
              "      <td>240475.073523</td>\n",
              "      <td>308957.583994</td>\n",
              "      <td>170679.734427</td>\n",
              "    </tr>\n",
              "    <tr>\n",
              "      <th>std</th>\n",
              "      <td>52040.042620</td>\n",
              "      <td>63570.714790</td>\n",
              "      <td>77210.229494</td>\n",
              "      <td>97358.963352</td>\n",
              "      <td>133201.736586</td>\n",
              "      <td>89694.974051</td>\n",
              "    </tr>\n",
              "    <tr>\n",
              "      <th>min</th>\n",
              "      <td>30900.000000</td>\n",
              "      <td>32800.000000</td>\n",
              "      <td>49600.000000</td>\n",
              "      <td>64700.000000</td>\n",
              "      <td>68600.000000</td>\n",
              "      <td>37900.000000</td>\n",
              "    </tr>\n",
              "    <tr>\n",
              "      <th>25%</th>\n",
              "      <td>77400.000000</td>\n",
              "      <td>86900.000000</td>\n",
              "      <td>116500.000000</td>\n",
              "      <td>175500.000000</td>\n",
              "      <td>217000.000000</td>\n",
              "      <td>114300.000000</td>\n",
              "    </tr>\n",
              "    <tr>\n",
              "      <th>50%</th>\n",
              "      <td>98400.000000</td>\n",
              "      <td>112300.000000</td>\n",
              "      <td>141000.000000</td>\n",
              "      <td>218200.000000</td>\n",
              "      <td>283750.000000</td>\n",
              "      <td>145100.000000</td>\n",
              "    </tr>\n",
              "    <tr>\n",
              "      <th>75%</th>\n",
              "      <td>135200.000000</td>\n",
              "      <td>160700.000000</td>\n",
              "      <td>202200.000000</td>\n",
              "      <td>278900.000000</td>\n",
              "      <td>356300.000000</td>\n",
              "      <td>210200.000000</td>\n",
              "    </tr>\n",
              "    <tr>\n",
              "      <th>max</th>\n",
              "      <td>374500.000000</td>\n",
              "      <td>463000.000000</td>\n",
              "      <td>639700.000000</td>\n",
              "      <td>804900.000000</td>\n",
              "      <td>933900.000000</td>\n",
              "      <td>737500.000000</td>\n",
              "    </tr>\n",
              "  </tbody>\n",
              "</table>\n",
              "</div>\n",
              "      <button class=\"colab-df-convert\" onclick=\"convertToInteractive('df-ab6d6440-9063-4705-83a8-4b365232c7f0')\"\n",
              "              title=\"Convert this dataframe to an interactive table.\"\n",
              "              style=\"display:none;\">\n",
              "        \n",
              "  <svg xmlns=\"http://www.w3.org/2000/svg\" height=\"24px\"viewBox=\"0 0 24 24\"\n",
              "       width=\"24px\">\n",
              "    <path d=\"M0 0h24v24H0V0z\" fill=\"none\"/>\n",
              "    <path d=\"M18.56 5.44l.94 2.06.94-2.06 2.06-.94-2.06-.94-.94-2.06-.94 2.06-2.06.94zm-11 1L8.5 8.5l.94-2.06 2.06-.94-2.06-.94L8.5 2.5l-.94 2.06-2.06.94zm10 10l.94 2.06.94-2.06 2.06-.94-2.06-.94-.94-2.06-.94 2.06-2.06.94z\"/><path d=\"M17.41 7.96l-1.37-1.37c-.4-.4-.92-.59-1.43-.59-.52 0-1.04.2-1.43.59L10.3 9.45l-7.72 7.72c-.78.78-.78 2.05 0 2.83L4 21.41c.39.39.9.59 1.41.59.51 0 1.02-.2 1.41-.59l7.78-7.78 2.81-2.81c.8-.78.8-2.07 0-2.86zM5.41 20L4 18.59l7.72-7.72 1.47 1.35L5.41 20z\"/>\n",
              "  </svg>\n",
              "      </button>\n",
              "      \n",
              "  <style>\n",
              "    .colab-df-container {\n",
              "      display:flex;\n",
              "      flex-wrap:wrap;\n",
              "      gap: 12px;\n",
              "    }\n",
              "\n",
              "    .colab-df-convert {\n",
              "      background-color: #E8F0FE;\n",
              "      border: none;\n",
              "      border-radius: 50%;\n",
              "      cursor: pointer;\n",
              "      display: none;\n",
              "      fill: #1967D2;\n",
              "      height: 32px;\n",
              "      padding: 0 0 0 0;\n",
              "      width: 32px;\n",
              "    }\n",
              "\n",
              "    .colab-df-convert:hover {\n",
              "      background-color: #E2EBFA;\n",
              "      box-shadow: 0px 1px 2px rgba(60, 64, 67, 0.3), 0px 1px 3px 1px rgba(60, 64, 67, 0.15);\n",
              "      fill: #174EA6;\n",
              "    }\n",
              "\n",
              "    [theme=dark] .colab-df-convert {\n",
              "      background-color: #3B4455;\n",
              "      fill: #D2E3FC;\n",
              "    }\n",
              "\n",
              "    [theme=dark] .colab-df-convert:hover {\n",
              "      background-color: #434B5C;\n",
              "      box-shadow: 0px 1px 3px 1px rgba(0, 0, 0, 0.15);\n",
              "      filter: drop-shadow(0px 1px 2px rgba(0, 0, 0, 0.3));\n",
              "      fill: #FFFFFF;\n",
              "    }\n",
              "  </style>\n",
              "\n",
              "      <script>\n",
              "        const buttonEl =\n",
              "          document.querySelector('#df-ab6d6440-9063-4705-83a8-4b365232c7f0 button.colab-df-convert');\n",
              "        buttonEl.style.display =\n",
              "          google.colab.kernel.accessAllowed ? 'block' : 'none';\n",
              "\n",
              "        async function convertToInteractive(key) {\n",
              "          const element = document.querySelector('#df-ab6d6440-9063-4705-83a8-4b365232c7f0');\n",
              "          const dataTable =\n",
              "            await google.colab.kernel.invokeFunction('convertToInteractive',\n",
              "                                                     [key], {});\n",
              "          if (!dataTable) return;\n",
              "\n",
              "          const docLinkHtml = 'Like what you see? Visit the ' +\n",
              "            '<a target=\"_blank\" href=https://colab.research.google.com/notebooks/data_table.ipynb>data table notebook</a>'\n",
              "            + ' to learn more about interactive tables.';\n",
              "          element.innerHTML = '';\n",
              "          dataTable['output_type'] = 'display_data';\n",
              "          await google.colab.output.renderOutput(dataTable, element);\n",
              "          const docLink = document.createElement('div');\n",
              "          docLink.innerHTML = docLinkHtml;\n",
              "          element.appendChild(docLink);\n",
              "        }\n",
              "      </script>\n",
              "    </div>\n",
              "  </div>\n",
              "  "
            ]
          },
          "metadata": {},
          "execution_count": 39
        }
      ]
    },
    {
      "cell_type": "code",
      "source": [
        "#histogram for different type of houses\n",
        "df_hist = df.drop(columns=['Date'],axis=1)\n",
        "df_hist.hist(figsize=(14,14));"
      ],
      "metadata": {
        "colab": {
          "base_uri": "https://localhost:8080/",
          "height": 825
        },
        "id": "CwjyLeTSOGO2",
        "outputId": "92e2fa28-68c5-4c28-e089-52243d40433f"
      },
      "execution_count": 40,
      "outputs": [
        {
          "output_type": "display_data",
          "data": {
            "text/plain": [
              "<Figure size 1008x1008 with 6 Axes>"
            ],
            "image/png": "[encoded data removed]"
          },
          "metadata": {
            "needs_background": "light"
          }
        }
      ]
    },
    {
      "cell_type": "code",
      "source": [
        "#creat a pivot table of states regarding the date and total price of all type of houses\n",
        "df['houseprice']=df['Price_1bedroom']+df['Price_2bedroom']+df['Price_3bedroom']+df['Price_4bedroom']+df['Price_5BedroomOrMore']+df['Price_SingleFamilyResidence']\n",
        "house_price_by_region= pd.pivot_table(data=df, index='Date', columns='RegionName',values='houseprice')\n"
      ],
      "metadata": {
        "id": "vLYiBIRZjJ89"
      },
      "execution_count": 41,
      "outputs": []
    },
    {
      "cell_type": "code",
      "source": [
        "display(house_price_by_region)\n",
        "display(type(house_price_by_region))\n",
        "display(house_price_by_region.dtypes)\n",
        "display(house_price_by_region.index)"
      ],
      "metadata": {
        "id": "OGMnuZhXtweQ",
        "colab": {
          "base_uri": "https://localhost:8080/",
          "height": 1000
        },
        "outputId": "4001c28e-31de-4324-ef8d-350e38ee32e4"
      },
      "execution_count": 42,
      "outputs": [
        {
          "output_type": "display_data",
          "data": {
            "text/plain": [
              "RegionName    Alabama    Arizona   Arkansas  California   Colorado  \\\n",
              "Date                                                                 \n",
              "1996-04-30   620400.0   668100.0   569900.0    991400.0   826900.0   \n",
              "1996-05-31   614900.0   668100.0   570700.0    988900.0   828800.0   \n",
              "1996-06-30   613100.0   669200.0   572600.0    984400.0   829600.0   \n",
              "1996-07-31   612600.0   670000.0   572900.0    980700.0   830400.0   \n",
              "1996-08-31   611800.0   670900.0   573100.0    977800.0   831300.0   \n",
              "...               ...        ...        ...         ...        ...   \n",
              "2017-08-31  1007300.0  1446500.0  1050700.0   3170600.0  2119200.0   \n",
              "2017-09-30  1011800.0  1455300.0  1055200.0   3188700.0  2129000.0   \n",
              "2017-10-31  1013700.0  1465100.0  1059300.0   3209600.0  2139900.0   \n",
              "2017-11-30  1016200.0  1472200.0  1062000.0   3235200.0  2150800.0   \n",
              "2017-12-31  1021000.0  1475600.0  1063800.0   3256900.0  2158900.0   \n",
              "\n",
              "RegionName  Connecticut   Delaware    Florida    Georgia     Hawaii  ...  \\\n",
              "Date                                                                 ...   \n",
              "1996-04-30     927700.0   723100.0   625500.0   682500.0  1482200.0  ...   \n",
              "1996-05-31     926000.0   724200.0   626400.0   683200.0  1471400.0  ...   \n",
              "1996-06-30     926300.0   725800.0   625600.0   683400.0  1458300.0  ...   \n",
              "1996-07-31     927200.0   726400.0   624300.0   683300.0  1443500.0  ...   \n",
              "1996-08-31     926400.0   726800.0   623800.0   682800.0  1429000.0  ...   \n",
              "...                 ...        ...        ...        ...        ...  ...   \n",
              "2017-08-31    1725200.0  1436800.0  1482200.0  1197300.0  3868900.0  ...   \n",
              "2017-09-30    1731800.0  1443700.0  1490900.0  1204300.0  3885100.0  ...   \n",
              "2017-10-31    1736500.0  1455900.0  1499300.0  1209200.0  3906800.0  ...   \n",
              "2017-11-30    1737700.0  1498000.0  1507100.0  1213700.0  3931300.0  ...   \n",
              "2017-12-31    1738400.0  1554000.0  1511500.0  1218300.0  3953500.0  ...   \n",
              "\n",
              "RegionName  RhodeIsland  SouthCarolina  SouthDakota  Tennessee       Utah  \\\n",
              "Date                                                                        \n",
              "1996-04-30     758500.0       719250.0          NaN   593200.0   753500.0   \n",
              "1996-05-31     755900.0       718050.0     524300.0   595100.0   755000.0   \n",
              "1996-06-30     753000.0       717850.0     522200.0   597400.0   757000.0   \n",
              "1996-07-31     749500.0       718150.0     520000.0   599400.0   760000.0   \n",
              "1996-08-31     746200.0       717650.0     519600.0   601600.0   764400.0   \n",
              "...                 ...            ...          ...        ...        ...   \n",
              "2017-08-31    1778600.0      1046450.0    1091100.0  1203700.0  1415800.0   \n",
              "2017-09-30    1792400.0      1050350.0    1098300.0  1211500.0  1423600.0   \n",
              "2017-10-31    1807000.0      1055350.0    1103900.0  1218800.0  1431900.0   \n",
              "2017-11-30    1821200.0      1058350.0    1111900.0  1226200.0  1442800.0   \n",
              "2017-12-31    1834700.0      1061950.0    1123200.0  1232600.0  1456400.0   \n",
              "\n",
              "RegionName    Vermont   Virginia  Washington  WestVirginia  Wisconsin  \n",
              "Date                                                                   \n",
              "1996-04-30        NaN   766000.0    837300.0      431500.0   939350.0  \n",
              "1996-05-31   807200.0   766400.0    837200.0      434800.0   938750.0  \n",
              "1996-06-30   815800.0   765600.0    836900.0      439100.0   937750.0  \n",
              "1996-07-31   821900.0   764500.0    837100.0      443100.0   936650.0  \n",
              "1996-08-31   822000.0   764100.0    837400.0      445500.0   936150.0  \n",
              "...               ...        ...         ...           ...        ...  \n",
              "2017-08-31  1573200.0  1723900.0   2240900.0      763000.0  1053200.0  \n",
              "2017-09-30  1576300.0  1728900.0   2259300.0      764900.0  1058900.0  \n",
              "2017-10-31  1569600.0  1732100.0   2278900.0      766600.0  1063400.0  \n",
              "2017-11-30  1550900.0  1731000.0   2297500.0      766200.0  1067100.0  \n",
              "2017-12-31  1538300.0  1729000.0   2311900.0      764800.0  1069900.0  \n",
              "\n",
              "[261 rows x 43 columns]"
            ],
            "text/html": [
              "\n",
              "  <div id=\"df-ef0e6299-eddd-4016-b3c2-a8ecd0c10073\">\n",
              "    <div class=\"colab-df-container\">\n",
              "      <div>\n",
              "<style scoped>\n",
              "    .dataframe tbody tr th:only-of-type {\n",
              "        vertical-align: middle;\n",
              "    }\n",
              "\n",
              "    .dataframe tbody tr th {\n",
              "        vertical-align: top;\n",
              "    }\n",
              "\n",
              "    .dataframe thead th {\n",
              "        text-align: right;\n",
              "    }\n",
              "</style>\n",
              "<table border=\"1\" class=\"dataframe\">\n",
              "  <thead>\n",
              "    <tr style=\"text-align: right;\">\n",
              "      <th>RegionName</th>\n",
              "      <th>Alabama</th>\n",
              "      <th>Arizona</th>\n",
              "      <th>Arkansas</th>\n",
              "      <th>California</th>\n",
              "      <th>Colorado</th>\n",
              "      <th>Connecticut</th>\n",
              "      <th>Delaware</th>\n",
              "      <th>Florida</th>\n",
              "      <th>Georgia</th>\n",
              "      <th>Hawaii</th>\n",
              "      <th>...</th>\n",
              "      <th>RhodeIsland</th>\n",
              "      <th>SouthCarolina</th>\n",
              "      <th>SouthDakota</th>\n",
              "      <th>Tennessee</th>\n",
              "      <th>Utah</th>\n",
              "      <th>Vermont</th>\n",
              "      <th>Virginia</th>\n",
              "      <th>Washington</th>\n",
              "      <th>WestVirginia</th>\n",
              "      <th>Wisconsin</th>\n",
              "    </tr>\n",
              "    <tr>\n",
              "      <th>Date</th>\n",
              "      <th></th>\n",
              "      <th></th>\n",
              "      <th></th>\n",
              "      <th></th>\n",
              "      <th></th>\n",
              "      <th></th>\n",
              "      <th></th>\n",
              "      <th></th>\n",
              "      <th></th>\n",
              "      <th></th>\n",
              "      <th></th>\n",
              "      <th></th>\n",
              "      <th></th>\n",
              "      <th></th>\n",
              "      <th></th>\n",
              "      <th></th>\n",
              "      <th></th>\n",
              "      <th></th>\n",
              "      <th></th>\n",
              "      <th></th>\n",
              "      <th></th>\n",
              "    </tr>\n",
              "  </thead>\n",
              "  <tbody>\n",
              "    <tr>\n",
              "      <th>1996-04-30</th>\n",
              "      <td>620400.0</td>\n",
              "      <td>668100.0</td>\n",
              "      <td>569900.0</td>\n",
              "      <td>991400.0</td>\n",
              "      <td>826900.0</td>\n",
              "      <td>927700.0</td>\n",
              "      <td>723100.0</td>\n",
              "      <td>625500.0</td>\n",
              "      <td>682500.0</td>\n",
              "      <td>1482200.0</td>\n",
              "      <td>...</td>\n",
              "      <td>758500.0</td>\n",
              "      <td>719250.0</td>\n",
              "      <td>NaN</td>\n",
              "      <td>593200.0</td>\n",
              "      <td>753500.0</td>\n",
              "      <td>NaN</td>\n",
              "      <td>766000.0</td>\n",
              "      <td>837300.0</td>\n",
              "      <td>431500.0</td>\n",
              "      <td>939350.0</td>\n",
              "    </tr>\n",
              "    <tr>\n",
              "      <th>1996-05-31</th>\n",
              "      <td>614900.0</td>\n",
              "      <td>668100.0</td>\n",
              "      <td>570700.0</td>\n",
              "      <td>988900.0</td>\n",
              "      <td>828800.0</td>\n",
              "      <td>926000.0</td>\n",
              "      <td>724200.0</td>\n",
              "      <td>626400.0</td>\n",
              "      <td>683200.0</td>\n",
              "      <td>1471400.0</td>\n",
              "      <td>...</td>\n",
              "      <td>755900.0</td>\n",
              "      <td>718050.0</td>\n",
              "      <td>524300.0</td>\n",
              "      <td>595100.0</td>\n",
              "      <td>755000.0</td>\n",
              "      <td>807200.0</td>\n",
              "      <td>766400.0</td>\n",
              "      <td>837200.0</td>\n",
              "      <td>434800.0</td>\n",
              "      <td>938750.0</td>\n",
              "    </tr>\n",
              "    <tr>\n",
              "      <th>1996-06-30</th>\n",
              "      <td>613100.0</td>\n",
              "      <td>669200.0</td>\n",
              "      <td>572600.0</td>\n",
              "      <td>984400.0</td>\n",
              "      <td>829600.0</td>\n",
              "      <td>926300.0</td>\n",
              "      <td>725800.0</td>\n",
              "      <td>625600.0</td>\n",
              "      <td>683400.0</td>\n",
              "      <td>1458300.0</td>\n",
              "      <td>...</td>\n",
              "      <td>753000.0</td>\n",
              "      <td>717850.0</td>\n",
              "      <td>522200.0</td>\n",
              "      <td>597400.0</td>\n",
              "      <td>757000.0</td>\n",
              "      <td>815800.0</td>\n",
              "      <td>765600.0</td>\n",
              "      <td>836900.0</td>\n",
              "      <td>439100.0</td>\n",
              "      <td>937750.0</td>\n",
              "    </tr>\n",
              "    <tr>\n",
              "      <th>1996-07-31</th>\n",
              "      <td>612600.0</td>\n",
              "      <td>670000.0</td>\n",
              "      <td>572900.0</td>\n",
              "      <td>980700.0</td>\n",
              "      <td>830400.0</td>\n",
              "      <td>927200.0</td>\n",
              "      <td>726400.0</td>\n",
              "      <td>624300.0</td>\n",
              "      <td>683300.0</td>\n",
              "      <td>1443500.0</td>\n",
              "      <td>...</td>\n",
              "      <td>749500.0</td>\n",
              "      <td>718150.0</td>\n",
              "      <td>520000.0</td>\n",
              "      <td>599400.0</td>\n",
              "      <td>760000.0</td>\n",
              "      <td>821900.0</td>\n",
              "      <td>764500.0</td>\n",
              "      <td>837100.0</td>\n",
              "      <td>443100.0</td>\n",
              "      <td>936650.0</td>\n",
              "    </tr>\n",
              "    <tr>\n",
              "      <th>1996-08-31</th>\n",
              "      <td>611800.0</td>\n",
              "      <td>670900.0</td>\n",
              "      <td>573100.0</td>\n",
              "      <td>977800.0</td>\n",
              "      <td>831300.0</td>\n",
              "      <td>926400.0</td>\n",
              "      <td>726800.0</td>\n",
              "      <td>623800.0</td>\n",
              "      <td>682800.0</td>\n",
              "      <td>1429000.0</td>\n",
              "      <td>...</td>\n",
              "      <td>746200.0</td>\n",
              "      <td>717650.0</td>\n",
              "      <td>519600.0</td>\n",
              "      <td>601600.0</td>\n",
              "      <td>764400.0</td>\n",
              "      <td>822000.0</td>\n",
              "      <td>764100.0</td>\n",
              "      <td>837400.0</td>\n",
              "      <td>445500.0</td>\n",
              "      <td>936150.0</td>\n",
              "    </tr>\n",
              "    <tr>\n",
              "      <th>...</th>\n",
              "      <td>...</td>\n",
              "      <td>...</td>\n",
              "      <td>...</td>\n",
              "      <td>...</td>\n",
              "      <td>...</td>\n",
              "      <td>...</td>\n",
              "      <td>...</td>\n",
              "      <td>...</td>\n",
              "      <td>...</td>\n",
              "      <td>...</td>\n",
              "      <td>...</td>\n",
              "      <td>...</td>\n",
              "      <td>...</td>\n",
              "      <td>...</td>\n",
              "      <td>...</td>\n",
              "      <td>...</td>\n",
              "      <td>...</td>\n",
              "      <td>...</td>\n",
              "      <td>...</td>\n",
              "      <td>...</td>\n",
              "      <td>...</td>\n",
              "    </tr>\n",
              "    <tr>\n",
              "      <th>2017-08-31</th>\n",
              "      <td>1007300.0</td>\n",
              "      <td>1446500.0</td>\n",
              "      <td>1050700.0</td>\n",
              "      <td>3170600.0</td>\n",
              "      <td>2119200.0</td>\n",
              "      <td>1725200.0</td>\n",
              "      <td>1436800.0</td>\n",
              "      <td>1482200.0</td>\n",
              "      <td>1197300.0</td>\n",
              "      <td>3868900.0</td>\n",
              "      <td>...</td>\n",
              "      <td>1778600.0</td>\n",
              "      <td>1046450.0</td>\n",
              "      <td>1091100.0</td>\n",
              "      <td>1203700.0</td>\n",
              "      <td>1415800.0</td>\n",
              "      <td>1573200.0</td>\n",
              "      <td>1723900.0</td>\n",
              "      <td>2240900.0</td>\n",
              "      <td>763000.0</td>\n",
              "      <td>1053200.0</td>\n",
              "    </tr>\n",
              "    <tr>\n",
              "      <th>2017-09-30</th>\n",
              "      <td>1011800.0</td>\n",
              "      <td>1455300.0</td>\n",
              "      <td>1055200.0</td>\n",
              "      <td>3188700.0</td>\n",
              "      <td>2129000.0</td>\n",
              "      <td>1731800.0</td>\n",
              "      <td>1443700.0</td>\n",
              "      <td>1490900.0</td>\n",
              "      <td>1204300.0</td>\n",
              "      <td>3885100.0</td>\n",
              "      <td>...</td>\n",
              "      <td>1792400.0</td>\n",
              "      <td>1050350.0</td>\n",
              "      <td>1098300.0</td>\n",
              "      <td>1211500.0</td>\n",
              "      <td>1423600.0</td>\n",
              "      <td>1576300.0</td>\n",
              "      <td>1728900.0</td>\n",
              "      <td>2259300.0</td>\n",
              "      <td>764900.0</td>\n",
              "      <td>1058900.0</td>\n",
              "    </tr>\n",
              "    <tr>\n",
              "      <th>2017-10-31</th>\n",
              "      <td>1013700.0</td>\n",
              "      <td>1465100.0</td>\n",
              "      <td>1059300.0</td>\n",
              "      <td>3209600.0</td>\n",
              "      <td>2139900.0</td>\n",
              "      <td>1736500.0</td>\n",
              "      <td>1455900.0</td>\n",
              "      <td>1499300.0</td>\n",
              "      <td>1209200.0</td>\n",
              "      <td>3906800.0</td>\n",
              "      <td>...</td>\n",
              "      <td>1807000.0</td>\n",
              "      <td>1055350.0</td>\n",
              "      <td>1103900.0</td>\n",
              "      <td>1218800.0</td>\n",
              "      <td>1431900.0</td>\n",
              "      <td>1569600.0</td>\n",
              "      <td>1732100.0</td>\n",
              "      <td>2278900.0</td>\n",
              "      <td>766600.0</td>\n",
              "      <td>1063400.0</td>\n",
              "    </tr>\n",
              "    <tr>\n",
              "      <th>2017-11-30</th>\n",
              "      <td>1016200.0</td>\n",
              "      <td>1472200.0</td>\n",
              "      <td>1062000.0</td>\n",
              "      <td>3235200.0</td>\n",
              "      <td>2150800.0</td>\n",
              "      <td>1737700.0</td>\n",
              "      <td>1498000.0</td>\n",
              "      <td>1507100.0</td>\n",
              "      <td>1213700.0</td>\n",
              "      <td>3931300.0</td>\n",
              "      <td>...</td>\n",
              "      <td>1821200.0</td>\n",
              "      <td>1058350.0</td>\n",
              "      <td>1111900.0</td>\n",
              "      <td>1226200.0</td>\n",
              "      <td>1442800.0</td>\n",
              "      <td>1550900.0</td>\n",
              "      <td>1731000.0</td>\n",
              "      <td>2297500.0</td>\n",
              "      <td>766200.0</td>\n",
              "      <td>1067100.0</td>\n",
              "    </tr>\n",
              "    <tr>\n",
              "      <th>2017-12-31</th>\n",
              "      <td>1021000.0</td>\n",
              "      <td>1475600.0</td>\n",
              "      <td>1063800.0</td>\n",
              "      <td>3256900.0</td>\n",
              "      <td>2158900.0</td>\n",
              "      <td>1738400.0</td>\n",
              "      <td>1554000.0</td>\n",
              "      <td>1511500.0</td>\n",
              "      <td>1218300.0</td>\n",
              "      <td>3953500.0</td>\n",
              "      <td>...</td>\n",
              "      <td>1834700.0</td>\n",
              "      <td>1061950.0</td>\n",
              "      <td>1123200.0</td>\n",
              "      <td>1232600.0</td>\n",
              "      <td>1456400.0</td>\n",
              "      <td>1538300.0</td>\n",
              "      <td>1729000.0</td>\n",
              "      <td>2311900.0</td>\n",
              "      <td>764800.0</td>\n",
              "      <td>1069900.0</td>\n",
              "    </tr>\n",
              "  </tbody>\n",
              "</table>\n",
              "<p>261 rows × 43 columns</p>\n",
              "</div>\n",
              "      <button class=\"colab-df-convert\" onclick=\"convertToInteractive('df-ef0e6299-eddd-4016-b3c2-a8ecd0c10073')\"\n",
              "              title=\"Convert this dataframe to an interactive table.\"\n",
              "              style=\"display:none;\">\n",
              "        \n",
              "  <svg xmlns=\"http://www.w3.org/2000/svg\" height=\"24px\"viewBox=\"0 0 24 24\"\n",
              "       width=\"24px\">\n",
              "    <path d=\"M0 0h24v24H0V0z\" fill=\"none\"/>\n",
              "    <path d=\"M18.56 5.44l.94 2.06.94-2.06 2.06-.94-2.06-.94-.94-2.06-.94 2.06-2.06.94zm-11 1L8.5 8.5l.94-2.06 2.06-.94-2.06-.94L8.5 2.5l-.94 2.06-2.06.94zm10 10l.94 2.06.94-2.06 2.06-.94-2.06-.94-.94-2.06-.94 2.06-2.06.94z\"/><path d=\"M17.41 7.96l-1.37-1.37c-.4-.4-.92-.59-1.43-.59-.52 0-1.04.2-1.43.59L10.3 9.45l-7.72 7.72c-.78.78-.78 2.05 0 2.83L4 21.41c.39.39.9.59 1.41.59.51 0 1.02-.2 1.41-.59l7.78-7.78 2.81-2.81c.8-.78.8-2.07 0-2.86zM5.41 20L4 18.59l7.72-7.72 1.47 1.35L5.41 20z\"/>\n",
              "  </svg>\n",
              "      </button>\n",
              "      \n",
              "  <style>\n",
              "    .colab-df-container {\n",
              "      display:flex;\n",
              "      flex-wrap:wrap;\n",
              "      gap: 12px;\n",
              "    }\n",
              "\n",
              "    .colab-df-convert {\n",
              "      background-color: #E8F0FE;\n",
              "      border: none;\n",
              "      border-radius: 50%;\n",
              "      cursor: pointer;\n",
              "      display: none;\n",
              "      fill: #1967D2;\n",
              "      height: 32px;\n",
              "      padding: 0 0 0 0;\n",
              "      width: 32px;\n",
              "    }\n",
              "\n",
              "    .colab-df-convert:hover {\n",
              "      background-color: #E2EBFA;\n",
              "      box-shadow: 0px 1px 2px rgba(60, 64, 67, 0.3), 0px 1px 3px 1px rgba(60, 64, 67, 0.15);\n",
              "      fill: #174EA6;\n",
              "    }\n",
              "\n",
              "    [theme=dark] .colab-df-convert {\n",
              "      background-color: #3B4455;\n",
              "      fill: #D2E3FC;\n",
              "    }\n",
              "\n",
              "    [theme=dark] .colab-df-convert:hover {\n",
              "      background-color: #434B5C;\n",
              "      box-shadow: 0px 1px 3px 1px rgba(0, 0, 0, 0.15);\n",
              "      filter: drop-shadow(0px 1px 2px rgba(0, 0, 0, 0.3));\n",
              "      fill: #FFFFFF;\n",
              "    }\n",
              "  </style>\n",
              "\n",
              "      <script>\n",
              "        const buttonEl =\n",
              "          document.querySelector('#df-ef0e6299-eddd-4016-b3c2-a8ecd0c10073 button.colab-df-convert');\n",
              "        buttonEl.style.display =\n",
              "          google.colab.kernel.accessAllowed ? 'block' : 'none';\n",
              "\n",
              "        async function convertToInteractive(key) {\n",
              "          const element = document.querySelector('#df-ef0e6299-eddd-4016-b3c2-a8ecd0c10073');\n",
              "          const dataTable =\n",
              "            await google.colab.kernel.invokeFunction('convertToInteractive',\n",
              "                                                     [key], {});\n",
              "          if (!dataTable) return;\n",
              "\n",
              "          const docLinkHtml = 'Like what you see? Visit the ' +\n",
              "            '<a target=\"_blank\" href=https://colab.research.google.com/notebooks/data_table.ipynb>data table notebook</a>'\n",
              "            + ' to learn more about interactive tables.';\n",
              "          element.innerHTML = '';\n",
              "          dataTable['output_type'] = 'display_data';\n",
              "          await google.colab.output.renderOutput(dataTable, element);\n",
              "          const docLink = document.createElement('div');\n",
              "          docLink.innerHTML = docLinkHtml;\n",
              "          element.appendChild(docLink);\n",
              "        }\n",
              "      </script>\n",
              "    </div>\n",
              "  </div>\n",
              "  "
            ]
          },
          "metadata": {}
        },
        {
          "output_type": "display_data",
          "data": {
            "text/plain": [
              "pandas.core.frame.DataFrame"
            ]
          },
          "metadata": {}
        },
        {
          "output_type": "display_data",
          "data": {
            "text/plain": [
              "RegionName\n",
              "Alabama          float64\n",
              "Arizona          float64\n",
              "Arkansas         float64\n",
              "California       float64\n",
              "Colorado         float64\n",
              "Connecticut      float64\n",
              "Delaware         float64\n",
              "Florida          float64\n",
              "Georgia          float64\n",
              "Hawaii           float64\n",
              "Idaho            float64\n",
              "Illinois         float64\n",
              "Indiana          float64\n",
              "Iowa             float64\n",
              "Kentucky         float64\n",
              "Maine            float64\n",
              "Maryland         float64\n",
              "Massachusetts    float64\n",
              "Michigan         float64\n",
              "Minnesota        float64\n",
              "Mississippi      float64\n",
              "Missouri         float64\n",
              "Nebraska         float64\n",
              "Nevada           float64\n",
              "NewHampshire     float64\n",
              "NewJersey        float64\n",
              "NewMexico        float64\n",
              "NewYork          float64\n",
              "NorthCarolina    float64\n",
              "Ohio             float64\n",
              "Oklahoma         float64\n",
              "Oregon           float64\n",
              "Pennsylvania     float64\n",
              "RhodeIsland      float64\n",
              "SouthCarolina    float64\n",
              "SouthDakota      float64\n",
              "Tennessee        float64\n",
              "Utah             float64\n",
              "Vermont          float64\n",
              "Virginia         float64\n",
              "Washington       float64\n",
              "WestVirginia     float64\n",
              "Wisconsin        float64\n",
              "dtype: object"
            ]
          },
          "metadata": {}
        },
        {
          "output_type": "display_data",
          "data": {
            "text/plain": [
              "DatetimeIndex(['1996-04-30', '1996-05-31', '1996-06-30', '1996-07-31',\n",
              "               '1996-08-31', '1996-09-30', '1996-10-31', '1996-11-30',\n",
              "               '1996-12-31', '1997-01-31',\n",
              "               ...\n",
              "               '2017-03-31', '2017-04-30', '2017-05-31', '2017-06-30',\n",
              "               '2017-07-31', '2017-08-31', '2017-09-30', '2017-10-31',\n",
              "               '2017-11-30', '2017-12-31'],\n",
              "              dtype='datetime64[ns]', name='Date', length=261, freq=None)"
            ]
          },
          "metadata": {}
        }
      ]
    },
    {
      "cell_type": "code",
      "source": [
        "#looking for null value in the table,we drop before some states that had lots of null values\n",
        "house_price_by_region.isnull().sum()"
      ],
      "metadata": {
        "id": "SiFucVY7IoYt",
        "outputId": "af419c6c-5358-4c23-b510-31fa1e076339",
        "colab": {
          "base_uri": "https://localhost:8080/"
        }
      },
      "execution_count": 43,
      "outputs": [
        {
          "output_type": "execute_result",
          "data": {
            "text/plain": [
              "RegionName\n",
              "Alabama          0\n",
              "Arizona          0\n",
              "Arkansas         0\n",
              "California       0\n",
              "Colorado         0\n",
              "Connecticut      0\n",
              "Delaware         0\n",
              "Florida          0\n",
              "Georgia          0\n",
              "Hawaii           0\n",
              "Idaho            0\n",
              "Illinois         0\n",
              "Indiana          0\n",
              "Iowa             0\n",
              "Kentucky         0\n",
              "Maine            0\n",
              "Maryland         0\n",
              "Massachusetts    0\n",
              "Michigan         0\n",
              "Minnesota        0\n",
              "Mississippi      0\n",
              "Missouri         0\n",
              "Nebraska         0\n",
              "Nevada           0\n",
              "NewHampshire     0\n",
              "NewJersey        0\n",
              "NewMexico        0\n",
              "NewYork          0\n",
              "NorthCarolina    0\n",
              "Ohio             0\n",
              "Oklahoma         0\n",
              "Oregon           0\n",
              "Pennsylvania     0\n",
              "RhodeIsland      0\n",
              "SouthCarolina    0\n",
              "SouthDakota      1\n",
              "Tennessee        0\n",
              "Utah             0\n",
              "Vermont          1\n",
              "Virginia         0\n",
              "Washington       0\n",
              "WestVirginia     0\n",
              "Wisconsin        0\n",
              "dtype: int64"
            ]
          },
          "metadata": {},
          "execution_count": 43
        }
      ]
    },
    {
      "cell_type": "code",
      "source": [
        "#filling two null values with the value of the previous month\n",
        "house_price_by_region = house_price_by_region.fillna(method='bfill')"
      ],
      "metadata": {
        "id": "kMb90X4aeF5r"
      },
      "execution_count": 44,
      "outputs": []
    },
    {
      "cell_type": "code",
      "source": [
        "# Converting the index as date with monthly frequency\n",
        "house_price_by_region.index = pd.to_datetime(house_price_by_region.index)\n",
        "house_price_by_region= house_price_by_region.asfreq('M')\n",
        "display(house_price_by_region.index)"
      ],
      "metadata": {
        "colab": {
          "base_uri": "https://localhost:8080/",
          "height": 156
        },
        "id": "ixBF0te_7VIE",
        "outputId": "87795f72-afaf-423c-8b95-d8ee7fff7752"
      },
      "execution_count": 45,
      "outputs": [
        {
          "output_type": "display_data",
          "data": {
            "text/plain": [
              "DatetimeIndex(['1996-04-30', '1996-05-31', '1996-06-30', '1996-07-31',\n",
              "               '1996-08-31', '1996-09-30', '1996-10-31', '1996-11-30',\n",
              "               '1996-12-31', '1997-01-31',\n",
              "               ...\n",
              "               '2017-03-31', '2017-04-30', '2017-05-31', '2017-06-30',\n",
              "               '2017-07-31', '2017-08-31', '2017-09-30', '2017-10-31',\n",
              "               '2017-11-30', '2017-12-31'],\n",
              "              dtype='datetime64[ns]', name='Date', length=261, freq='M')"
            ]
          },
          "metadata": {}
        }
      ]
    },
    {
      "cell_type": "markdown",
      "source": [
        "#Functions(plot)"
      ],
      "metadata": {
        "id": "Rfc9KnKjflug"
      }
    },
    {
      "cell_type": "code",
      "source": [
        "def plotTS(df, column, loess=True, regression=True, figsize=(16,4), title='', xlabel='', ylabel='', theme = 'darkgrid', points_alpha = 0.6, custom_ylim=None):\n",
        "    import numpy as np\n",
        "    import seaborn as sns\n",
        "    import matplotlib.pyplot as plt\n",
        "    from sklearn.linear_model import LinearRegression\n",
        "    from statsmodels.nonparametric.smoothers_lowess import lowess\n",
        "\n",
        "\n",
        "    sns.set_style(theme)\n",
        "    plt.figure(figsize=figsize)\n",
        "    plt.scatter(x = df.index, y = df[column], marker='+', alpha=points_alpha, label='Data points')\n",
        "    \n",
        "    if loess==True:\n",
        "        # model fitting\n",
        "        span, sse = compute_loess_span(df.index,df[column])\n",
        "        y_loess = lowess(df[column], df.index,  frac=span, it=5, return_sorted = False).T\n",
        "        #plot\n",
        "        plt.plot(df.index, y_loess, color='tomato', linewidth=2, label='LOESS (span={})'.format(span))\n",
        "    if regression==True:\n",
        "        # model fitting\n",
        "        model = LinearRegression()\n",
        "        x_regr = np.arange(len(df[column])).reshape(-1,1)\n",
        "        model.fit(x_regr,df[column])\n",
        "        coeff = model.coef_[0]\n",
        "        y_predicted = model.predict(x_regr)\n",
        "        #plot\n",
        "        plt.plot(df.index, y_predicted, color='green', label='Regression line (coeff={})'.format(round(coeff,2)))\n",
        "    #if custom_ylim != None:\n",
        "        #plt.ylim(custom_ylim[0], custom_ylim[1])\n",
        "    #plt.xlim(df.index[0],df.index[-1])\n",
        "    plt.title(title, fontsize=14)\n",
        "    plt.xlabel(xlabel)\n",
        "    plt.ylabel(ylabel)\n",
        "    plt.legend()\n",
        "    plt.show()"
      ],
      "metadata": {
        "id": "EMAZn9-bHm8o"
      },
      "execution_count": 46,
      "outputs": []
    },
    {
      "cell_type": "code",
      "source": [
        "def compute_loess_span(x_input,y_input, steps=0.02):\n",
        "    import numpy as np\n",
        "    from statsmodels.nonparametric.smoothers_lowess import lowess\n",
        "\n",
        "    best_span = 0.51\n",
        "    lowest_SSE = 10e20\n",
        "    \n",
        "    for i in np.arange(1,51,steps*100)/100:\n",
        "        span=i\n",
        "        y_pred = lowess(y_input,x_input, frac=span, it=5, return_sorted = False).T\n",
        "        SSE = ((y_input-y_pred)**2).sum()\n",
        "        if SSE<lowest_SSE:\n",
        "            best_span = i\n",
        "            lowest_SSE = SSE\n",
        "    return (best_span,lowest_SSE)"
      ],
      "metadata": {
        "id": "X45qx2L-fixv"
      },
      "execution_count": 47,
      "outputs": []
    },
    {
      "cell_type": "code",
      "source": [
        "def checkHomoscedasticity(resid, return_data=False, robust=False, includeWhite=False):\n",
        "    import pandas as pd\n",
        "    import statsmodels.formula.api as smf\n",
        "    from statsmodels.compat import lzip\n",
        "    import statsmodels.stats.api as sms\n",
        "    from statsmodels.stats.diagnostic import het_white\n",
        "    \n",
        "    resid = pd.DataFrame(resid, columns=['resid'])\n",
        "    resid['step'] = range(len(resid))\n",
        "    fit = smf.ols('resid ~ step', data=resid).fit()\n",
        "    \n",
        "    if robust==False:\n",
        "        #Bresuch-Pagan test\n",
        "        lagrange_mult_statistic, p_value_bp, f_value, f_p_value = sms.het_breuschpagan(fit.resid, fit.model.exog, robust=False)\n",
        "        print('*** Breusch-Pagan Test ***')\n",
        "        print('Lagrange multiplier statistic: ', lagrange_mult_statistic)\n",
        "        print('p-value: ', p_value_bp)\n",
        "        if p_value_bp > .05:\n",
        "            print('Interpretation: Homoscedasticity is present, the residuals are distributed with equal variance (Ho)')\n",
        "        else:\n",
        "            print('Interpretation: Heteroscedasticity is present, the residuals are not distributed with equal variance (Ha)')\n",
        "    else:\n",
        "        #Koenker test\n",
        "        lagrange_mult_statistic, p_value_bp, f_value, f_p_value = sms.het_breuschpagan(fit.resid, fit.model.exog , robust=True)\n",
        "        print('*** Koenker Test ***')\n",
        "        print('Lagrange multiplier statistic: ', lagrange_mult_statistic)\n",
        "        print('p-value: ', p_value_bp)\n",
        "        if p_value_bp > .05:\n",
        "            print('Interpretation: Homoscedasticity is present, the residuals are distributed with equal variance (Ho)')\n",
        "        else:\n",
        "            print('Interpretation: Heteroscedasticity is present, the residuals are not distributed with equal variance (Ha)')\n",
        "\n",
        "    if includeWhite == True:    \n",
        "        #White's test\n",
        "        test_stat, p_value_w, f_stat, f_p_value = het_white(fit.resid,  fit.model.exog)\n",
        "        print(\"\\n*** White's test ***\")\n",
        "        print('Test statistic: ', test_stat)\n",
        "        print('p-value: ', p_value_w)\n",
        "        if p_value_w >.05:\n",
        "            print('Interpretation: Homoscedasticity is present, residuals are equally scattered (Ho)')\n",
        "        else:\n",
        "            print('Interpretation: Heteroscedasticity is present, residuals are not equally scattered (Ha)')\n",
        "        if return_data==True:\n",
        "            return (lagrange_mult_statistic,p_value_bp,test_stat, p_value_w)\n",
        "    else:\n",
        "        if return_data==True:\n",
        "            return (lagrange_mult_statistic,p_value_bp)"
      ],
      "metadata": {
        "id": "IUfIB5n7fqYj"
      },
      "execution_count": 48,
      "outputs": []
    },
    {
      "cell_type": "code",
      "source": [
        "def scalelocationPlot(resid, title='', figsize=(16,8)):\n",
        "    import pandas as pd\n",
        "    import statsmodels.formula.api as smf\n",
        "    import numpy as np\n",
        "    import seaborn as sns\n",
        "    import matplotlib.pyplot as plt\n",
        "    #lm\n",
        "    resid = pd.DataFrame(resid, columns=['resid'])\n",
        "    resid['step'] = range(len(resid))\n",
        "    fit = smf.ols('resid ~ step', data=resid).fit()\n",
        "    \n",
        "    #get values\n",
        "    model_fitted_y = fit.fittedvalues\n",
        "    model_residuals = fit.resid\n",
        "    model_norm_residuals = fit.get_influence().resid_studentized_internal\n",
        "    model_norm_residuals_abs_sqrt = np.sqrt(np.abs(model_norm_residuals))\n",
        "    \n",
        "    #plot\n",
        "    fig = plt.figure(3)\n",
        "    fig.set_figheight(figsize[1])\n",
        "    fig.set_figwidth(figsize[0])\n",
        "    plt.scatter(model_fitted_y, model_norm_residuals_abs_sqrt, alpha=0.5)\n",
        "    sns.regplot(model_fitted_y, model_norm_residuals_abs_sqrt, scatter=False, ci=False, lowess=True,line_kws={'color': 'red', 'lw': 2, 'alpha': 0.8})\n",
        "    fig.axes[0].set_title('Scale-Location'.format(title), fontsize=14)\n",
        "    fig.axes[0].set_xlabel('Fitted values')\n",
        "    fig.axes[0].set_ylabel('$\\sqrt{|Standardized Residuals|}$')\n",
        "    plt.show()"
      ],
      "metadata": {
        "id": "mhpQvNnQfvl8"
      },
      "execution_count": 49,
      "outputs": []
    },
    {
      "cell_type": "code",
      "source": [
        "def autocorrelationPlot(data, lags=30, title=''):\n",
        "    from statsmodels.graphics.tsaplots import plot_pacf,plot_acf\n",
        "    import matplotlib.pyplot as plt\n",
        "    \n",
        "    fig = plot_acf(data, lags=lags, title='Auto-correlation for the first {} lags {}'.format(lags, title));\n",
        "    fig.set_figwidth(16)\n",
        "    fig.set_figheight(6)\n",
        "    fig = plot_pacf(data, lags=lags, title='Partial Auto-correlation for the first {} lags {}'.format(lags, title));\n",
        "    fig.set_figwidth(16)\n",
        "    fig.set_figheight(6)\n",
        "    plt.show()"
      ],
      "metadata": {
        "id": "r0sdcsC_f4dg"
      },
      "execution_count": 50,
      "outputs": []
    },
    {
      "cell_type": "code",
      "source": [
        "def qqPlot(data, title=''):\n",
        "    fig = sm.qqplot(data, line ='45',fit=True,dist=stats.norm)\n",
        "    fig.set_figheight(8)\n",
        "    fig.set_figwidth(8)\n",
        "    plt.title('Q-Q {}'.format(title))\n",
        "    plt.show()"
      ],
      "metadata": {
        "id": "bxHhf1XBf54Q"
      },
      "execution_count": 51,
      "outputs": []
    },
    {
      "cell_type": "code",
      "source": [
        "def checkNormality(data, return_data=False):\n",
        "    from scipy.stats import shapiro, jarque_bera, normaltest, skew, kurtosis\n",
        "    \n",
        "    #Shapiro-Wilk\n",
        "    w, p_w = shapiro(data)\n",
        "    print('*** Shapiro-Wilk Test ***')\n",
        "    print('W: ', w)\n",
        "    print('p-value: ' , p_w)\n",
        "    if p_w > .05:\n",
        "        print('Interpretation: the data was drawn from a normal distribution (Ho)')\n",
        "    else:\n",
        "        print('Interpretation: the data was not drawn from a normal distribution (Ha)')\n",
        "    \n",
        "    #Jarque-Bera\n",
        "    jb, p_jb = jarque_bera(data)\n",
        "    print('\\n*** Jarque-Bera Test ***')\n",
        "    print('Jarque-Bera JB: ', jb)\n",
        "    print('p-value: ' , p_jb)\n",
        "    if p_jb > .05:\n",
        "        print('Interpretation: the data was drawn from a normal distribution (Ho)')\n",
        "    else:\n",
        "        print('Interpretation: the data was not drawn from a normal distribution (Ha)')\n",
        "    \n",
        "    #D’Agostino-Pearson\n",
        "    k2, p_k2 = normaltest(data)\n",
        "    print(\"\\n*** D’Agostino-Pearson Test ***\")\n",
        "    print('k2: ', k2)\n",
        "    print('p-value: ' , p_k2)\n",
        "    if p_k2 > .05:\n",
        "        print('Interpretation: the data was drawn from a normal distribution (Ho)')\n",
        "    else:\n",
        "        print('Interpretation: the data was not drawn from a normal distribution (Ha)')\n",
        "\n",
        "    print('\\n----------------------------------------------------------------------')\n",
        "    print('Skewness: ', skew(data))\n",
        "    print('Kurtosis : ', kurtosis(data))\n",
        "    \n",
        "    if return_data==True:\n",
        "        return (w, p_w, jb, p_jb, k2, p_k2)"
      ],
      "metadata": {
        "id": "_WhVALrwzbfd"
      },
      "execution_count": 52,
      "outputs": []
    },
    {
      "cell_type": "markdown",
      "source": [
        "#Data exploration"
      ],
      "metadata": {
        "id": "wAH8-xkB-U8K"
      }
    },
    {
      "cell_type": "markdown",
      "source": [
        "#How is the trend of the price of houses in the united states during the years:"
      ],
      "metadata": {
        "id": "SKApLnxhglwO"
      }
    },
    {
      "cell_type": "code",
      "source": [
        "#calculate total price in all states for every year(million dollar)\n",
        "price_total = house_price_by_region.sum(axis=1)\n",
        "price_total_by_year = price_total.resample('Y').sum()\n",
        "price_total_by_year.index = price_total_by_year.index.year\n",
        "price_total_by_year = price_total_by_year/1000000\n",
        "display(price_total_by_year)"
      ],
      "metadata": {
        "colab": {
          "base_uri": "https://localhost:8080/",
          "height": 434
        },
        "id": "ksMytk5Q-Yyw",
        "outputId": "12fdd80b-a6a7-49ad-85d0-59e40db60346"
      },
      "execution_count": 62,
      "outputs": [
        {
          "output_type": "display_data",
          "data": {
            "text/plain": [
              "Date\n",
              "1996    276.69735\n",
              "1997    377.02335\n",
              "1998    391.25610\n",
              "1999    411.73630\n",
              "2000    440.28180\n",
              "2001    473.00280\n",
              "2002    506.54440\n",
              "2003    549.19970\n",
              "2004    605.87210\n",
              "2005    678.78430\n",
              "2006    724.46510\n",
              "2007    725.75340\n",
              "2008    689.13150\n",
              "2009    645.55710\n",
              "2010    615.11535\n",
              "2011    587.91470\n",
              "2012    583.34560\n",
              "2013    611.71230\n",
              "2014    640.29170\n",
              "2015    666.72560\n",
              "2016    701.16870\n",
              "2017    741.09000\n",
              "dtype: float64"
            ]
          },
          "metadata": {}
        }
      ]
    },
    {
      "cell_type": "code",
      "source": [
        "plt.figure(figsize=(18,8))\n",
        "sns.set_style('whitegrid')\n",
        "price_total_by_year.plot(kind='bar', rot=0, ylabel='House Price (Million Dollar)', xlabel='Year')\n",
        "plt.title('Price growth \\n total price of houses sold during the years- all Regions', fontsize=14)\n",
        "plt.show()"
      ],
      "metadata": {
        "colab": {
          "base_uri": "https://localhost:8080/",
          "height": 477
        },
        "id": "YFBgCvzQayeY",
        "outputId": "30dc8f8e-0997-4f27-ed8e-0dff82ce302d"
      },
      "execution_count": 63,
      "outputs": [
        {
          "output_type": "display_data",
          "data": {
            "text/plain": [
              "<Figure size 1296x576 with 1 Axes>"
            ],
            "image/png": "[encoded data removed]"
          },
          "metadata": {}
        }
      ]
    },
    {
      "cell_type": "markdown",
      "source": [
        "#In what States the house price is higher:"
      ],
      "metadata": {
        "id": "xkyCY3OwdtEf"
      }
    },
    {
      "cell_type": "code",
      "source": [
        "#finding the top 10 most expensive states\n",
        "price_total_by_Region = house_price_by_region.sum(axis=0)\n",
        "price_total_by_regions = pd.Series(price_total_by_Region , name='RegionName')\n",
        "price_total_by_regions_top10 = price_total_by_Region.sort_values(ascending=False).head(10)\n",
        "display(price_total_by_regions_top10)"
      ],
      "metadata": {
        "colab": {
          "base_uri": "https://localhost:8080/",
          "height": 225
        },
        "id": "mHHESerwbo-Z",
        "outputId": "b6b3bba9-6179-41ea-8b48-dfd63e2278ae"
      },
      "execution_count": 73,
      "outputs": [
        {
          "output_type": "display_data",
          "data": {
            "text/plain": [
              "RegionName\n",
              "Hawaii           671738100.0\n",
              "California       567633000.0\n",
              "Massachusetts    493029300.0\n",
              "NewJersey        431455000.0\n",
              "Connecticut      418604300.0\n",
              "Washington       385042700.0\n",
              "Maryland         382427500.0\n",
              "RhodeIsland      372439900.0\n",
              "Virginia         363337400.0\n",
              "Colorado         358761100.0\n",
              "dtype: float64"
            ]
          },
          "metadata": {}
        }
      ]
    },
    {
      "cell_type": "code",
      "source": [
        "plt.figure(figsize=(18,8))\n",
        "sns.set_style('whitegrid')\n",
        "price_total_by_regions_top10.plot(kind='bar', rot=0, ylabel='House Price (Million Dollar)', xlabel='RegionName')\n",
        "plt.title('Total price comparison during the years \\n top 10 expensive States', fontsize=14)\n",
        "plt.show()"
      ],
      "metadata": {
        "colab": {
          "base_uri": "https://localhost:8080/",
          "height": 482
        },
        "id": "2eZHkapP5ac1",
        "outputId": "dc79d392-7fa2-4931-a4ad-b4c28be45f78"
      },
      "execution_count": 74,
      "outputs": [
        {
          "output_type": "display_data",
          "data": {
            "text/plain": [
              "<Figure size 1296x576 with 1 Axes>"
            ],
            "image/png": "[encoded data removed]"
          },
          "metadata": {}
        }
      ]
    },
    {
      "cell_type": "code",
      "source": [
        "#check the total price of houses for all states\n",
        "fig = plt.figure(figsize=(18,10))\n",
        "ax  = fig.add_subplot()\n",
        "sns.set_style('whitegrid')\n",
        "sns.boxplot(x=\"RegionName\", y=\"houseprice\", data=df, palette='Paired', width=0.65)\n",
        "plt.title('Total Price of houses for all states', fontsize=14)\n",
        "plt.xlabel('States')\n",
        "plt.setp(ax.get_xticklabels(), rotation=45, ha='right')\n",
        "plt.ylabel('price of houses (total amount/year)')\n",
        "plt.show()"
      ],
      "metadata": {
        "colab": {
          "base_uri": "https://localhost:8080/",
          "height": 607
        },
        "id": "4bqfadio7q-m",
        "outputId": "edfcd373-aded-482b-e98b-c203b2913c57"
      },
      "execution_count": 78,
      "outputs": [
        {
          "output_type": "display_data",
          "data": {
            "text/plain": [
              "<Figure size 1296x720 with 1 Axes>"
            ],
            "image/png": "[encoded data removed]"
          },
          "metadata": {}
        }
      ]
    },
    {
      "cell_type": "code",
      "source": [
        "#extract months and years of the date\n",
        "price_groupby = df[['Date','RegionName','houseprice']].groupby(['Date','RegionName']).sum()\n",
        "price_groupby['year'] = (price_groupby.index).to_series().map(lambda x : x[0].year)\n",
        "price_groupby['month'] = (price_groupby.index).to_series().map(lambda x : x[0].month)\n",
        "display(price_groupby)"
      ],
      "metadata": {
        "colab": {
          "base_uri": "https://localhost:8080/",
          "height": 455
        },
        "id": "Fbk31K1XIKlR",
        "outputId": "ac2d1e31-8a83-476b-d18a-5bc80ba9656b"
      },
      "execution_count": 80,
      "outputs": [
        {
          "output_type": "display_data",
          "data": {
            "text/plain": [
              "                         houseprice  year  month\n",
              "Date       RegionName                           \n",
              "1996-04-30 Alabama         620400.0  1996      4\n",
              "           Arizona         668100.0  1996      4\n",
              "           Arkansas        569900.0  1996      4\n",
              "           California      991400.0  1996      4\n",
              "           Colorado        826900.0  1996      4\n",
              "...                             ...   ...    ...\n",
              "2017-12-31 Vermont        1538300.0  2017     12\n",
              "           Virginia       1729000.0  2017     12\n",
              "           Washington     2311900.0  2017     12\n",
              "           WestVirginia    764800.0  2017     12\n",
              "           Wisconsin      1069900.0  2017     12\n",
              "\n",
              "[11221 rows x 3 columns]"
            ],
            "text/html": [
              "\n",
              "  <div id=\"df-7f2e79b6-7f26-4693-97b4-129e4a90e796\">\n",
              "    <div class=\"colab-df-container\">\n",
              "      <div>\n",
              "<style scoped>\n",
              "    .dataframe tbody tr th:only-of-type {\n",
              "        vertical-align: middle;\n",
              "    }\n",
              "\n",
              "    .dataframe tbody tr th {\n",
              "        vertical-align: top;\n",
              "    }\n",
              "\n",
              "    .dataframe thead th {\n",
              "        text-align: right;\n",
              "    }\n",
              "</style>\n",
              "<table border=\"1\" class=\"dataframe\">\n",
              "  <thead>\n",
              "    <tr style=\"text-align: right;\">\n",
              "      <th></th>\n",
              "      <th></th>\n",
              "      <th>houseprice</th>\n",
              "      <th>year</th>\n",
              "      <th>month</th>\n",
              "    </tr>\n",
              "    <tr>\n",
              "      <th>Date</th>\n",
              "      <th>RegionName</th>\n",
              "      <th></th>\n",
              "      <th></th>\n",
              "      <th></th>\n",
              "    </tr>\n",
              "  </thead>\n",
              "  <tbody>\n",
              "    <tr>\n",
              "      <th rowspan=\"5\" valign=\"top\">1996-04-30</th>\n",
              "      <th>Alabama</th>\n",
              "      <td>620400.0</td>\n",
              "      <td>1996</td>\n",
              "      <td>4</td>\n",
              "    </tr>\n",
              "    <tr>\n",
              "      <th>Arizona</th>\n",
              "      <td>668100.0</td>\n",
              "      <td>1996</td>\n",
              "      <td>4</td>\n",
              "    </tr>\n",
              "    <tr>\n",
              "      <th>Arkansas</th>\n",
              "      <td>569900.0</td>\n",
              "      <td>1996</td>\n",
              "      <td>4</td>\n",
              "    </tr>\n",
              "    <tr>\n",
              "      <th>California</th>\n",
              "      <td>991400.0</td>\n",
              "      <td>1996</td>\n",
              "      <td>4</td>\n",
              "    </tr>\n",
              "    <tr>\n",
              "      <th>Colorado</th>\n",
              "      <td>826900.0</td>\n",
              "      <td>1996</td>\n",
              "      <td>4</td>\n",
              "    </tr>\n",
              "    <tr>\n",
              "      <th>...</th>\n",
              "      <th>...</th>\n",
              "      <td>...</td>\n",
              "      <td>...</td>\n",
              "      <td>...</td>\n",
              "    </tr>\n",
              "    <tr>\n",
              "      <th rowspan=\"5\" valign=\"top\">2017-12-31</th>\n",
              "      <th>Vermont</th>\n",
              "      <td>1538300.0</td>\n",
              "      <td>2017</td>\n",
              "      <td>12</td>\n",
              "    </tr>\n",
              "    <tr>\n",
              "      <th>Virginia</th>\n",
              "      <td>1729000.0</td>\n",
              "      <td>2017</td>\n",
              "      <td>12</td>\n",
              "    </tr>\n",
              "    <tr>\n",
              "      <th>Washington</th>\n",
              "      <td>2311900.0</td>\n",
              "      <td>2017</td>\n",
              "      <td>12</td>\n",
              "    </tr>\n",
              "    <tr>\n",
              "      <th>WestVirginia</th>\n",
              "      <td>764800.0</td>\n",
              "      <td>2017</td>\n",
              "      <td>12</td>\n",
              "    </tr>\n",
              "    <tr>\n",
              "      <th>Wisconsin</th>\n",
              "      <td>1069900.0</td>\n",
              "      <td>2017</td>\n",
              "      <td>12</td>\n",
              "    </tr>\n",
              "  </tbody>\n",
              "</table>\n",
              "<p>11221 rows × 3 columns</p>\n",
              "</div>\n",
              "      <button class=\"colab-df-convert\" onclick=\"convertToInteractive('df-7f2e79b6-7f26-4693-97b4-129e4a90e796')\"\n",
              "              title=\"Convert this dataframe to an interactive table.\"\n",
              "              style=\"display:none;\">\n",
              "        \n",
              "  <svg xmlns=\"http://www.w3.org/2000/svg\" height=\"24px\"viewBox=\"0 0 24 24\"\n",
              "       width=\"24px\">\n",
              "    <path d=\"M0 0h24v24H0V0z\" fill=\"none\"/>\n",
              "    <path d=\"M18.56 5.44l.94 2.06.94-2.06 2.06-.94-2.06-.94-.94-2.06-.94 2.06-2.06.94zm-11 1L8.5 8.5l.94-2.06 2.06-.94-2.06-.94L8.5 2.5l-.94 2.06-2.06.94zm10 10l.94 2.06.94-2.06 2.06-.94-2.06-.94-.94-2.06-.94 2.06-2.06.94z\"/><path d=\"M17.41 7.96l-1.37-1.37c-.4-.4-.92-.59-1.43-.59-.52 0-1.04.2-1.43.59L10.3 9.45l-7.72 7.72c-.78.78-.78 2.05 0 2.83L4 21.41c.39.39.9.59 1.41.59.51 0 1.02-.2 1.41-.59l7.78-7.78 2.81-2.81c.8-.78.8-2.07 0-2.86zM5.41 20L4 18.59l7.72-7.72 1.47 1.35L5.41 20z\"/>\n",
              "  </svg>\n",
              "      </button>\n",
              "      \n",
              "  <style>\n",
              "    .colab-df-container {\n",
              "      display:flex;\n",
              "      flex-wrap:wrap;\n",
              "      gap: 12px;\n",
              "    }\n",
              "\n",
              "    .colab-df-convert {\n",
              "      background-color: #E8F0FE;\n",
              "      border: none;\n",
              "      border-radius: 50%;\n",
              "      cursor: pointer;\n",
              "      display: none;\n",
              "      fill: #1967D2;\n",
              "      height: 32px;\n",
              "      padding: 0 0 0 0;\n",
              "      width: 32px;\n",
              "    }\n",
              "\n",
              "    .colab-df-convert:hover {\n",
              "      background-color: #E2EBFA;\n",
              "      box-shadow: 0px 1px 2px rgba(60, 64, 67, 0.3), 0px 1px 3px 1px rgba(60, 64, 67, 0.15);\n",
              "      fill: #174EA6;\n",
              "    }\n",
              "\n",
              "    [theme=dark] .colab-df-convert {\n",
              "      background-color: #3B4455;\n",
              "      fill: #D2E3FC;\n",
              "    }\n",
              "\n",
              "    [theme=dark] .colab-df-convert:hover {\n",
              "      background-color: #434B5C;\n",
              "      box-shadow: 0px 1px 3px 1px rgba(0, 0, 0, 0.15);\n",
              "      filter: drop-shadow(0px 1px 2px rgba(0, 0, 0, 0.3));\n",
              "      fill: #FFFFFF;\n",
              "    }\n",
              "  </style>\n",
              "\n",
              "      <script>\n",
              "        const buttonEl =\n",
              "          document.querySelector('#df-7f2e79b6-7f26-4693-97b4-129e4a90e796 button.colab-df-convert');\n",
              "        buttonEl.style.display =\n",
              "          google.colab.kernel.accessAllowed ? 'block' : 'none';\n",
              "\n",
              "        async function convertToInteractive(key) {\n",
              "          const element = document.querySelector('#df-7f2e79b6-7f26-4693-97b4-129e4a90e796');\n",
              "          const dataTable =\n",
              "            await google.colab.kernel.invokeFunction('convertToInteractive',\n",
              "                                                     [key], {});\n",
              "          if (!dataTable) return;\n",
              "\n",
              "          const docLinkHtml = 'Like what you see? Visit the ' +\n",
              "            '<a target=\"_blank\" href=https://colab.research.google.com/notebooks/data_table.ipynb>data table notebook</a>'\n",
              "            + ' to learn more about interactive tables.';\n",
              "          element.innerHTML = '';\n",
              "          dataTable['output_type'] = 'display_data';\n",
              "          await google.colab.output.renderOutput(dataTable, element);\n",
              "          const docLink = document.createElement('div');\n",
              "          docLink.innerHTML = docLinkHtml;\n",
              "          element.appendChild(docLink);\n",
              "        }\n",
              "      </script>\n",
              "    </div>\n",
              "  </div>\n",
              "  "
            ]
          },
          "metadata": {}
        }
      ]
    },
    {
      "cell_type": "code",
      "source": [
        "fig = plt.figure(figsize=(18,10))\n",
        "ax  = fig.add_subplot()\n",
        "sns.set_style('whitegrid')\n",
        "sns.boxplot(data=price_groupby, x='month', y='houseprice', palette='Paired', width=0.65)\n",
        "plt.title('Month benchmark', fontsize=14)\n",
        "plt.ylabel('housenprice')\n",
        "ax.set_xticklabels(['Jan','Feb','Mar','Apr','May','Jun','Jul','Aug','Sep','Oct','Nov','Dec'])\n",
        "plt.show()"
      ],
      "metadata": {
        "colab": {
          "base_uri": "https://localhost:8080/",
          "height": 562
        },
        "id": "6aGZnvNMIeSW",
        "outputId": "fcca31dc-38c0-4e90-a16b-b38ca0caef51"
      },
      "execution_count": 59,
      "outputs": [
        {
          "output_type": "display_data",
          "data": {
            "text/plain": [
              "<Figure size 1296x720 with 1 Axes>"
            ],
            "image/png": "[encoded data removed]"
          },
          "metadata": {}
        }
      ]
    },
    {
      "cell_type": "code",
      "source": [
        "fig = plt.figure(figsize=(18,10))\n",
        "ax  = fig.add_subplot()\n",
        "sns.set_style('whitegrid')\n",
        "sns.boxplot(data=price_groupby, x='year', y='houseprice', palette='Paired', width=0.4)\n",
        "plt.title('Weekday benchmark', fontsize=14)\n",
        "plt.ylabel('Items sold (unit/day)')\n",
        "ax.set_xticklabels('{}'.format(i) for i in range(1996,2018))\n",
        "plt.show()"
      ],
      "metadata": {
        "colab": {
          "base_uri": "https://localhost:8080/",
          "height": 562
        },
        "id": "uMZ5qiAXIfBz",
        "outputId": "c5dc9220-a57e-4448-f6f5-95b52efe09a9"
      },
      "execution_count": 60,
      "outputs": [
        {
          "output_type": "display_data",
          "data": {
            "text/plain": [
              "<Figure size 1296x720 with 1 Axes>"
            ],
            "image/png": "[encoded data removed]"
          },
          "metadata": {}
        }
      ]
    },
    {
      "cell_type": "code",
      "source": [
        "from plotly.offline import download_plotlyjs,init_notebook_mode,plot,iplot\n",
        "import plotly.graph_objs as go\n",
        "scl = [[0.0, 'rgb(242,240,247)'],[0.2, 'rgb(218,218,235)'],[0.4, 'rgb(188,189,220)'],[0.6, 'rgb(158,154,200)'],[0.8, 'rgb(117,107,177)'],[1.0, 'rgb(84,39,143)']]\n",
        "\n",
        "# difine our data for plotting\n",
        "data = [ dict(\n",
        "        type='choropleth',\n",
        "        colorscale = scl,\n",
        "        autocolorscale = False,\n",
        "        locations = price_groupby['RegionName'], # location (states)\n",
        "        z = df[['RegionName','houseprice']].groupby(['RegionName']).sum().astype(float), # Home value\n",
        "        locationmode = 'USA-states', # let's define the location mode to USA_states\n",
        "        text = 'Median home value per square foot',\n",
        "        marker = dict(\n",
        "            line = dict (\n",
        "                color = 'rgb(255,255,255)',\n",
        "                width = 2\n",
        "            ) ),\n",
        "        colorbar = dict(\n",
        "            title = \"Home value\")\n",
        "        ) ]\n",
        "\n",
        "layout = dict(\n",
        "        title = 'Median of the value of all homes in different states<br>',\n",
        "        geo = dict(\n",
        "            scope='usa',\n",
        "            projection=dict( type='albers usa' ),\n",
        "            showlakes = True,\n",
        "            lakecolor = 'rgb(255, 255, 255)'),\n",
        "             )\n",
        "fig = dict( data=data, layout=layout )\n",
        "# let's plot\n",
        "iplot( fig, filename='d3-cloropleth-map' )"
      ],
      "metadata": {
        "id": "Do0yRti_cLl5"
      },
      "execution_count": null,
      "outputs": []
    },
    {
      "cell_type": "markdown",
      "source": [
        "#Discriptive Statistics-Time series Analysis"
      ],
      "metadata": {
        "id": "S8l_5TBAIu55"
      }
    },
    {
      "cell_type": "code",
      "source": [
        "descriptive_stat = house_price_by_region.describe().T\n",
        "\n",
        "Q1 = house_price_by_region.quantile(0.25)\n",
        "Q3 = house_price_by_region.quantile(0.75)\n",
        "IQR = Q3 - Q1\n",
        "\n",
        "outlier_lower_count = (house_price_by_region < (Q1 - 1.5 * IQR)).sum()\n",
        "outlier_upper_count = (house_price_by_region > (Q3 + 1.5 * IQR)).sum()\n",
        "outlier_total_count = outlier_lower_count + outlier_upper_count\n",
        "\n",
        "descriptive_stat['range']=descriptive_stat['max']-descriptive_stat['min']\n",
        "descriptive_stat['IQR']=descriptive_stat['75%']-descriptive_stat['25%']\n",
        "descriptive_stat['outlier_lower_count'] = outlier_lower_count\n",
        "descriptive_stat['outlier_upper_count'] = outlier_upper_count\n",
        "descriptive_stat['outlier_total_count'] = outlier_total_count\n",
        "\n",
        "display(round(descriptive_stat,2))"
      ],
      "metadata": {
        "id": "llBK9Hk2I23K"
      },
      "execution_count": null,
      "outputs": []
    },
    {
      "cell_type": "code",
      "source": [
        "Hawaii_ts = pd.DataFrame(house_price_by_region['Hawaii'])\n",
        "Hawaii_ts"
      ],
      "metadata": {
        "id": "F4cNK3vdluoo",
        "colab": {
          "base_uri": "https://localhost:8080/",
          "height": 455
        },
        "outputId": "20a839d0-40f0-472c-f4a2-a98cb4cbcaaa"
      },
      "execution_count": 69,
      "outputs": [
        {
          "output_type": "execute_result",
          "data": {
            "text/plain": [
              "               Hawaii\n",
              "Date                 \n",
              "1996-04-30  1482200.0\n",
              "1996-05-31  1471400.0\n",
              "1996-06-30  1458300.0\n",
              "1996-07-31  1443500.0\n",
              "1996-08-31  1429000.0\n",
              "...               ...\n",
              "2017-08-31  3868900.0\n",
              "2017-09-30  3885100.0\n",
              "2017-10-31  3906800.0\n",
              "2017-11-30  3931300.0\n",
              "2017-12-31  3953500.0\n",
              "\n",
              "[261 rows x 1 columns]"
            ],
            "text/html": [
              "\n",
              "  <div id=\"df-c995bce4-20a4-43f8-9fe6-359a9ab5d687\">\n",
              "    <div class=\"colab-df-container\">\n",
              "      <div>\n",
              "<style scoped>\n",
              "    .dataframe tbody tr th:only-of-type {\n",
              "        vertical-align: middle;\n",
              "    }\n",
              "\n",
              "    .dataframe tbody tr th {\n",
              "        vertical-align: top;\n",
              "    }\n",
              "\n",
              "    .dataframe thead th {\n",
              "        text-align: right;\n",
              "    }\n",
              "</style>\n",
              "<table border=\"1\" class=\"dataframe\">\n",
              "  <thead>\n",
              "    <tr style=\"text-align: right;\">\n",
              "      <th></th>\n",
              "      <th>Hawaii</th>\n",
              "    </tr>\n",
              "    <tr>\n",
              "      <th>Date</th>\n",
              "      <th></th>\n",
              "    </tr>\n",
              "  </thead>\n",
              "  <tbody>\n",
              "    <tr>\n",
              "      <th>1996-04-30</th>\n",
              "      <td>1482200.0</td>\n",
              "    </tr>\n",
              "    <tr>\n",
              "      <th>1996-05-31</th>\n",
              "      <td>1471400.0</td>\n",
              "    </tr>\n",
              "    <tr>\n",
              "      <th>1996-06-30</th>\n",
              "      <td>1458300.0</td>\n",
              "    </tr>\n",
              "    <tr>\n",
              "      <th>1996-07-31</th>\n",
              "      <td>1443500.0</td>\n",
              "    </tr>\n",
              "    <tr>\n",
              "      <th>1996-08-31</th>\n",
              "      <td>1429000.0</td>\n",
              "    </tr>\n",
              "    <tr>\n",
              "      <th>...</th>\n",
              "      <td>...</td>\n",
              "    </tr>\n",
              "    <tr>\n",
              "      <th>2017-08-31</th>\n",
              "      <td>3868900.0</td>\n",
              "    </tr>\n",
              "    <tr>\n",
              "      <th>2017-09-30</th>\n",
              "      <td>3885100.0</td>\n",
              "    </tr>\n",
              "    <tr>\n",
              "      <th>2017-10-31</th>\n",
              "      <td>3906800.0</td>\n",
              "    </tr>\n",
              "    <tr>\n",
              "      <th>2017-11-30</th>\n",
              "      <td>3931300.0</td>\n",
              "    </tr>\n",
              "    <tr>\n",
              "      <th>2017-12-31</th>\n",
              "      <td>3953500.0</td>\n",
              "    </tr>\n",
              "  </tbody>\n",
              "</table>\n",
              "<p>261 rows × 1 columns</p>\n",
              "</div>\n",
              "      <button class=\"colab-df-convert\" onclick=\"convertToInteractive('df-c995bce4-20a4-43f8-9fe6-359a9ab5d687')\"\n",
              "              title=\"Convert this dataframe to an interactive table.\"\n",
              "              style=\"display:none;\">\n",
              "        \n",
              "  <svg xmlns=\"http://www.w3.org/2000/svg\" height=\"24px\"viewBox=\"0 0 24 24\"\n",
              "       width=\"24px\">\n",
              "    <path d=\"M0 0h24v24H0V0z\" fill=\"none\"/>\n",
              "    <path d=\"M18.56 5.44l.94 2.06.94-2.06 2.06-.94-2.06-.94-.94-2.06-.94 2.06-2.06.94zm-11 1L8.5 8.5l.94-2.06 2.06-.94-2.06-.94L8.5 2.5l-.94 2.06-2.06.94zm10 10l.94 2.06.94-2.06 2.06-.94-2.06-.94-.94-2.06-.94 2.06-2.06.94z\"/><path d=\"M17.41 7.96l-1.37-1.37c-.4-.4-.92-.59-1.43-.59-.52 0-1.04.2-1.43.59L10.3 9.45l-7.72 7.72c-.78.78-.78 2.05 0 2.83L4 21.41c.39.39.9.59 1.41.59.51 0 1.02-.2 1.41-.59l7.78-7.78 2.81-2.81c.8-.78.8-2.07 0-2.86zM5.41 20L4 18.59l7.72-7.72 1.47 1.35L5.41 20z\"/>\n",
              "  </svg>\n",
              "      </button>\n",
              "      \n",
              "  <style>\n",
              "    .colab-df-container {\n",
              "      display:flex;\n",
              "      flex-wrap:wrap;\n",
              "      gap: 12px;\n",
              "    }\n",
              "\n",
              "    .colab-df-convert {\n",
              "      background-color: #E8F0FE;\n",
              "      border: none;\n",
              "      border-radius: 50%;\n",
              "      cursor: pointer;\n",
              "      display: none;\n",
              "      fill: #1967D2;\n",
              "      height: 32px;\n",
              "      padding: 0 0 0 0;\n",
              "      width: 32px;\n",
              "    }\n",
              "\n",
              "    .colab-df-convert:hover {\n",
              "      background-color: #E2EBFA;\n",
              "      box-shadow: 0px 1px 2px rgba(60, 64, 67, 0.3), 0px 1px 3px 1px rgba(60, 64, 67, 0.15);\n",
              "      fill: #174EA6;\n",
              "    }\n",
              "\n",
              "    [theme=dark] .colab-df-convert {\n",
              "      background-color: #3B4455;\n",
              "      fill: #D2E3FC;\n",
              "    }\n",
              "\n",
              "    [theme=dark] .colab-df-convert:hover {\n",
              "      background-color: #434B5C;\n",
              "      box-shadow: 0px 1px 3px 1px rgba(0, 0, 0, 0.15);\n",
              "      filter: drop-shadow(0px 1px 2px rgba(0, 0, 0, 0.3));\n",
              "      fill: #FFFFFF;\n",
              "    }\n",
              "  </style>\n",
              "\n",
              "      <script>\n",
              "        const buttonEl =\n",
              "          document.querySelector('#df-c995bce4-20a4-43f8-9fe6-359a9ab5d687 button.colab-df-convert');\n",
              "        buttonEl.style.display =\n",
              "          google.colab.kernel.accessAllowed ? 'block' : 'none';\n",
              "\n",
              "        async function convertToInteractive(key) {\n",
              "          const element = document.querySelector('#df-c995bce4-20a4-43f8-9fe6-359a9ab5d687');\n",
              "          const dataTable =\n",
              "            await google.colab.kernel.invokeFunction('convertToInteractive',\n",
              "                                                     [key], {});\n",
              "          if (!dataTable) return;\n",
              "\n",
              "          const docLinkHtml = 'Like what you see? Visit the ' +\n",
              "            '<a target=\"_blank\" href=https://colab.research.google.com/notebooks/data_table.ipynb>data table notebook</a>'\n",
              "            + ' to learn more about interactive tables.';\n",
              "          element.innerHTML = '';\n",
              "          dataTable['output_type'] = 'display_data';\n",
              "          await google.colab.output.renderOutput(dataTable, element);\n",
              "          const docLink = document.createElement('div');\n",
              "          docLink.innerHTML = docLinkHtml;\n",
              "          element.appendChild(docLink);\n",
              "        }\n",
              "      </script>\n",
              "    </div>\n",
              "  </div>\n",
              "  "
            ]
          },
          "metadata": {},
          "execution_count": 69
        }
      ]
    },
    {
      "cell_type": "code",
      "source": [
        "plotTS(Hawaii_ts, column='Hawaii', custom_ylim=(0,6000), figsize=(16,4), title='House_price', xlabel='Date', ylabel='price')"
      ],
      "metadata": {
        "colab": {
          "base_uri": "https://localhost:8080/",
          "height": 296
        },
        "id": "IiFu8xq8JGpy",
        "outputId": "ef12ca72-91e8-4d47-8741-883cc0ae1a12"
      },
      "execution_count": 70,
      "outputs": [
        {
          "output_type": "display_data",
          "data": {
            "text/plain": [
              "<Figure size 1152x288 with 1 Axes>"
            ],
            "image/png": "[encoded data removed]"
          },
          "metadata": {}
        }
      ]
    },
    {
      "cell_type": "code",
      "source": [
        "Alabama_ts = pd.DataFrame(house_price_by_region['Alabama'])\n",
        "Alabama_ts"
      ],
      "metadata": {
        "id": "BaaoLEwPnWMT",
        "colab": {
          "base_uri": "https://localhost:8080/",
          "height": 455
        },
        "outputId": "e0b041d4-313a-4abb-c464-dc589d27d0fd"
      },
      "execution_count": 71,
      "outputs": [
        {
          "output_type": "execute_result",
          "data": {
            "text/plain": [
              "              Alabama\n",
              "Date                 \n",
              "1996-04-30   620400.0\n",
              "1996-05-31   614900.0\n",
              "1996-06-30   613100.0\n",
              "1996-07-31   612600.0\n",
              "1996-08-31   611800.0\n",
              "...               ...\n",
              "2017-08-31  1007300.0\n",
              "2017-09-30  1011800.0\n",
              "2017-10-31  1013700.0\n",
              "2017-11-30  1016200.0\n",
              "2017-12-31  1021000.0\n",
              "\n",
              "[261 rows x 1 columns]"
            ],
            "text/html": [
              "\n",
              "  <div id=\"df-2d345826-13c9-4c23-9d6b-1f8fbbf43a08\">\n",
              "    <div class=\"colab-df-container\">\n",
              "      <div>\n",
              "<style scoped>\n",
              "    .dataframe tbody tr th:only-of-type {\n",
              "        vertical-align: middle;\n",
              "    }\n",
              "\n",
              "    .dataframe tbody tr th {\n",
              "        vertical-align: top;\n",
              "    }\n",
              "\n",
              "    .dataframe thead th {\n",
              "        text-align: right;\n",
              "    }\n",
              "</style>\n",
              "<table border=\"1\" class=\"dataframe\">\n",
              "  <thead>\n",
              "    <tr style=\"text-align: right;\">\n",
              "      <th></th>\n",
              "      <th>Alabama</th>\n",
              "    </tr>\n",
              "    <tr>\n",
              "      <th>Date</th>\n",
              "      <th></th>\n",
              "    </tr>\n",
              "  </thead>\n",
              "  <tbody>\n",
              "    <tr>\n",
              "      <th>1996-04-30</th>\n",
              "      <td>620400.0</td>\n",
              "    </tr>\n",
              "    <tr>\n",
              "      <th>1996-05-31</th>\n",
              "      <td>614900.0</td>\n",
              "    </tr>\n",
              "    <tr>\n",
              "      <th>1996-06-30</th>\n",
              "      <td>613100.0</td>\n",
              "    </tr>\n",
              "    <tr>\n",
              "      <th>1996-07-31</th>\n",
              "      <td>612600.0</td>\n",
              "    </tr>\n",
              "    <tr>\n",
              "      <th>1996-08-31</th>\n",
              "      <td>611800.0</td>\n",
              "    </tr>\n",
              "    <tr>\n",
              "      <th>...</th>\n",
              "      <td>...</td>\n",
              "    </tr>\n",
              "    <tr>\n",
              "      <th>2017-08-31</th>\n",
              "      <td>1007300.0</td>\n",
              "    </tr>\n",
              "    <tr>\n",
              "      <th>2017-09-30</th>\n",
              "      <td>1011800.0</td>\n",
              "    </tr>\n",
              "    <tr>\n",
              "      <th>2017-10-31</th>\n",
              "      <td>1013700.0</td>\n",
              "    </tr>\n",
              "    <tr>\n",
              "      <th>2017-11-30</th>\n",
              "      <td>1016200.0</td>\n",
              "    </tr>\n",
              "    <tr>\n",
              "      <th>2017-12-31</th>\n",
              "      <td>1021000.0</td>\n",
              "    </tr>\n",
              "  </tbody>\n",
              "</table>\n",
              "<p>261 rows × 1 columns</p>\n",
              "</div>\n",
              "      <button class=\"colab-df-convert\" onclick=\"convertToInteractive('df-2d345826-13c9-4c23-9d6b-1f8fbbf43a08')\"\n",
              "              title=\"Convert this dataframe to an interactive table.\"\n",
              "              style=\"display:none;\">\n",
              "        \n",
              "  <svg xmlns=\"http://www.w3.org/2000/svg\" height=\"24px\"viewBox=\"0 0 24 24\"\n",
              "       width=\"24px\">\n",
              "    <path d=\"M0 0h24v24H0V0z\" fill=\"none\"/>\n",
              "    <path d=\"M18.56 5.44l.94 2.06.94-2.06 2.06-.94-2.06-.94-.94-2.06-.94 2.06-2.06.94zm-11 1L8.5 8.5l.94-2.06 2.06-.94-2.06-.94L8.5 2.5l-.94 2.06-2.06.94zm10 10l.94 2.06.94-2.06 2.06-.94-2.06-.94-.94-2.06-.94 2.06-2.06.94z\"/><path d=\"M17.41 7.96l-1.37-1.37c-.4-.4-.92-.59-1.43-.59-.52 0-1.04.2-1.43.59L10.3 9.45l-7.72 7.72c-.78.78-.78 2.05 0 2.83L4 21.41c.39.39.9.59 1.41.59.51 0 1.02-.2 1.41-.59l7.78-7.78 2.81-2.81c.8-.78.8-2.07 0-2.86zM5.41 20L4 18.59l7.72-7.72 1.47 1.35L5.41 20z\"/>\n",
              "  </svg>\n",
              "      </button>\n",
              "      \n",
              "  <style>\n",
              "    .colab-df-container {\n",
              "      display:flex;\n",
              "      flex-wrap:wrap;\n",
              "      gap: 12px;\n",
              "    }\n",
              "\n",
              "    .colab-df-convert {\n",
              "      background-color: #E8F0FE;\n",
              "      border: none;\n",
              "      border-radius: 50%;\n",
              "      cursor: pointer;\n",
              "      display: none;\n",
              "      fill: #1967D2;\n",
              "      height: 32px;\n",
              "      padding: 0 0 0 0;\n",
              "      width: 32px;\n",
              "    }\n",
              "\n",
              "    .colab-df-convert:hover {\n",
              "      background-color: #E2EBFA;\n",
              "      box-shadow: 0px 1px 2px rgba(60, 64, 67, 0.3), 0px 1px 3px 1px rgba(60, 64, 67, 0.15);\n",
              "      fill: #174EA6;\n",
              "    }\n",
              "\n",
              "    [theme=dark] .colab-df-convert {\n",
              "      background-color: #3B4455;\n",
              "      fill: #D2E3FC;\n",
              "    }\n",
              "\n",
              "    [theme=dark] .colab-df-convert:hover {\n",
              "      background-color: #434B5C;\n",
              "      box-shadow: 0px 1px 3px 1px rgba(0, 0, 0, 0.15);\n",
              "      filter: drop-shadow(0px 1px 2px rgba(0, 0, 0, 0.3));\n",
              "      fill: #FFFFFF;\n",
              "    }\n",
              "  </style>\n",
              "\n",
              "      <script>\n",
              "        const buttonEl =\n",
              "          document.querySelector('#df-2d345826-13c9-4c23-9d6b-1f8fbbf43a08 button.colab-df-convert');\n",
              "        buttonEl.style.display =\n",
              "          google.colab.kernel.accessAllowed ? 'block' : 'none';\n",
              "\n",
              "        async function convertToInteractive(key) {\n",
              "          const element = document.querySelector('#df-2d345826-13c9-4c23-9d6b-1f8fbbf43a08');\n",
              "          const dataTable =\n",
              "            await google.colab.kernel.invokeFunction('convertToInteractive',\n",
              "                                                     [key], {});\n",
              "          if (!dataTable) return;\n",
              "\n",
              "          const docLinkHtml = 'Like what you see? Visit the ' +\n",
              "            '<a target=\"_blank\" href=https://colab.research.google.com/notebooks/data_table.ipynb>data table notebook</a>'\n",
              "            + ' to learn more about interactive tables.';\n",
              "          element.innerHTML = '';\n",
              "          dataTable['output_type'] = 'display_data';\n",
              "          await google.colab.output.renderOutput(dataTable, element);\n",
              "          const docLink = document.createElement('div');\n",
              "          docLink.innerHTML = docLinkHtml;\n",
              "          element.appendChild(docLink);\n",
              "        }\n",
              "      </script>\n",
              "    </div>\n",
              "  </div>\n",
              "  "
            ]
          },
          "metadata": {},
          "execution_count": 71
        }
      ]
    },
    {
      "cell_type": "code",
      "source": [
        "plt.plot(Alabama_ts)\n",
        "plt.xlabel('Time')\n",
        "plt.ylabel('Million ISK');"
      ],
      "metadata": {
        "id": "k5Arr8DumB3I",
        "outputId": "8546774d-0bb9-4861-d067-b44af23df5d8",
        "colab": {
          "base_uri": "https://localhost:8080/",
          "height": 290
        }
      },
      "execution_count": 72,
      "outputs": [
        {
          "output_type": "display_data",
          "data": {
            "text/plain": [
              "<Figure size 432x288 with 1 Axes>"
            ],
            "image/png": "[encoded data removed]"
          },
          "metadata": {}
        }
      ]
    },
    {
      "cell_type": "code",
      "source": [
        "plotTS(Alabama_ts, column='Alabama', custom_ylim=(0,6000), title='House_price', xlabel='Date', ylabel='price')"
      ],
      "metadata": {
        "id": "WlWYZLgvnayg"
      },
      "execution_count": null,
      "outputs": []
    },
    {
      "cell_type": "markdown",
      "source": [
        "#Analysis of State,Hawaii"
      ],
      "metadata": {
        "id": "mOOZndUCJPZm"
      }
    },
    {
      "cell_type": "code",
      "source": [
        "plt.plot(Hawaii_ts)\n",
        "plt.xlabel('Time')\n",
        "plt.ylabel('Million ISK');"
      ],
      "metadata": {
        "id": "XhTi0hPgl3L9",
        "outputId": "b489f6fa-9932-4bd8-ec6c-58f421ca4556",
        "colab": {
          "base_uri": "https://localhost:8080/",
          "height": 201
        }
      },
      "execution_count": 68,
      "outputs": [
        {
          "output_type": "error",
          "ename": "NameError",
          "evalue": "ignored",
          "traceback": [
            "\u001b[0;31m---------------------------------------------------------------------------\u001b[0m",
            "\u001b[0;31mNameError\u001b[0m                                 Traceback (most recent call last)",
            "\u001b[0;32m<ipython-input-68-433750491ae4>\u001b[0m in \u001b[0;36m<module>\u001b[0;34m\u001b[0m\n\u001b[0;32m----> 1\u001b[0;31m \u001b[0mplt\u001b[0m\u001b[0;34m.\u001b[0m\u001b[0mplot\u001b[0m\u001b[0;34m(\u001b[0m\u001b[0mHawaii_ts\u001b[0m\u001b[0;34m)\u001b[0m\u001b[0;34m\u001b[0m\u001b[0;34m\u001b[0m\u001b[0m\n\u001b[0m\u001b[1;32m      2\u001b[0m \u001b[0mplt\u001b[0m\u001b[0;34m.\u001b[0m\u001b[0mxlabel\u001b[0m\u001b[0;34m(\u001b[0m\u001b[0;34m'Time'\u001b[0m\u001b[0;34m)\u001b[0m\u001b[0;34m\u001b[0m\u001b[0;34m\u001b[0m\u001b[0m\n\u001b[1;32m      3\u001b[0m \u001b[0mplt\u001b[0m\u001b[0;34m.\u001b[0m\u001b[0mylabel\u001b[0m\u001b[0;34m(\u001b[0m\u001b[0;34m'Million ISK'\u001b[0m\u001b[0;34m)\u001b[0m\u001b[0;34m;\u001b[0m\u001b[0;34m\u001b[0m\u001b[0;34m\u001b[0m\u001b[0m\n",
            "\u001b[0;31mNameError\u001b[0m: name 'Hawaii_ts' is not defined"
          ]
        }
      ]
    },
    {
      "cell_type": "code",
      "source": [
        "Hawaii_ts.plot(figsize=(16,4), title='house price 1996 [Hawaii]')\n",
        "#fig.axes.title.set_size(14)\n",
        "plt.xlabel('Date')\n",
        "plt.ylabel('price')\n",
        "plt.ylim(0,6000)\n",
        "plt.show()"
      ],
      "metadata": {
        "id": "b2V8r3wKJYh1"
      },
      "execution_count": null,
      "outputs": []
    },
    {
      "cell_type": "code",
      "source": [
        "Fs = 1\n",
        "f_per, Pxx_per = signal.periodogram(Hawaii_ts['Hawaii'],Fs,window=None,return_onesided=True,scaling='density')\n",
        "sns.set_style('darkgrid')\n",
        "plt.figure(figsize=(16,6))\n",
        "plt.title('Power Spectral Density [Hawaii]', fontsize=14)\n",
        "plt.plot(f_per[1:],Pxx_per[1:])\n",
        "plt.xlabel('Frequency (Hz)')\n",
        "plt.ylabel('PSD')\n",
        "\n",
        "f_per = f_per[1:]\n",
        "Pxx_per = Pxx_per[1:]\n",
        "peaks = signal.find_peaks(Pxx_per[ f_per >= 0], prominence=np.quantile(Pxx_per, 0.99))[0]\n",
        "peaks_freq = f_per[peaks]\n",
        "peaks_power = Pxx_per[peaks]\n",
        "plt.plot(peaks_freq, peaks_power, 'ro')\n",
        "plt.xlim(0,0.5)\n",
        "plt.show()\n",
        "\n",
        "data = {'Freq':peaks_freq, 'Power':peaks_power}\n",
        "df_PSD = pd.DataFrame(data)\n",
        "df_PSD['Period (year)'] = 1/df_PSD['Freq']\n",
        "display(df_PSD)"
      ],
      "metadata": {
        "colab": {
          "base_uri": "https://localhost:8080/",
          "height": 235
        },
        "id": "pTQ853ZSZpxC",
        "outputId": "815efb41-e2ce-4cd2-adf4-d2732ca72da3"
      },
      "execution_count": 67,
      "outputs": [
        {
          "output_type": "error",
          "ename": "NameError",
          "evalue": "ignored",
          "traceback": [
            "\u001b[0;31m---------------------------------------------------------------------------\u001b[0m",
            "\u001b[0;31mNameError\u001b[0m                                 Traceback (most recent call last)",
            "\u001b[0;32m<ipython-input-67-5945f1381534>\u001b[0m in \u001b[0;36m<module>\u001b[0;34m\u001b[0m\n\u001b[1;32m      1\u001b[0m \u001b[0mFs\u001b[0m \u001b[0;34m=\u001b[0m \u001b[0;36m1\u001b[0m\u001b[0;34m\u001b[0m\u001b[0;34m\u001b[0m\u001b[0m\n\u001b[0;32m----> 2\u001b[0;31m \u001b[0mf_per\u001b[0m\u001b[0;34m,\u001b[0m \u001b[0mPxx_per\u001b[0m \u001b[0;34m=\u001b[0m \u001b[0msignal\u001b[0m\u001b[0;34m.\u001b[0m\u001b[0mperiodogram\u001b[0m\u001b[0;34m(\u001b[0m\u001b[0mHawaii_ts\u001b[0m\u001b[0;34m[\u001b[0m\u001b[0;34m'Hawaii'\u001b[0m\u001b[0;34m]\u001b[0m\u001b[0;34m,\u001b[0m\u001b[0mFs\u001b[0m\u001b[0;34m,\u001b[0m\u001b[0mwindow\u001b[0m\u001b[0;34m=\u001b[0m\u001b[0;32mNone\u001b[0m\u001b[0;34m,\u001b[0m\u001b[0mreturn_onesided\u001b[0m\u001b[0;34m=\u001b[0m\u001b[0;32mTrue\u001b[0m\u001b[0;34m,\u001b[0m\u001b[0mscaling\u001b[0m\u001b[0;34m=\u001b[0m\u001b[0;34m'density'\u001b[0m\u001b[0;34m)\u001b[0m\u001b[0;34m\u001b[0m\u001b[0;34m\u001b[0m\u001b[0m\n\u001b[0m\u001b[1;32m      3\u001b[0m \u001b[0msns\u001b[0m\u001b[0;34m.\u001b[0m\u001b[0mset_style\u001b[0m\u001b[0;34m(\u001b[0m\u001b[0;34m'darkgrid'\u001b[0m\u001b[0;34m)\u001b[0m\u001b[0;34m\u001b[0m\u001b[0;34m\u001b[0m\u001b[0m\n\u001b[1;32m      4\u001b[0m \u001b[0mplt\u001b[0m\u001b[0;34m.\u001b[0m\u001b[0mfigure\u001b[0m\u001b[0;34m(\u001b[0m\u001b[0mfigsize\u001b[0m\u001b[0;34m=\u001b[0m\u001b[0;34m(\u001b[0m\u001b[0;36m16\u001b[0m\u001b[0;34m,\u001b[0m\u001b[0;36m6\u001b[0m\u001b[0;34m)\u001b[0m\u001b[0;34m)\u001b[0m\u001b[0;34m\u001b[0m\u001b[0;34m\u001b[0m\u001b[0m\n\u001b[1;32m      5\u001b[0m \u001b[0mplt\u001b[0m\u001b[0;34m.\u001b[0m\u001b[0mtitle\u001b[0m\u001b[0;34m(\u001b[0m\u001b[0;34m'Power Spectral Density [Hawaii]'\u001b[0m\u001b[0;34m,\u001b[0m \u001b[0mfontsize\u001b[0m\u001b[0;34m=\u001b[0m\u001b[0;36m14\u001b[0m\u001b[0;34m)\u001b[0m\u001b[0;34m\u001b[0m\u001b[0;34m\u001b[0m\u001b[0m\n",
            "\u001b[0;31mNameError\u001b[0m: name 'Hawaii_ts' is not defined"
          ]
        }
      ]
    },
    {
      "cell_type": "markdown",
      "source": [
        "#Stationarity"
      ],
      "metadata": {
        "id": "6UVYVG98oteH"
      }
    },
    {
      "cell_type": "code",
      "source": [
        "def checkStationarity(data, kpss_type = 'ct', return_data=False, ci=.95):\n",
        "    alpha = 1-ci\n",
        "    \n",
        "    if kpss_type in ['c','ct']:\n",
        "        import warnings\n",
        "        warnings.filterwarnings('ignore')\n",
        "        from statsmodels.tsa.stattools import adfuller\n",
        "        from statsmodels.tsa.stattools import kpss\n",
        "\n",
        "        adf_test = adfuller(data,autolag='AIC')\n",
        "        print('*** ADF Test ***')\n",
        "        print('ADF Statistic: ', adf_test[0])\n",
        "        print('p-value: ', adf_test[1])\n",
        "        if adf_test[1] > alpha:\n",
        "            print('Interpretation: The time series is non-stationary (Ho)')\n",
        "        else:\n",
        "            print('Interpretation: The time series is stationary (Ha)')\n",
        "\n",
        "        kpss_test = kpss(data, regression=kpss_type, store=True)\n",
        "        print('\\n*** KPSS Test ***')\n",
        "        print('KPSS Statistic:', kpss_test[0])\n",
        "        print('p-value: ', kpss_test[1])\n",
        "\n",
        "        if kpss_type == 'c':\n",
        "            if kpss_test[1] > alpha:\n",
        "                print('Interpretation: The time series is stationary (Ho)')\n",
        "            else:\n",
        "                print('Interpretation: The time series is not stationary (Ha)')\n",
        "        if kpss_type == 'ct':\n",
        "            if kpss_test[1] > alpha:\n",
        "                print('Interpretation: The time series is trend stationary (Ho)')\n",
        "            else:\n",
        "                print('Interpretation: The time series is not trend stationary (Ha)')\n",
        "    else:\n",
        "        print('KPSS type shuld be c or ct!')\n",
        "        print('c: checks if time series is stationary \\nct: checks if time series is trend stationary')\n",
        "    \n",
        "    if return_data==True:\n",
        "        return (adf_test[0],adf_test[1],kpss_test[0],kpss_test[1])"
      ],
      "metadata": {
        "id": "MjkFoWsEppPH"
      },
      "execution_count": 64,
      "outputs": []
    },
    {
      "cell_type": "code",
      "source": [
        "checkStationarity(Hawaii_ts['Hawaii'], kpss_type='c')"
      ],
      "metadata": {
        "colab": {
          "base_uri": "https://localhost:8080/",
          "height": 166
        },
        "id": "DpzDZm_vosTH",
        "outputId": "44274c7f-a99d-4099-f0be-b5b6aaf6c3a6"
      },
      "execution_count": 65,
      "outputs": [
        {
          "output_type": "error",
          "ename": "NameError",
          "evalue": "ignored",
          "traceback": [
            "\u001b[0;31m---------------------------------------------------------------------------\u001b[0m",
            "\u001b[0;31mNameError\u001b[0m                                 Traceback (most recent call last)",
            "\u001b[0;32m<ipython-input-65-5c43fe9ebfb0>\u001b[0m in \u001b[0;36m<module>\u001b[0;34m\u001b[0m\n\u001b[0;32m----> 1\u001b[0;31m \u001b[0mcheckStationarity\u001b[0m\u001b[0;34m(\u001b[0m\u001b[0mHawaii_ts\u001b[0m\u001b[0;34m[\u001b[0m\u001b[0;34m'Hawaii'\u001b[0m\u001b[0;34m]\u001b[0m\u001b[0;34m,\u001b[0m \u001b[0mkpss_type\u001b[0m\u001b[0;34m=\u001b[0m\u001b[0;34m'c'\u001b[0m\u001b[0;34m)\u001b[0m\u001b[0;34m\u001b[0m\u001b[0;34m\u001b[0m\u001b[0m\n\u001b[0m",
            "\u001b[0;31mNameError\u001b[0m: name 'Hawaii_ts' is not defined"
          ]
        }
      ]
    },
    {
      "cell_type": "code",
      "source": [
        "checkStationarity(Hawaii_ts['Hawaii'], kpss_type='ct')"
      ],
      "metadata": {
        "colab": {
          "base_uri": "https://localhost:8080/",
          "height": 166
        },
        "id": "JBSexUFRqQDK",
        "outputId": "a11d5ca4-b657-4f78-d674-cda15bbb77ac"
      },
      "execution_count": 66,
      "outputs": [
        {
          "output_type": "error",
          "ename": "NameError",
          "evalue": "ignored",
          "traceback": [
            "\u001b[0;31m---------------------------------------------------------------------------\u001b[0m",
            "\u001b[0;31mNameError\u001b[0m                                 Traceback (most recent call last)",
            "\u001b[0;32m<ipython-input-66-4178bb063e5d>\u001b[0m in \u001b[0;36m<module>\u001b[0;34m\u001b[0m\n\u001b[0;32m----> 1\u001b[0;31m \u001b[0mcheckStationarity\u001b[0m\u001b[0;34m(\u001b[0m\u001b[0mHawaii_ts\u001b[0m\u001b[0;34m[\u001b[0m\u001b[0;34m'Hawaii'\u001b[0m\u001b[0;34m]\u001b[0m\u001b[0;34m,\u001b[0m \u001b[0mkpss_type\u001b[0m\u001b[0;34m=\u001b[0m\u001b[0;34m'ct'\u001b[0m\u001b[0;34m)\u001b[0m\u001b[0;34m\u001b[0m\u001b[0;34m\u001b[0m\u001b[0m\n\u001b[0m",
            "\u001b[0;31mNameError\u001b[0m: name 'Hawaii_ts' is not defined"
          ]
        }
      ]
    },
    {
      "cell_type": "code",
      "source": [
        "def checkAutorcorrelation(resid, lags=36, return_data=False):\n",
        "    import pandas as pd\n",
        "    import statsmodels.formula.api as smf\n",
        "    import statsmodels.api as sm\n",
        "    import statsmodels.stats.diagnostic as dg\n",
        "    \n",
        "    #Ljung-Box\n",
        "    lb_result = sm.stats.acorr_ljungbox(resid, lags=[lags], return_df=False)\n",
        "    print(\"*** Ljung-Box Test [{} lags] ***\".format(lags))\n",
        "    print('Q: ', lb_result[0][0])\n",
        "    print('p-value: ' , lb_result[1][0])\n",
        "    if lb_result[1][0]>.05:\n",
        "        print('Interpretation: the residuals are independently distributed (Ho)')\n",
        "    else:\n",
        "        print('Interpretation: The residuals are not independently distributed, they exhibit serial correlation (Ha)')\n",
        "    \n",
        "    #Breusch-Godfrey\n",
        "    resid = pd.DataFrame(resid, columns=['resid'])\n",
        "    resid['step'] = range(len(resid))\n",
        "    fit = smf.ols('resid ~ step', data=resid).fit()\n",
        "    bg_result = dg.acorr_breusch_godfrey(fit, nlags=lags)\n",
        "    print('\\n*** Breusch-Godfrey Test [{} lags] ***'.format(lags))\n",
        "    print('Lagrange multiplier statistic: ', bg_result[0])\n",
        "    print('p-value: ', bg_result[1])\n",
        "    if bg_result[1]>.05:\n",
        "        print('Interpretation: there is no autocorrelation at any order less than or equal to p (Ho)')\n",
        "    else:\n",
        "        print('Interpretation: There exists autocorrelation at some order less than or equal to p (Ha)')\n",
        "    \n",
        "    if return_data==True:\n",
        "        return (lb_result[0][0], lb_result[1][0], bg_result[0], bg_result[1])"
      ],
      "metadata": {
        "id": "L0ZXw0npqpdj"
      },
      "execution_count": null,
      "outputs": []
    },
    {
      "cell_type": "code",
      "source": [
        "\n",
        "autocorrelationPlot(Hawaii_ts['Hawaii'], lags=36)\n",
        "checkAutorcorrelation(Hawaii_ts['Hawaii'].values, lags=36)"
      ],
      "metadata": {
        "id": "gATYFqF-qBne"
      },
      "execution_count": null,
      "outputs": []
    },
    {
      "cell_type": "code",
      "source": [
        "Hawaii_ts['diff_o1'] = np.append([np.nan],np.diff(Hawaii_ts['Hawaii'], n=1))\n",
        "difference1 = Hawaii_ts['diff_o1'].dropna()\n",
        "plt.plot(difference1)"
      ],
      "metadata": {
        "id": "Bz6na6whY2yH"
      },
      "execution_count": null,
      "outputs": []
    },
    {
      "cell_type": "code",
      "source": [
        "checkStationarity(difference1, kpss_type='c')"
      ],
      "metadata": {
        "id": "QxOdZHDWrxGn"
      },
      "execution_count": null,
      "outputs": []
    },
    {
      "cell_type": "code",
      "source": [
        "checkStationarity(difference1, kpss_type='ct')"
      ],
      "metadata": {
        "id": "b0IuoaTilNmW"
      },
      "execution_count": null,
      "outputs": []
    },
    {
      "cell_type": "code",
      "source": [
        "\n",
        "autocorrelationPlot(difference1, lags=36)\n",
        "checkAutorcorrelation(difference1.values, lags=36)"
      ],
      "metadata": {
        "id": "vhKcxaYcYb0c"
      },
      "execution_count": null,
      "outputs": []
    },
    {
      "cell_type": "code",
      "source": [
        "Hawaii_ts['diff_o2'] = np.append([np.nan] * 2,np.diff(Hawaii_ts['Hawaii'], n=2))\n",
        "difference2 = Hawaii_ts['diff_o2'].dropna()\n",
        "plt.plot(difference2)"
      ],
      "metadata": {
        "id": "jGFVJju3lE45"
      },
      "execution_count": null,
      "outputs": []
    },
    {
      "cell_type": "code",
      "source": [
        "checkStationarity(difference2, kpss_type='c')"
      ],
      "metadata": {
        "id": "op1S3Rdpm1Up"
      },
      "execution_count": null,
      "outputs": []
    },
    {
      "cell_type": "code",
      "source": [
        "checkStationarity(difference2, kpss_type='ct')"
      ],
      "metadata": {
        "id": "lAqyM4sxnHjo"
      },
      "execution_count": null,
      "outputs": []
    },
    {
      "cell_type": "markdown",
      "source": [
        "#decomposition"
      ],
      "metadata": {
        "id": "b688CRiyxcrQ"
      }
    },
    {
      "cell_type": "code",
      "source": [
        "from statsmodels.tsa.seasonal import seasonal_decompose"
      ],
      "metadata": {
        "id": "eQrr5JlzxhAO"
      },
      "execution_count": null,
      "outputs": []
    },
    {
      "cell_type": "code",
      "source": [
        "#extracting Monthly seasonality\n",
        "sd_week = seasonal_decompose(Hawaii_ts['Hawaii'], model='additive', period=1, two_sided=True)\n",
        "#extracting yearly seasonality from time series adjusted by Monthly seasonality\n",
        "sd_year = seasonal_decompose(Hawaii_ts['Hawaii'] -  sd_week.seasonal, model='additive', period=12, two_sided=True)"
      ],
      "metadata": {
        "id": "T6WprwFOqt_2"
      },
      "execution_count": null,
      "outputs": []
    },
    {
      "cell_type": "code",
      "source": [
        "f, axes = plt.subplots(4,1,figsize=(18,16))\n",
        "plt.suptitle('Decomposition [Hawaii]', y=0.92, fontsize=14)\n",
        "\n",
        "#plotting trend component\n",
        "axes[0].plot(sd_year.trend)\n",
        "axes[0].set_title('Trend component', fontdict={'fontsize': 12})\n",
        "\n",
        "#plotting weekly seasonal component\n",
        "axes[1].plot(sd_week.seasonal)\n",
        "axes[1].set_title('Monthly seasonal component', fontdict={'fontsize': 12})\n",
        "\n",
        "#plotting yearly seasonal component\n",
        "axes[2].plot(sd_year.seasonal)\n",
        "axes[2].set_title('Yearly seasonal component', fontdict={'fontsize': 12})\n",
        "\n",
        "#plotting residual of decomposition\n",
        "axes[3].plot(sd_year.resid)\n",
        "axes[3].set_title('Residual component', fontdict={'fontsize': 12})\n",
        "\n",
        "for a in axes:\n",
        "    a.set_ylabel('price of Houses/dollar')\n",
        "    a.set_xlim(sd_year.trend.dropna().index[0], sd_year.trend.dropna().index[-1])\n",
        "\n",
        "#showing chart\n",
        "plt.show()"
      ],
      "metadata": {
        "id": "JXRwuifyyDDB"
      },
      "execution_count": null,
      "outputs": []
    },
    {
      "cell_type": "markdown",
      "source": [
        "#dec-residual"
      ],
      "metadata": {
        "id": "8IzY-Wsqyq4t"
      }
    },
    {
      "cell_type": "code",
      "source": [
        "decomp_residuals = pd.DataFrame(sd_year.resid.dropna())\n",
        "plotTS(decomp_residuals, column='resid', figsize=(16,4), title='Residual component [Hawaii]')"
      ],
      "metadata": {
        "id": "BYBLlKnZyqWl"
      },
      "execution_count": null,
      "outputs": []
    },
    {
      "cell_type": "code",
      "source": [
        "qqPlot(decomp_residuals['resid'], title='Residual component [Hawaii]')\n",
        "checkNormality(decomp_residuals)"
      ],
      "metadata": {
        "id": "9Kzjsm65y9Yj"
      },
      "execution_count": null,
      "outputs": []
    },
    {
      "cell_type": "code",
      "source": [
        "checkStationarity(decomp_residuals, kpss_type='c')"
      ],
      "metadata": {
        "id": "_Zb-c9XXzr0z"
      },
      "execution_count": null,
      "outputs": []
    },
    {
      "cell_type": "code",
      "source": [
        "scalelocationPlot(decomp_residuals['resid'], figsize=(16,4))\n",
        "checkHomoscedasticity(decomp_residuals, robust=True)"
      ],
      "metadata": {
        "id": "EMgUOvcqz-IL"
      },
      "execution_count": null,
      "outputs": []
    },
    {
      "cell_type": "code",
      "source": [
        "autocorrelationPlot(decomp_residuals['resid'], lags=30)\n",
        "checkAutorcorrelation(decomp_residuals, lags=30)"
      ],
      "metadata": {
        "id": "XgUiJ_Ya0GJ3"
      },
      "execution_count": null,
      "outputs": []
    },
    {
      "cell_type": "code",
      "source": [],
      "metadata": {
        "id": "bg8ESJ4IHDfO"
      },
      "execution_count": null,
      "outputs": []
    },
    {
      "cell_type": "code",
      "source": [],
      "metadata": {
        "id": "Lty5v600HDV0"
      },
      "execution_count": null,
      "outputs": []
    },
    {
      "cell_type": "code",
      "source": [],
      "metadata": {
        "id": "KeM8ziA8HDMO"
      },
      "execution_count": null,
      "outputs": []
    },
    {
      "cell_type": "code",
      "source": [],
      "metadata": {
        "id": "nVZzVJK-HDBy"
      },
      "execution_count": null,
      "outputs": []
    },
    {
      "cell_type": "code",
      "source": [],
      "metadata": {
        "id": "mr91566DHC2j"
      },
      "execution_count": null,
      "outputs": []
    },
    {
      "cell_type": "code",
      "source": [],
      "metadata": {
        "id": "nqfmNGoVHCpn"
      },
      "execution_count": null,
      "outputs": []
    },
    {
      "cell_type": "code",
      "source": [
        "# Train and test \n",
        "data_train = Hawaii_ts[:-24]['Hawaii'] \n",
        "data_test = Hawaii_ts[-24:]['Hawaii']"
      ],
      "metadata": {
        "id": "WokZkZLQp5Hb"
      },
      "execution_count": null,
      "outputs": []
    },
    {
      "cell_type": "code",
      "source": [
        "plt.figure(figsize=(16,4))\n",
        "plt.plot(data_train, color='blue', label='Train')\n",
        "plt.plot(data_test, color='green', label='Test')\n",
        "plt.xlim(data_train.index[0],data_test.index[-1])\n",
        "plt.title('Train-Test Split [Store 2]', fontsize=14)\n",
        "plt.legend()\n",
        "plt.show()"
      ],
      "metadata": {
        "id": "pLToUs5rp3Gd"
      },
      "execution_count": null,
      "outputs": []
    },
    {
      "cell_type": "code",
      "source": [
        "!pip install pmdarima"
      ],
      "metadata": {
        "id": "12SBFPMJ2GO8"
      },
      "execution_count": null,
      "outputs": []
    },
    {
      "cell_type": "code",
      "source": [
        "from pmdarima import auto_arima"
      ],
      "metadata": {
        "id": "HU1jJuoo0ms6"
      },
      "execution_count": null,
      "outputs": []
    },
    {
      "cell_type": "code",
      "source": [
        "Y_train = Hawaii_ts[:-24]['Hawaii'] \n",
        "X_train = X[:-24]\n",
        "Y_test = Hawaii_ts[-24:]['Hawaii'] \n",
        "X_test = X[-24:]"
      ],
      "metadata": {
        "id": "HT3iIilX28Up"
      },
      "execution_count": null,
      "outputs": []
    }
  ]
}